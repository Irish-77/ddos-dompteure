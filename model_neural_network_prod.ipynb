{
 "cells": [
  {
   "cell_type": "markdown",
   "id": "0d9b307e-53bc-4418-a2d1-55c13ca0a147",
   "metadata": {
    "id": "0d9b307e-53bc-4418-a2d1-55c13ca0a147"
   },
   "source": [
    "# Neural Network"
   ]
  },
  {
   "cell_type": "code",
   "execution_count": 1,
   "id": "iGVh-un7M8zI",
   "metadata": {
    "colab": {
     "base_uri": "https://localhost:8080/"
    },
    "executionInfo": {
     "elapsed": 21365,
     "status": "ok",
     "timestamp": 1624356696020,
     "user": {
      "displayName": "Ron Holzapfel",
      "photoUrl": "",
      "userId": "04075633120250420195"
     },
     "user_tz": -120
    },
    "id": "iGVh-un7M8zI",
    "outputId": "878a2dae-1116-476b-bc53-a11c865a4b26"
   },
   "outputs": [
    {
     "name": "stdout",
     "output_type": "stream",
     "text": [
      "Mounted at /content/drive\n"
     ]
    }
   ],
   "source": [
    "from google.colab import drive\n",
    "drive.mount('/content/drive')"
   ]
  },
  {
   "cell_type": "markdown",
   "id": "c6eb3b35-a59a-4565-8d66-4f4c8b294c4f",
   "metadata": {
    "id": "c6eb3b35-a59a-4565-8d66-4f4c8b294c4f"
   },
   "source": [
    "## Import and Settings"
   ]
  },
  {
   "cell_type": "code",
   "execution_count": 2,
   "id": "f13584e6-9b51-40fe-aba2-6ef196eb29b7",
   "metadata": {
    "executionInfo": {
     "elapsed": 1380,
     "status": "ok",
     "timestamp": 1624357884509,
     "user": {
      "displayName": "Ron Holzapfel",
      "photoUrl": "",
      "userId": "04075633120250420195"
     },
     "user_tz": -120
    },
    "id": "f13584e6-9b51-40fe-aba2-6ef196eb29b7"
   },
   "outputs": [],
   "source": [
    "from sklearn.neural_network import MLPClassifier\n",
    "from sklearn.model_selection import train_test_split\n",
    "from sklearn.metrics import plot_confusion_matrix\n",
    "from joblib import dump\n",
    "import dask.dataframe as dd"
   ]
  },
  {
   "cell_type": "markdown",
   "id": "fa7339c7-b2dc-4c99-a148-5d348e68f1f4",
   "metadata": {
    "id": "fa7339c7-b2dc-4c99-a148-5d348e68f1f4"
   },
   "source": [
    "## Initialise Dataframe"
   ]
  },
  {
   "cell_type": "code",
   "execution_count": 13,
   "id": "d4f9dcb9-cd13-491a-9757-114980000e65",
   "metadata": {
    "executionInfo": {
     "elapsed": 122594,
     "status": "ok",
     "timestamp": 1624380418591,
     "user": {
      "displayName": "Ron Holzapfel",
      "photoUrl": "",
      "userId": "04075633120250420195"
     },
     "user_tz": -120
    },
    "id": "d4f9dcb9-cd13-491a-9757-114980000e65"
   },
   "outputs": [],
   "source": [
    "df = dd.read_csv('drive/MyDrive/work/prepared_ds.csv').compute()"
   ]
  },
  {
   "cell_type": "code",
   "execution_count": 14,
   "id": "342d77d7-97ae-4add-82c2-cd7460128aac",
   "metadata": {
    "colab": {
     "base_uri": "https://localhost:8080/"
    },
    "executionInfo": {
     "elapsed": 14,
     "status": "ok",
     "timestamp": 1624380418595,
     "user": {
      "displayName": "Ron Holzapfel",
      "photoUrl": "",
      "userId": "04075633120250420195"
     },
     "user_tz": -120
    },
    "id": "342d77d7-97ae-4add-82c2-cd7460128aac",
    "outputId": "e00357cc-422c-4409-840b-3f6710608aa4"
   },
   "outputs": [
    {
     "data": {
      "text/plain": [
       "(7568754, 41)"
      ]
     },
     "execution_count": 14,
     "metadata": {
      "tags": []
     },
     "output_type": "execute_result"
    }
   ],
   "source": [
    "df.shape"
   ]
  },
  {
   "cell_type": "markdown",
   "id": "00847c36-4c84-4f45-8ca9-8b42f3aac4d9",
   "metadata": {
    "id": "00847c36-4c84-4f45-8ca9-8b42f3aac4d9"
   },
   "source": [
    "## Train-Test-Split"
   ]
  },
  {
   "cell_type": "code",
   "execution_count": 15,
   "id": "76d3c36a-ee6d-49d9-9211-7f8f3b65e564",
   "metadata": {
    "executionInfo": {
     "elapsed": 12990,
     "status": "ok",
     "timestamp": 1624380431573,
     "user": {
      "displayName": "Ron Holzapfel",
      "photoUrl": "",
      "userId": "04075633120250420195"
     },
     "user_tz": -120
    },
    "id": "76d3c36a-ee6d-49d9-9211-7f8f3b65e564"
   },
   "outputs": [],
   "source": [
    "train, test, train_lbl, test_lbl = train_test_split(df[df.columns[~df.columns.isin(['Unnamed: 0', 'Label'])]], df['Label'], test_size=0.01, random_state=1, shuffle=True)"
   ]
  },
  {
   "cell_type": "markdown",
   "id": "02e19040-ce95-4d6f-9dab-f7d7e5336f17",
   "metadata": {
    "id": "02e19040-ce95-4d6f-9dab-f7d7e5336f17"
   },
   "source": [
    "## Training"
   ]
  },
  {
   "cell_type": "code",
   "execution_count": 11,
   "id": "047a86ee-d2a1-4e3a-b0f7-43c25d2424de",
   "metadata": {
    "colab": {
     "base_uri": "https://localhost:8080/"
    },
    "executionInfo": {
     "elapsed": 22035548,
     "status": "ok",
     "timestamp": 1624380098007,
     "user": {
      "displayName": "Ron Holzapfel",
      "photoUrl": "",
      "userId": "04075633120250420195"
     },
     "user_tz": -120
    },
    "id": "047a86ee-d2a1-4e3a-b0f7-43c25d2424de",
    "outputId": "f30ad398-b631-468b-e2ae-905e68422f36"
   },
   "outputs": [
    {
     "name": "stdout",
     "output_type": "stream",
     "text": [
      "CPU times: user 6h 31min 54s, sys: 1h 51min 12s, total: 8h 23min 6s\n",
      "Wall time: 6h 7min 15s\n"
     ]
    },
    {
     "name": "stderr",
     "output_type": "stream",
     "text": [
      "/usr/local/lib/python3.7/dist-packages/sklearn/neural_network/_multilayer_perceptron.py:470: ConvergenceWarning: lbfgs failed to converge (status=1):\n",
      "STOP: TOTAL NO. of ITERATIONS REACHED LIMIT.\n",
      "\n",
      "Increase the number of iterations (max_iter) or scale the data as shown in:\n",
      "    https://scikit-learn.org/stable/modules/preprocessing.html\n",
      "  self.n_iter_ = _check_optimize_result(\"lbfgs\", opt_res, self.max_iter)\n"
     ]
    }
   ],
   "source": [
    "%%time\n",
    "clf1 = MLPClassifier(solver='lbfgs', random_state=1, max_iter=1000, hidden_layer_sizes=(20, 10, 5), alpha=1e-08, activation='tanh', verbose=True)\n",
    "clf1.fit(train, train_lbl)"
   ]
  },
  {
   "cell_type": "code",
   "execution_count": null,
   "id": "f57a76e1-bc4e-4771-8681-bda99cbd28f1",
   "metadata": {
    "id": "f57a76e1-bc4e-4771-8681-bda99cbd28f1"
   },
   "outputs": [],
   "source": [
    "%%time\n",
    "clf2 = MLPClassifier(solver='lbfgs', random_state=1, max_iter=1000, hidden_layer_sizes=(20, 10, 5), alpha=1e-04, activation='tanh')\n",
    "clf2.fit(train, train_lbl)"
   ]
  },
  {
   "cell_type": "markdown",
   "id": "7957fe3b-e234-4273-957f-edfcc3a935ed",
   "metadata": {
    "id": "7957fe3b-e234-4273-957f-edfcc3a935ed"
   },
   "source": [
    "## Evaluation"
   ]
  },
  {
   "cell_type": "code",
   "execution_count": 21,
   "id": "w5oQyoBxnx37",
   "metadata": {
    "colab": {
     "base_uri": "https://localhost:8080/"
    },
    "executionInfo": {
     "elapsed": 527,
     "status": "ok",
     "timestamp": 1624380496124,
     "user": {
      "displayName": "Ron Holzapfel",
      "photoUrl": "",
      "userId": "04075633120250420195"
     },
     "user_tz": -120
    },
    "id": "w5oQyoBxnx37",
    "outputId": "ffa4ef65-a53f-4b72-fff6-c2bed43f7708"
   },
   "outputs": [
    {
     "data": {
      "text/plain": [
       "0.9980181798964168"
      ]
     },
     "execution_count": 21,
     "metadata": {
      "tags": []
     },
     "output_type": "execute_result"
    }
   ],
   "source": [
    "clf1.score(test, test_lbl)"
   ]
  },
  {
   "cell_type": "code",
   "execution_count": 19,
   "id": "f3324ca5-24bf-48d4-8334-bbb4648ed863",
   "metadata": {
    "colab": {
     "base_uri": "https://localhost:8080/",
     "height": 295
    },
    "executionInfo": {
     "elapsed": 985,
     "status": "ok",
     "timestamp": 1624380474956,
     "user": {
      "displayName": "Ron Holzapfel",
      "photoUrl": "",
      "userId": "04075633120250420195"
     },
     "user_tz": -120
    },
    "id": "f3324ca5-24bf-48d4-8334-bbb4648ed863",
    "outputId": "f17c83ce-c089-40bb-9ee9-cd96ffc4ed60"
   },
   "outputs": [
    {
     "data": {
      "image/png": "[encoded data removed]",
      "text/plain": [
       "<Figure size 432x288 with 2 Axes>"
      ]
     },
     "metadata": {
      "needs_background": "light",
      "tags": []
     },
     "output_type": "display_data"
    }
   ],
   "source": [
    "fig_grid = plot_confusion_matrix(clf1, test, test_lbl, labels=['ddos', 'Benign'])\n",
    "fig_grid.ax_.set_title('Neural Network')\n",
    "fig_grid.figure_.savefig('drive/MyDrive/work/confusion_matrix_nn_1.png')"
   ]
  },
  {
   "cell_type": "code",
   "execution_count": null,
   "id": "77196eb7-a9af-47d1-a00c-7e6510cb7a5b",
   "metadata": {
    "id": "77196eb7-a9af-47d1-a00c-7e6510cb7a5b"
   },
   "outputs": [],
   "source": [
    "fig_random = plot_confusion_matrix(clf2, test, test_lbl, labels=['ddos', 'Benign'])\n",
    "fig_random.ax_.set_title('Neural Network')\n",
    "fig_random.figure_.savefig('img/confusion_matrix_nn_2.png')"
   ]
  },
  {
   "cell_type": "markdown",
   "id": "aec3e95c-1e07-4b39-8a75-359234ddb339",
   "metadata": {
    "id": "aec3e95c-1e07-4b39-8a75-359234ddb339"
   },
   "source": [
    "## Save Model"
   ]
  },
  {
   "cell_type": "code",
   "execution_count": 12,
   "id": "83f64006-7e64-4c5d-a61f-c123c4d7fd51",
   "metadata": {
    "colab": {
     "base_uri": "https://localhost:8080/"
    },
    "executionInfo": {
     "elapsed": 225,
     "status": "ok",
     "timestamp": 1624380204486,
     "user": {
      "displayName": "Ron Holzapfel",
      "photoUrl": "",
      "userId": "04075633120250420195"
     },
     "user_tz": -120
    },
    "id": "83f64006-7e64-4c5d-a61f-c123c4d7fd51",
    "outputId": "75b6c6c0-6f33-4308-c168-64f1a985af73"
   },
   "outputs": [
    {
     "data": {
      "text/plain": [
       "['drive/MyDrive/work/neural_network_1.model']"
      ]
     },
     "execution_count": 12,
     "metadata": {
      "tags": []
     },
     "output_type": "execute_result"
    }
   ],
   "source": [
    "dump(clf1, 'drive/MyDrive/work/neural_network_1.model')"
   ]
  },
  {
   "cell_type": "code",
   "execution_count": null,
   "id": "2a870bab-45e1-4884-9055-b312035e526f",
   "metadata": {
    "id": "2a870bab-45e1-4884-9055-b312035e526f"
   },
   "outputs": [],
   "source": [
    "dump(clf2, 'models/neural_network_2.model')"
   ]
  }
 ],
 "metadata": {
  "colab": {
   "name": "neural_network_prod.ipynb",
   "provenance": []
  },
  "kernelspec": {
   "display_name": "Python 3",
   "language": "python",
   "name": "python3"
  },
  "language_info": {
   "codemirror_mode": {
    "name": "ipython",
    "version": 3
   },
   "file_extension": ".py",
   "mimetype": "text/x-python",
   "name": "python",
   "nbconvert_exporter": "python",
   "pygments_lexer": "ipython3",
   "version": "3.9.1"
  }
 },
 "nbformat": 4,
 "nbformat_minor": 5
}
