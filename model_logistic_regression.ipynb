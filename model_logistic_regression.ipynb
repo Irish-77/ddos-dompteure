{
 "cells": [
  {
   "cell_type": "markdown",
   "id": "0d9b307e-53bc-4418-a2d1-55c13ca0a147",
   "metadata": {},
   "source": [
    "# Logistic Regression"
   ]
  },
  {
   "cell_type": "markdown",
   "id": "c6eb3b35-a59a-4565-8d66-4f4c8b294c4f",
   "metadata": {},
   "source": [
    "## Import and Settings"
   ]
  },
  {
   "cell_type": "code",
   "execution_count": 1,
   "id": "4455ad06-cd84-4334-9ad9-63ec0d9c2db6",
   "metadata": {},
   "outputs": [],
   "source": [
    "import warnings\n",
    "warnings.filterwarnings(\"ignore\")"
   ]
  },
  {
   "cell_type": "code",
   "execution_count": 2,
   "id": "be86842c-949a-4bc0-b0e3-6e09ebc69daa",
   "metadata": {},
   "outputs": [],
   "source": [
    "import numpy as np\n",
    "import seaborn as sns\n",
    "import matplotlib.pyplot as plt"
   ]
  },
  {
   "cell_type": "code",
   "execution_count": 3,
   "id": "ef23f69a-d9ca-41c4-9841-b593913ca5ea",
   "metadata": {},
   "outputs": [],
   "source": [
    "import pandas as pd\n",
    "pd.set_option('display.max_columns', None)\n",
    "pd.set_option('display.max_rows', None)"
   ]
  },
  {
   "cell_type": "code",
   "execution_count": 4,
   "id": "7d844b7c-3a73-4274-9900-6ba4d0f15209",
   "metadata": {},
   "outputs": [],
   "source": [
    "import dask\n",
    "import dask.dataframe as dd\n",
    "import dask.array as da"
   ]
  },
  {
   "cell_type": "code",
   "execution_count": 1,
   "id": "f13584e6-9b51-40fe-aba2-6ef196eb29b7",
   "metadata": {},
   "outputs": [],
   "source": [
    "from sklearn.preprocessing import StandardScaler\n",
    "from sklearn.linear_model import LogisticRegression\n",
    "from sklearn.model_selection import train_test_split\n",
    "from sklearn.decomposition import PCA\n",
    "from sklearn.preprocessing import OneHotEncoder\n",
    "from sklearn.linear_model import LogisticRegression\n",
    "import itertools\n",
    "from sklearn.metrics import confusion_matrix, plot_confusion_matrix\n",
    "from joblib import dump"
   ]
  },
  {
   "cell_type": "code",
   "execution_count": 6,
   "id": "d4f9dcb9-cd13-491a-9757-114980000e65",
   "metadata": {},
   "outputs": [],
   "source": [
    "df = dd.read_csv('prepared_ds.csv')"
   ]
  },
  {
   "cell_type": "markdown",
   "id": "fa7339c7-b2dc-4c99-a148-5d348e68f1f4",
   "metadata": {},
   "source": [
    "## Initialise Sample Dataframe"
   ]
  },
  {
   "cell_type": "code",
   "execution_count": 7,
   "id": "822c0a2b-9c25-41fc-9c07-e56b11b004c5",
   "metadata": {},
   "outputs": [],
   "source": [
    "df_fast = df.sample(frac=0.01, random_state = 1).compute()"
   ]
  },
  {
   "cell_type": "code",
   "execution_count": 7,
   "id": "89e85992-a972-483b-a89e-95fd9a37334e",
   "metadata": {},
   "outputs": [],
   "source": [
    "df_big = df.compute()"
   ]
  },
  {
   "cell_type": "code",
   "execution_count": 8,
   "id": "cc32429f-6600-471f-8ef9-706214d366a1",
   "metadata": {},
   "outputs": [],
   "source": [
    "df = df_fast"
   ]
  },
  {
   "cell_type": "markdown",
   "id": "02e19040-ce95-4d6f-9dab-f7d7e5336f17",
   "metadata": {},
   "source": [
    "## Train-Test-Split"
   ]
  },
  {
   "cell_type": "code",
   "execution_count": 9,
   "id": "61da5685-1dc3-450c-ad01-9ce2c6b0d3f1",
   "metadata": {},
   "outputs": [],
   "source": [
    "train, test, train_lbl, test_lbl = train_test_split(df.loc[:, ~df.columns.isin(['Unnamed: 0', \"Label\"])], df[\"Label\"], test_size=0.2, random_state=1)"
   ]
  },
  {
   "cell_type": "markdown",
   "id": "8731d352-f989-4ebd-a2fb-efaac43bb7d8",
   "metadata": {},
   "source": [
    "## Training"
   ]
  },
  {
   "cell_type": "code",
   "execution_count": 10,
   "id": "fb085b4b-0bcd-4bdd-a4e4-2593dbd1b9d1",
   "metadata": {},
   "outputs": [],
   "source": [
    "penalty = ['l1', 'l2', 'elasticnet', 'none']\n",
    "solver = ['newton-cg', 'lbfgs', 'liblinear', 'sag', 'saga']\n",
    "multi_class = ['auto', 'ovr', 'multinomial']"
   ]
  },
  {
   "cell_type": "code",
   "execution_count": 11,
   "id": "f7b7a113-3c20-42f2-b412-23da036d1b8b",
   "metadata": {},
   "outputs": [],
   "source": [
    "scores = []\n",
    "for k, g, d in list(itertools.product(penalty, solver, multi_class)):\n",
    "    try:\n",
    "        clf = LogisticRegression(penalty = k, solver=g, multi_class=d)\n",
    "        clf.fit(train, train_lbl)\n",
    "        score = clf.score(test, test_lbl)\n",
    "    except:\n",
    "        score = -1\n",
    "    s = f\"penalty: {k}, solver: {g}, multi_class: {d}\"\n",
    "    scores.append([score, s])"
   ]
  },
  {
   "cell_type": "code",
   "execution_count": 12,
   "id": "f6e69813-19b4-4336-8462-88a973fa320a",
   "metadata": {},
   "outputs": [
    {
     "name": "stdout",
     "output_type": "stream",
     "text": [
      "60\n",
      "0.9842657342657343 penalty: none, solver: newton-cg, multi_class: ovr\n",
      "0.9842657342657343 penalty: none, solver: newton-cg, multi_class: multinomial\n",
      "0.9842657342657343 penalty: none, solver: newton-cg, multi_class: auto\n",
      "0.9823717948717948 penalty: l1, solver: liblinear, multi_class: ovr\n",
      "0.9819347319347319 penalty: l1, solver: liblinear, multi_class: auto\n",
      "0.9709353146853147 penalty: l2, solver: lbfgs, multi_class: multinomial\n",
      "0.9708624708624709 penalty: none, solver: lbfgs, multi_class: multinomial\n",
      "0.9705710955710956 penalty: l2, solver: lbfgs, multi_class: ovr\n",
      "0.9705710955710956 penalty: l2, solver: lbfgs, multi_class: auto\n",
      "0.9704254079254079 penalty: l2, solver: newton-cg, multi_class: ovr\n"
     ]
    }
   ],
   "source": [
    "scores.sort(reverse = True)\n",
    "print(len(scores))\n",
    "for score, string in scores[:10]:\n",
    "    print(score, string)"
   ]
  },
  {
   "cell_type": "markdown",
   "id": "6e30c7b1-5b33-4c3d-bad7-c643e4ebb31b",
   "metadata": {},
   "source": [
    "## Evaluation"
   ]
  },
  {
   "cell_type": "code",
   "execution_count": 20,
   "id": "d5d52863-5cc2-4c27-8fc9-e8c98e1517ae",
   "metadata": {},
   "outputs": [
    {
     "data": {
      "text/plain": [
       "0.9705710955710956"
      ]
     },
     "execution_count": 20,
     "metadata": {},
     "output_type": "execute_result"
    }
   ],
   "source": [
    "model.score(test, test_lbl)"
   ]
  },
  {
   "cell_type": "code",
   "execution_count": 14,
   "id": "4b215ceb-14c4-43c6-afb9-aa7d44f188bc",
   "metadata": {},
   "outputs": [
    {
     "data": {
      "text/plain": [
       "<sklearn.metrics._plot.confusion_matrix.ConfusionMatrixDisplay at 0x1bccb6440a0>"
      ]
     },
     "execution_count": 14,
     "metadata": {},
     "output_type": "execute_result"
    },
    {
     "data": {
      "image/png": "[encoded data removed]",
      "text/plain": [
       "<Figure size 432x288 with 2 Axes>"
      ]
     },
     "metadata": {
      "needs_background": "light"
     },
     "output_type": "display_data"
    }
   ],
   "source": [
    "plot_confusion_matrix(clf, test, test_lbl, labels=['ddos', 'Benign'])"
   ]
  },
  {
   "cell_type": "markdown",
   "id": "a772321c-2233-419a-b31b-5a0682ab17da",
   "metadata": {},
   "source": [
    "## Save Model"
   ]
  },
  {
   "cell_type": "code",
   "execution_count": null,
   "id": "0cf1886b-22eb-4380-a0e3-fb315112cd30",
   "metadata": {},
   "outputs": [],
   "source": [
    "dump(clf, 'models/logistic_regression.model')"
   ]
  }
 ],
 "metadata": {
  "kernelspec": {
   "display_name": "Python 3",
   "language": "python",
   "name": "python3"
  },
  "language_info": {
   "codemirror_mode": {
    "name": "ipython",
    "version": 3
   },
   "file_extension": ".py",
   "mimetype": "text/x-python",
   "name": "python",
   "nbconvert_exporter": "python",
   "pygments_lexer": "ipython3",
   "version": "3.9.1"
  }
 },
 "nbformat": 4,
 "nbformat_minor": 5
}
