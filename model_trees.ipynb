{
 "cells": [
  {
   "cell_type": "markdown",
   "id": "0d9b307e-53bc-4418-a2d1-55c13ca0a147",
   "metadata": {},
   "source": [
    "# Decision Trees "
   ]
  },
  {
   "cell_type": "markdown",
   "id": "5e142f62-d6a6-4053-9378-11fe18fee55f",
   "metadata": {},
   "source": [
    "## Abstract\n",
    "This notebook first trains different decision trees with different parameters and ensemble methods on a small data set. \n",
    "The following models were trained:\n",
    "- Decision Tree\n",
    "- Gradient Boosting Classifier\n",
    "- Random Forest Trees\n",
    "- AdaBoost\n",
    "\n",
    "Finally, we trained three models on the complete dataset (still using train/test).\n",
    "Following scores were archieved:\n",
    "\n",
    "Ranking | Model | Score \n",
    "--- | --- | ---\n",
    "1 | Random Forest Classifier with AdaBoost | 0.9998625929892037\n",
    "2 | Random Forest Classifier | 0.9998540050510288\n",
    "3 | Decision Tree Classifier with AdaBoost | 0.9998454171128541\n",
    "\n"
   ]
  },
  {
   "cell_type": "markdown",
   "id": "c6eb3b35-a59a-4565-8d66-4f4c8b294c4f",
   "metadata": {},
   "source": [
    "## Import and Settings"
   ]
  },
  {
   "cell_type": "code",
   "execution_count": 1,
   "id": "4455ad06-cd84-4334-9ad9-63ec0d9c2db6",
   "metadata": {},
   "outputs": [],
   "source": [
    "import warnings\n",
    "warnings.filterwarnings(\"ignore\")"
   ]
  },
  {
   "cell_type": "code",
   "execution_count": 2,
   "id": "be86842c-949a-4bc0-b0e3-6e09ebc69daa",
   "metadata": {},
   "outputs": [],
   "source": [
    "import numpy as np\n",
    "import seaborn as sns\n",
    "import matplotlib.pyplot as plt\n",
    "import itertools\n",
    "from joblib import dump, load"
   ]
  },
  {
   "cell_type": "code",
   "execution_count": 3,
   "id": "ef23f69a-d9ca-41c4-9841-b593913ca5ea",
   "metadata": {},
   "outputs": [],
   "source": [
    "import pandas as pd\n",
    "pd.set_option('display.max_columns', None)\n",
    "pd.set_option('display.max_rows', None)"
   ]
  },
  {
   "cell_type": "code",
   "execution_count": 4,
   "id": "7d844b7c-3a73-4274-9900-6ba4d0f15209",
   "metadata": {},
   "outputs": [],
   "source": [
    "import dask\n",
    "import dask.dataframe as dd\n",
    "import dask.array as da"
   ]
  },
  {
   "cell_type": "code",
   "execution_count": 5,
   "id": "f13584e6-9b51-40fe-aba2-6ef196eb29b7",
   "metadata": {},
   "outputs": [],
   "source": [
    "from sklearn.model_selection import train_test_split\n",
    "from sklearn.metrics import confusion_matrix\n",
    "from sklearn import tree\n",
    "from sklearn.ensemble import GradientBoostingClassifier, RandomForestClassifier, AdaBoostClassifier, BaggingClassifier, VotingClassifier\n",
    "from sklearn.calibration import CalibratedClassifierCV\n",
    "from sklearn.metrics import confusion_matrix, plot_confusion_matrix\n",
    "from sklearn.model_selection import RandomizedSearchCV"
   ]
  },
  {
   "cell_type": "code",
   "execution_count": 2,
   "id": "a725ef1a-3cc9-4e70-acd9-fb2a6a7f73d4",
   "metadata": {},
   "outputs": [],
   "source": [
    "df = dd.read_csv('datasets/prepared_ds.csv')"
   ]
  },
  {
   "cell_type": "markdown",
   "id": "fa7339c7-b2dc-4c99-a148-5d348e68f1f4",
   "metadata": {},
   "source": [
    "## Initialise Sample Dataframe"
   ]
  },
  {
   "cell_type": "code",
   "execution_count": 7,
   "id": "a725ef1a-3cc9-4e70-acd9-fb2a6a7f73d4",
   "metadata": {},
   "outputs": [],
   "source": [
    "df_fast = df.sample(frac=0.01, random_state = 1).compute()"
   ]
  },
  {
   "cell_type": "markdown",
   "id": "e53155db-bcf5-4843-8334-b07e0b850a8c",
   "metadata": {},
   "source": [
    "## Train-Test-Split"
   ]
  },
  {
   "cell_type": "code",
   "execution_count": 37,
   "id": "9a76b90c-43ed-400f-b901-a5210b7c79ea",
   "metadata": {},
   "outputs": [],
   "source": [
    "train, test, train_lbl, test_lbl = train_test_split(df_fast.loc[:, ~df_fast.columns.isin(['Unnamed: 0', \"Label\"])], df_fast[\"Label\"], test_size=0.2, random_state=1)\n",
    "X = df_fast.loc[:, ~df_fast.columns.isin(['Unnamed: 0', \"Label\"])]\n",
    "y = df_fast[\"Label\"]"
   ]
  },
  {
   "cell_type": "markdown",
   "id": "2c1b3151-6414-4fe3-95d4-879c763b0917",
   "metadata": {},
   "source": [
    "## Models"
   ]
  },
  {
   "cell_type": "code",
   "execution_count": 12,
   "id": "bfc67455-5f70-4ef9-b8a6-937ce94bb3f5",
   "metadata": {},
   "outputs": [
    {
     "name": "stdout",
     "output_type": "stream",
     "text": [
      "0.9964981830194912\n"
     ]
    },
    {
     "data": {
      "image/png": "[encoded data removed]",
      "text/plain": [
       "<Figure size 432x288 with 2 Axes>"
      ]
     },
     "metadata": {
      "needs_background": "light"
     },
     "output_type": "display_data"
    }
   ],
   "source": [
    "# Default Tree\n",
    "clf = tree.DecisionTreeClassifier()\n",
    "clf.fit(train, train_lbl)\n",
    "score = clf.score(test, test_lbl)\n",
    "print(score)\n",
    "plot_confusion_matrix(clf, test, test_lbl, labels=['ddos', 'Benign']);"
   ]
  },
  {
   "cell_type": "code",
   "execution_count": 13,
   "id": "b9e5d4eb-b001-4e35-b9fb-d20f74bc9ba8",
   "metadata": {},
   "outputs": [],
   "source": [
    "# Settings\n",
    "criterion = [\"gini\", \"entropy\"]\n",
    "splitter = [\"best\", \"random\"]"
   ]
  },
  {
   "cell_type": "code",
   "execution_count": 43,
   "id": "c74f7a61-8180-404c-b746-f74623bcd3a0",
   "metadata": {},
   "outputs": [],
   "source": [
    "scores = []\n",
    "found = False\n",
    "best_clf = None\n",
    "while not found:\n",
    "    for c, s in list(itertools.product(criterion, splitter)):\n",
    "        clf = tree.DecisionTreeClassifier()\n",
    "        clf.fit(train, train_lbl)\n",
    "        score = clf.score(test, test_lbl)\n",
    "        string = f\"criterion: {c}, splitter: {s}\"\n",
    "        scores.append([score, string])\n",
    "        if score > 0.997:\n",
    "            best_clf = clf\n",
    "            found = True\n",
    "            dump(clf, f\"models/decision_tree_{score}.model\")"
   ]
  },
  {
   "cell_type": "code",
   "execution_count": 29,
   "id": "f4f364b2-4ce6-4cf6-94bb-86741501c12b",
   "metadata": {},
   "outputs": [
    {
     "name": "stdout",
     "output_type": "stream",
     "text": [
      "8\n",
      "0.9970267591674926 criterion: gini, splitter: random\n",
      "0.9968946151304923 criterion: gini, splitter: random\n",
      "0.9966963990749917 criterion: entropy, splitter: best\n",
      "0.9965642550379914 criterion: gini, splitter: best\n",
      "0.9965642550379914 criterion: entropy, splitter: random\n",
      "0.9965642550379914 criterion: entropy, splitter: best\n",
      "0.9964981830194912 criterion: gini, splitter: best\n",
      "0.9964981830194912 criterion: entropy, splitter: random\n"
     ]
    }
   ],
   "source": [
    "scores.sort(reverse = True)\n",
    "print(len(scores))\n",
    "for score, string in scores[:10]:\n",
    "    print(score, string)"
   ]
  },
  {
   "cell_type": "code",
   "execution_count": 44,
   "id": "8af2137b-7a10-45f0-8ed2-a6bccbf62f6e",
   "metadata": {},
   "outputs": [
    {
     "name": "stdout",
     "output_type": "stream",
     "text": [
      "0.9970267591674926\n"
     ]
    },
    {
     "data": {
      "image/png": "[encoded data removed]",
      "text/plain": [
       "<Figure size 432x288 with 2 Axes>"
      ]
     },
     "metadata": {
      "needs_background": "light"
     },
     "output_type": "display_data"
    }
   ],
   "source": [
    "print(best_clf.score(test, test_lbl))\n",
    "plot_confusion_matrix(best_clf, test, test_lbl, labels=['ddos', 'Benign']);"
   ]
  },
  {
   "cell_type": "markdown",
   "id": "a1b37f32-87da-4116-9570-42903c605288",
   "metadata": {},
   "source": [
    "# Ensemble Methods"
   ]
  },
  {
   "cell_type": "markdown",
   "id": "32615983-fb9e-416f-806f-e835015efeae",
   "metadata": {},
   "source": [
    "## GradientBoostingClassifier"
   ]
  },
  {
   "cell_type": "code",
   "execution_count": 14,
   "id": "8260e520-1695-40fd-bd49-632943b53071",
   "metadata": {},
   "outputs": [],
   "source": [
    "loss = [\"deviance\", \"exponential\"]\n",
    "learning_rate = [0.05, 0.1, 0.2, 1]\n",
    "n_estimators = [90, 100, 130, 200]\n",
    "criterion = [\"friedman_mse\", \"mse\", \"mae\"]"
   ]
  },
  {
   "cell_type": "code",
   "execution_count": null,
   "id": "74ef7e9f-2d79-4026-abb0-8117673c581d",
   "metadata": {},
   "outputs": [],
   "source": [
    "scores_gdc = []\n",
    "for l, lr, n, c in list(itertools.product(loss, learning_rate, n_estimators, criterion)):\n",
    "    clf = GradientBoostingClassifier(loss = l, learning_rate = lr, n_estimators = n, criterion = c)\n",
    "    clf.fit(train, train_lbl)\n",
    "    score = clf.score(test, test_lbl)\n",
    "    string = f\"loss: {l}, learning_rate: {lr}, n_estimators: {n}, criterion: {c}\"\n",
    "    scores_gdc.append([score, string])\n",
    "    print(\"-\")"
   ]
  },
  {
   "cell_type": "code",
   "execution_count": 16,
   "id": "f6c15733-4a2a-48b2-aa6c-7c95ed3ec91b",
   "metadata": {
    "scrolled": true,
    "tags": []
   },
   "outputs": [
    {
     "name": "stdout",
     "output_type": "stream",
     "text": [
      "2\n",
      "0.9896927651139742 loss: deviance, learning_rate: 0.05, n_estimators: 90, criterion: mse\n",
      "0.9896927651139742 loss: deviance, learning_rate: 0.05, n_estimators: 90, criterion: friedman_mse\n"
     ]
    }
   ],
   "source": [
    "scores_gdc.sort(reverse = True)\n",
    "print(len(scores_gdc))\n",
    "for score, string in scores_gdc[:]:\n",
    "    print(score, string)"
   ]
  },
  {
   "cell_type": "code",
   "execution_count": 45,
   "id": "0a33a6ab-b7a8-45fb-875f-c150ae581130",
   "metadata": {},
   "outputs": [
    {
     "name": "stdout",
     "output_type": "stream",
     "text": [
      "0.9961678229269905\n"
     ]
    },
    {
     "data": {
      "image/png": "[encoded data removed]",
      "text/plain": [
       "<Figure size 432x288 with 2 Axes>"
      ]
     },
     "metadata": {
      "needs_background": "light"
     },
     "output_type": "display_data"
    }
   ],
   "source": [
    "clf = GradientBoostingClassifier(loss = \"deviance\", learning_rate = 0.08, n_estimators = 200, criterion = \"mse\")\n",
    "clf.fit(train, train_lbl)\n",
    "score = clf.score(test, test_lbl)\n",
    "print(clf.score(test, test_lbl))\n",
    "plot_confusion_matrix(clf, test, test_lbl, labels=['ddos', 'Benign']);"
   ]
  },
  {
   "cell_type": "markdown",
   "id": "49bcbf83-bd0b-479e-9ed7-f9ee07b10d5d",
   "metadata": {},
   "source": [
    "## Random Trees"
   ]
  },
  {
   "cell_type": "code",
   "execution_count": 32,
   "id": "b6bd61c1-26f2-46ed-8566-4a0ee18f04e3",
   "metadata": {},
   "outputs": [],
   "source": [
    "n_estimators = np.linspace(10, 300, 20).astype(int)\n",
    "bootstrap = [True, False] \n",
    "criterion = [\"gini\", \"entropy\"]"
   ]
  },
  {
   "cell_type": "code",
   "execution_count": null,
   "id": "06e41de6-064c-49d4-a451-eb59fe4b64bc",
   "metadata": {},
   "outputs": [],
   "source": [
    "scores_rt = []\n",
    "for c, b, n in list(itertools.product(criterion, bootstrap, n_estimators)):\n",
    "    clf = RandomForestClassifier(criterion = c, bootstrap = b, n_estimators = n)\n",
    "    clf.fit(train2, train_lbl2)\n",
    "    score = clf.score(test2, test_lbl2)\n",
    "    string = f\"criterion: {c}, bootstrap: {b}, n_estimators: {n}\"\n",
    "    scores_rt.append([score, string])"
   ]
  },
  {
   "cell_type": "code",
   "execution_count": 23,
   "id": "f3daf39a-de98-4a22-8d04-fa6232b367d4",
   "metadata": {},
   "outputs": [
    {
     "name": "stdout",
     "output_type": "stream",
     "text": [
      "80\n",
      "0.9986785596299967 criterion: entropy, bootstrap: False, n_estimators: 40\n",
      "0.9986124876114966 criterion: entropy, bootstrap: False, n_estimators: 25\n",
      "0.9985464155929964 criterion: gini, bootstrap: False, n_estimators: 71\n",
      "0.9985464155929964 criterion: gini, bootstrap: False, n_estimators: 300\n",
      "0.9985464155929964 criterion: gini, bootstrap: False, n_estimators: 254\n",
      "0.9985464155929964 criterion: entropy, bootstrap: True, n_estimators: 177\n",
      "0.9985464155929964 criterion: entropy, bootstrap: True, n_estimators: 147\n",
      "0.9985464155929964 criterion: entropy, bootstrap: False, n_estimators: 300\n",
      "0.9985464155929964 criterion: entropy, bootstrap: False, n_estimators: 284\n",
      "0.9985464155929964 criterion: entropy, bootstrap: False, n_estimators: 269\n"
     ]
    }
   ],
   "source": [
    "# df_fast 0.01\n",
    "scores_rt.sort(reverse = True)\n",
    "print(len(scores_rt))\n",
    "for score, string in scores_rt[:10]:\n",
    "    print(score, string)"
   ]
  },
  {
   "cell_type": "code",
   "execution_count": 59,
   "id": "1a0b05c1-b265-4f9e-9c9d-00a43b7189e1",
   "metadata": {},
   "outputs": [
    {
     "data": {
      "text/plain": [
       "['models/998414271555996.joblib']"
      ]
     },
     "execution_count": 59,
     "metadata": {},
     "output_type": "execute_result"
    }
   ],
   "source": [
    "clf = RandomForestClassifier(criterion = \"entropy\", bootstrap = False, n_estimators = 40)\n",
    "clf.fit(train2, train_lbl2)\n",
    "score = clf.score(test2, test_lbl2)\n",
    "string_score = str(score).replace(\"0.\", \"\")\n",
    "dump(clf, f'models/{string_score}.model') "
   ]
  },
  {
   "cell_type": "code",
   "execution_count": 47,
   "id": "b18dede4-e769-43a5-a0b2-b43ec69d317e",
   "metadata": {},
   "outputs": [
    {
     "name": "stdout",
     "output_type": "stream",
     "text": [
      "0.9984803435744962\n"
     ]
    },
    {
     "data": {
      "image/png": "[encoded data removed]",
      "text/plain": [
       "<Figure size 432x288 with 2 Axes>"
      ]
     },
     "metadata": {
      "needs_background": "light"
     },
     "output_type": "display_data"
    }
   ],
   "source": [
    "print(clf.score(test2, test_lbl2))\n",
    "plot_confusion_matrix(clf, test2, test_lbl2, labels=['ddos', 'Benign']);"
   ]
  },
  {
   "cell_type": "markdown",
   "id": "bb8f0a4d-e27d-4f2c-97e6-51c3c617d98b",
   "metadata": {},
   "source": [
    "## AdaBoost\n",
    "First, we train a decision tree using AdaBoost in combination with Random Grid Search. Afterwards, the same is trained again with a Random Forest Tree. "
   ]
  },
  {
   "cell_type": "code",
   "execution_count": 29,
   "id": "f184e784-c77b-43ea-97d1-21af8e13ae8a",
   "metadata": {},
   "outputs": [
    {
     "data": {
      "text/html": [
       "<div>\n",
       "<style scoped>\n",
       "    .dataframe tbody tr th:only-of-type {\n",
       "        vertical-align: middle;\n",
       "    }\n",
       "\n",
       "    .dataframe tbody tr th {\n",
       "        vertical-align: top;\n",
       "    }\n",
       "\n",
       "    .dataframe thead th {\n",
       "        text-align: right;\n",
       "    }\n",
       "</style>\n",
       "<table border=\"1\" class=\"dataframe\">\n",
       "  <thead>\n",
       "    <tr style=\"text-align: right;\">\n",
       "      <th></th>\n",
       "      <th>mean_fit_time</th>\n",
       "      <th>std_fit_time</th>\n",
       "      <th>mean_score_time</th>\n",
       "      <th>std_score_time</th>\n",
       "      <th>param_base_estimator__splitter</th>\n",
       "      <th>param_base_estimator__criterion</th>\n",
       "      <th>params</th>\n",
       "      <th>split0_test_score</th>\n",
       "      <th>split1_test_score</th>\n",
       "      <th>split2_test_score</th>\n",
       "      <th>split3_test_score</th>\n",
       "      <th>split4_test_score</th>\n",
       "      <th>mean_test_score</th>\n",
       "      <th>std_test_score</th>\n",
       "      <th>rank_test_score</th>\n",
       "    </tr>\n",
       "  </thead>\n",
       "  <tbody>\n",
       "    <tr>\n",
       "      <th>0</th>\n",
       "      <td>2.407470</td>\n",
       "      <td>0.187034</td>\n",
       "      <td>0.049999</td>\n",
       "      <td>0.006356</td>\n",
       "      <td>best</td>\n",
       "      <td>gini</td>\n",
       "      <td>{'base_estimator__splitter': 'best', 'base_est...</td>\n",
       "      <td>0.997275</td>\n",
       "      <td>0.996696</td>\n",
       "      <td>0.996283</td>\n",
       "      <td>0.997192</td>\n",
       "      <td>0.996944</td>\n",
       "      <td>0.996878</td>\n",
       "      <td>0.000360</td>\n",
       "      <td>4</td>\n",
       "    </tr>\n",
       "    <tr>\n",
       "      <th>1</th>\n",
       "      <td>0.351398</td>\n",
       "      <td>0.069019</td>\n",
       "      <td>0.046999</td>\n",
       "      <td>0.003163</td>\n",
       "      <td>random</td>\n",
       "      <td>gini</td>\n",
       "      <td>{'base_estimator__splitter': 'random', 'base_e...</td>\n",
       "      <td>0.997357</td>\n",
       "      <td>0.997770</td>\n",
       "      <td>0.996201</td>\n",
       "      <td>0.996944</td>\n",
       "      <td>0.997687</td>\n",
       "      <td>0.997192</td>\n",
       "      <td>0.000575</td>\n",
       "      <td>2</td>\n",
       "    </tr>\n",
       "    <tr>\n",
       "      <th>2</th>\n",
       "      <td>2.320411</td>\n",
       "      <td>0.140436</td>\n",
       "      <td>0.043197</td>\n",
       "      <td>0.001601</td>\n",
       "      <td>best</td>\n",
       "      <td>entropy</td>\n",
       "      <td>{'base_estimator__splitter': 'best', 'base_est...</td>\n",
       "      <td>0.997027</td>\n",
       "      <td>0.997687</td>\n",
       "      <td>0.996531</td>\n",
       "      <td>0.996861</td>\n",
       "      <td>0.996696</td>\n",
       "      <td>0.996961</td>\n",
       "      <td>0.000399</td>\n",
       "      <td>3</td>\n",
       "    </tr>\n",
       "    <tr>\n",
       "      <th>3</th>\n",
       "      <td>0.273199</td>\n",
       "      <td>0.014986</td>\n",
       "      <td>0.050798</td>\n",
       "      <td>0.006338</td>\n",
       "      <td>random</td>\n",
       "      <td>entropy</td>\n",
       "      <td>{'base_estimator__splitter': 'random', 'base_e...</td>\n",
       "      <td>0.997770</td>\n",
       "      <td>0.997440</td>\n",
       "      <td>0.997357</td>\n",
       "      <td>0.997770</td>\n",
       "      <td>0.997605</td>\n",
       "      <td>0.997588</td>\n",
       "      <td>0.000168</td>\n",
       "      <td>1</td>\n",
       "    </tr>\n",
       "  </tbody>\n",
       "</table>\n",
       "</div>"
      ],
      "text/plain": [
       "   mean_fit_time  std_fit_time  mean_score_time  std_score_time  \\\n",
       "0       2.407470      0.187034         0.049999        0.006356   \n",
       "1       0.351398      0.069019         0.046999        0.003163   \n",
       "2       2.320411      0.140436         0.043197        0.001601   \n",
       "3       0.273199      0.014986         0.050798        0.006338   \n",
       "\n",
       "  param_base_estimator__splitter param_base_estimator__criterion  \\\n",
       "0                           best                            gini   \n",
       "1                         random                            gini   \n",
       "2                           best                         entropy   \n",
       "3                         random                         entropy   \n",
       "\n",
       "                                              params  split0_test_score  \\\n",
       "0  {'base_estimator__splitter': 'best', 'base_est...           0.997275   \n",
       "1  {'base_estimator__splitter': 'random', 'base_e...           0.997357   \n",
       "2  {'base_estimator__splitter': 'best', 'base_est...           0.997027   \n",
       "3  {'base_estimator__splitter': 'random', 'base_e...           0.997770   \n",
       "\n",
       "   split1_test_score  split2_test_score  split3_test_score  split4_test_score  \\\n",
       "0           0.996696           0.996283           0.997192           0.996944   \n",
       "1           0.997770           0.996201           0.996944           0.997687   \n",
       "2           0.997687           0.996531           0.996861           0.996696   \n",
       "3           0.997440           0.997357           0.997770           0.997605   \n",
       "\n",
       "   mean_test_score  std_test_score  rank_test_score  \n",
       "0         0.996878        0.000360                4  \n",
       "1         0.997192        0.000575                2  \n",
       "2         0.996961        0.000399                3  \n",
       "3         0.997588        0.000168                1  "
      ]
     },
     "execution_count": 29,
     "metadata": {},
     "output_type": "execute_result"
    }
   ],
   "source": [
    "param_distributions = {\"base_estimator__criterion\" : [\"gini\", \"entropy\"],\n",
    "              \"base_estimator__splitter\" :   [\"best\", \"random\"]\n",
    "             }\n",
    "\n",
    "DTC = tree.DecisionTreeClassifier()\n",
    "\n",
    "ABC = AdaBoostClassifier(base_estimator = DTC)\n",
    "\n",
    "# run random grid search\n",
    "grid_search_ABC = RandomizedSearchCV(ABC, param_distributions=param_distributions, n_iter=4)\n",
    "grid_search_ABC.fit(train, train_lbl)\n",
    "pd.DataFrame.from_dict(grid_search_ABC.cv_results_)"
   ]
  },
  {
   "cell_type": "code",
   "execution_count": 38,
   "id": "89a4b396-f99f-4657-b45c-e871620311ca",
   "metadata": {
    "scrolled": true,
    "tags": []
   },
   "outputs": [
    {
     "name": "stdout",
     "output_type": "stream",
     "text": [
      "Fitting 5 folds for each of 10 candidates, totalling 50 fits\n",
      "[CV 1/5; 1/10] START base_estimator__bootstrap=False, base_estimator__criterion=gini, base_estimator__n_estimators=223\n",
      "[CV 1/5; 1/10] END base_estimator__bootstrap=False, base_estimator__criterion=gini, base_estimator__n_estimators=223;, score=0.999 total time= 1.1min\n",
      "[CV 2/5; 1/10] START base_estimator__bootstrap=False, base_estimator__criterion=gini, base_estimator__n_estimators=223\n",
      "[CV 2/5; 1/10] END base_estimator__bootstrap=False, base_estimator__criterion=gini, base_estimator__n_estimators=223;, score=0.998 total time= 1.1min\n",
      "[CV 3/5; 1/10] START base_estimator__bootstrap=False, base_estimator__criterion=gini, base_estimator__n_estimators=223\n",
      "[CV 3/5; 1/10] END base_estimator__bootstrap=False, base_estimator__criterion=gini, base_estimator__n_estimators=223;, score=0.999 total time= 1.0min\n",
      "[CV 4/5; 1/10] START base_estimator__bootstrap=False, base_estimator__criterion=gini, base_estimator__n_estimators=223\n",
      "[CV 4/5; 1/10] END base_estimator__bootstrap=False, base_estimator__criterion=gini, base_estimator__n_estimators=223;, score=0.999 total time= 1.1min\n",
      "[CV 5/5; 1/10] START base_estimator__bootstrap=False, base_estimator__criterion=gini, base_estimator__n_estimators=223\n",
      "[CV 5/5; 1/10] END base_estimator__bootstrap=False, base_estimator__criterion=gini, base_estimator__n_estimators=223;, score=0.998 total time= 1.1min\n",
      "[CV 1/5; 2/10] START base_estimator__bootstrap=True, base_estimator__criterion=gini, base_estimator__n_estimators=101\n",
      "[CV 1/5; 2/10] END base_estimator__bootstrap=True, base_estimator__criterion=gini, base_estimator__n_estimators=101;, score=0.999 total time=  18.0s\n",
      "[CV 2/5; 2/10] START base_estimator__bootstrap=True, base_estimator__criterion=gini, base_estimator__n_estimators=101\n",
      "[CV 2/5; 2/10] END base_estimator__bootstrap=True, base_estimator__criterion=gini, base_estimator__n_estimators=101;, score=0.998 total time=  20.5s\n",
      "[CV 3/5; 2/10] START base_estimator__bootstrap=True, base_estimator__criterion=gini, base_estimator__n_estimators=101\n",
      "[CV 3/5; 2/10] END base_estimator__bootstrap=True, base_estimator__criterion=gini, base_estimator__n_estimators=101;, score=0.999 total time=  25.9s\n",
      "[CV 4/5; 2/10] START base_estimator__bootstrap=True, base_estimator__criterion=gini, base_estimator__n_estimators=101\n",
      "[CV 4/5; 2/10] END base_estimator__bootstrap=True, base_estimator__criterion=gini, base_estimator__n_estimators=101;, score=0.999 total time=  18.3s\n",
      "[CV 5/5; 2/10] START base_estimator__bootstrap=True, base_estimator__criterion=gini, base_estimator__n_estimators=101\n",
      "[CV 5/5; 2/10] END base_estimator__bootstrap=True, base_estimator__criterion=gini, base_estimator__n_estimators=101;, score=0.999 total time=  19.4s\n",
      "[CV 1/5; 3/10] START base_estimator__bootstrap=True, base_estimator__criterion=entropy, base_estimator__n_estimators=223\n",
      "[CV 1/5; 3/10] END base_estimator__bootstrap=True, base_estimator__criterion=entropy, base_estimator__n_estimators=223;, score=0.999 total time=  47.0s\n",
      "[CV 2/5; 3/10] START base_estimator__bootstrap=True, base_estimator__criterion=entropy, base_estimator__n_estimators=223\n",
      "[CV 2/5; 3/10] END base_estimator__bootstrap=True, base_estimator__criterion=entropy, base_estimator__n_estimators=223;, score=0.998 total time=  46.7s\n",
      "[CV 3/5; 3/10] START base_estimator__bootstrap=True, base_estimator__criterion=entropy, base_estimator__n_estimators=223\n",
      "[CV 3/5; 3/10] END base_estimator__bootstrap=True, base_estimator__criterion=entropy, base_estimator__n_estimators=223;, score=0.999 total time=  43.3s\n",
      "[CV 4/5; 3/10] START base_estimator__bootstrap=True, base_estimator__criterion=entropy, base_estimator__n_estimators=223\n",
      "[CV 4/5; 3/10] END base_estimator__bootstrap=True, base_estimator__criterion=entropy, base_estimator__n_estimators=223;, score=0.999 total time=  45.9s\n",
      "[CV 5/5; 3/10] START base_estimator__bootstrap=True, base_estimator__criterion=entropy, base_estimator__n_estimators=223\n",
      "[CV 5/5; 3/10] END base_estimator__bootstrap=True, base_estimator__criterion=entropy, base_estimator__n_estimators=223;, score=0.998 total time=  44.3s\n",
      "[CV 1/5; 4/10] START base_estimator__bootstrap=True, base_estimator__criterion=gini, base_estimator__n_estimators=132\n",
      "[CV 1/5; 4/10] END base_estimator__bootstrap=True, base_estimator__criterion=gini, base_estimator__n_estimators=132;, score=0.998 total time=  24.3s\n",
      "[CV 2/5; 4/10] START base_estimator__bootstrap=True, base_estimator__criterion=gini, base_estimator__n_estimators=132\n",
      "[CV 2/5; 4/10] END base_estimator__bootstrap=True, base_estimator__criterion=gini, base_estimator__n_estimators=132;, score=0.998 total time=  24.0s\n",
      "[CV 3/5; 4/10] START base_estimator__bootstrap=True, base_estimator__criterion=gini, base_estimator__n_estimators=132\n",
      "[CV 3/5; 4/10] END base_estimator__bootstrap=True, base_estimator__criterion=gini, base_estimator__n_estimators=132;, score=0.999 total time=  24.5s\n",
      "[CV 4/5; 4/10] START base_estimator__bootstrap=True, base_estimator__criterion=gini, base_estimator__n_estimators=132\n",
      "[CV 4/5; 4/10] END base_estimator__bootstrap=True, base_estimator__criterion=gini, base_estimator__n_estimators=132;, score=0.999 total time=  23.6s\n",
      "[CV 5/5; 4/10] START base_estimator__bootstrap=True, base_estimator__criterion=gini, base_estimator__n_estimators=132\n",
      "[CV 5/5; 4/10] END base_estimator__bootstrap=True, base_estimator__criterion=gini, base_estimator__n_estimators=132;, score=0.998 total time=  23.4s\n",
      "[CV 1/5; 5/10] START base_estimator__bootstrap=False, base_estimator__criterion=gini, base_estimator__n_estimators=10\n",
      "[CV 1/5; 5/10] END base_estimator__bootstrap=False, base_estimator__criterion=gini, base_estimator__n_estimators=10;, score=0.998 total time=   3.0s\n",
      "[CV 2/5; 5/10] START base_estimator__bootstrap=False, base_estimator__criterion=gini, base_estimator__n_estimators=10\n",
      "[CV 2/5; 5/10] END base_estimator__bootstrap=False, base_estimator__criterion=gini, base_estimator__n_estimators=10;, score=0.998 total time=   3.1s\n",
      "[CV 3/5; 5/10] START base_estimator__bootstrap=False, base_estimator__criterion=gini, base_estimator__n_estimators=10\n",
      "[CV 3/5; 5/10] END base_estimator__bootstrap=False, base_estimator__criterion=gini, base_estimator__n_estimators=10;, score=0.999 total time=   3.1s\n",
      "[CV 4/5; 5/10] START base_estimator__bootstrap=False, base_estimator__criterion=gini, base_estimator__n_estimators=10\n",
      "[CV 4/5; 5/10] END base_estimator__bootstrap=False, base_estimator__criterion=gini, base_estimator__n_estimators=10;, score=0.999 total time=   3.0s\n",
      "[CV 5/5; 5/10] START base_estimator__bootstrap=False, base_estimator__criterion=gini, base_estimator__n_estimators=10\n",
      "[CV 5/5; 5/10] END base_estimator__bootstrap=False, base_estimator__criterion=gini, base_estimator__n_estimators=10;, score=0.998 total time=   3.2s\n",
      "[CV 1/5; 6/10] START base_estimator__bootstrap=True, base_estimator__criterion=gini, base_estimator__n_estimators=71\n",
      "[CV 1/5; 6/10] END base_estimator__bootstrap=True, base_estimator__criterion=gini, base_estimator__n_estimators=71;, score=0.999 total time=  12.9s\n",
      "[CV 2/5; 6/10] START base_estimator__bootstrap=True, base_estimator__criterion=gini, base_estimator__n_estimators=71\n",
      "[CV 2/5; 6/10] END base_estimator__bootstrap=True, base_estimator__criterion=gini, base_estimator__n_estimators=71;, score=0.998 total time=  12.6s\n",
      "[CV 3/5; 6/10] START base_estimator__bootstrap=True, base_estimator__criterion=gini, base_estimator__n_estimators=71\n",
      "[CV 3/5; 6/10] END base_estimator__bootstrap=True, base_estimator__criterion=gini, base_estimator__n_estimators=71;, score=0.999 total time=  13.2s\n",
      "[CV 4/5; 6/10] START base_estimator__bootstrap=True, base_estimator__criterion=gini, base_estimator__n_estimators=71\n",
      "[CV 4/5; 6/10] END base_estimator__bootstrap=True, base_estimator__criterion=gini, base_estimator__n_estimators=71;, score=0.999 total time=  13.1s\n",
      "[CV 5/5; 6/10] START base_estimator__bootstrap=True, base_estimator__criterion=gini, base_estimator__n_estimators=71\n",
      "[CV 5/5; 6/10] END base_estimator__bootstrap=True, base_estimator__criterion=gini, base_estimator__n_estimators=71;, score=0.999 total time=  14.4s\n",
      "[CV 1/5; 7/10] START base_estimator__bootstrap=False, base_estimator__criterion=entropy, base_estimator__n_estimators=177\n",
      "[CV 1/5; 7/10] END base_estimator__bootstrap=False, base_estimator__criterion=entropy, base_estimator__n_estimators=177;, score=0.999 total time= 1.1min\n",
      "[CV 2/5; 7/10] START base_estimator__bootstrap=False, base_estimator__criterion=entropy, base_estimator__n_estimators=177\n",
      "[CV 2/5; 7/10] END base_estimator__bootstrap=False, base_estimator__criterion=entropy, base_estimator__n_estimators=177;, score=0.998 total time=  57.9s\n",
      "[CV 3/5; 7/10] START base_estimator__bootstrap=False, base_estimator__criterion=entropy, base_estimator__n_estimators=177\n",
      "[CV 3/5; 7/10] END base_estimator__bootstrap=False, base_estimator__criterion=entropy, base_estimator__n_estimators=177;, score=0.999 total time=  55.1s\n",
      "[CV 4/5; 7/10] START base_estimator__bootstrap=False, base_estimator__criterion=entropy, base_estimator__n_estimators=177\n",
      "[CV 4/5; 7/10] END base_estimator__bootstrap=False, base_estimator__criterion=entropy, base_estimator__n_estimators=177;, score=0.999 total time=  54.5s\n",
      "[CV 5/5; 7/10] START base_estimator__bootstrap=False, base_estimator__criterion=entropy, base_estimator__n_estimators=177\n",
      "[CV 5/5; 7/10] END base_estimator__bootstrap=False, base_estimator__criterion=entropy, base_estimator__n_estimators=177;, score=0.999 total time= 1.1min\n",
      "[CV 1/5; 8/10] START base_estimator__bootstrap=True, base_estimator__criterion=gini, base_estimator__n_estimators=10\n",
      "[CV 1/5; 8/10] END base_estimator__bootstrap=True, base_estimator__criterion=gini, base_estimator__n_estimators=10;, score=0.999 total time= 1.5min\n",
      "[CV 2/5; 8/10] START base_estimator__bootstrap=True, base_estimator__criterion=gini, base_estimator__n_estimators=10\n",
      "[CV 2/5; 8/10] END base_estimator__bootstrap=True, base_estimator__criterion=gini, base_estimator__n_estimators=10;, score=0.998 total time= 1.3min\n",
      "[CV 3/5; 8/10] START base_estimator__bootstrap=True, base_estimator__criterion=gini, base_estimator__n_estimators=10\n",
      "[CV 3/5; 8/10] END base_estimator__bootstrap=True, base_estimator__criterion=gini, base_estimator__n_estimators=10;, score=0.999 total time= 1.9min\n",
      "[CV 4/5; 8/10] START base_estimator__bootstrap=True, base_estimator__criterion=gini, base_estimator__n_estimators=10\n",
      "[CV 4/5; 8/10] END base_estimator__bootstrap=True, base_estimator__criterion=gini, base_estimator__n_estimators=10;, score=0.999 total time= 1.8min\n",
      "[CV 5/5; 8/10] START base_estimator__bootstrap=True, base_estimator__criterion=gini, base_estimator__n_estimators=10\n",
      "[CV 5/5; 8/10] END base_estimator__bootstrap=True, base_estimator__criterion=gini, base_estimator__n_estimators=10;, score=0.999 total time= 1.8min\n",
      "[CV 1/5; 9/10] START base_estimator__bootstrap=False, base_estimator__criterion=gini, base_estimator__n_estimators=208\n",
      "[CV 1/5; 9/10] END base_estimator__bootstrap=False, base_estimator__criterion=gini, base_estimator__n_estimators=208;, score=0.999 total time= 1.0min\n",
      "[CV 2/5; 9/10] START base_estimator__bootstrap=False, base_estimator__criterion=gini, base_estimator__n_estimators=208\n",
      "[CV 2/5; 9/10] END base_estimator__bootstrap=False, base_estimator__criterion=gini, base_estimator__n_estimators=208;, score=0.998 total time= 1.1min\n",
      "[CV 3/5; 9/10] START base_estimator__bootstrap=False, base_estimator__criterion=gini, base_estimator__n_estimators=208\n",
      "[CV 3/5; 9/10] END base_estimator__bootstrap=False, base_estimator__criterion=gini, base_estimator__n_estimators=208;, score=0.999 total time= 1.0min\n",
      "[CV 4/5; 9/10] START base_estimator__bootstrap=False, base_estimator__criterion=gini, base_estimator__n_estimators=208\n",
      "[CV 4/5; 9/10] END base_estimator__bootstrap=False, base_estimator__criterion=gini, base_estimator__n_estimators=208;, score=0.999 total time=  57.8s\n",
      "[CV 5/5; 9/10] START base_estimator__bootstrap=False, base_estimator__criterion=gini, base_estimator__n_estimators=208\n",
      "[CV 5/5; 9/10] END base_estimator__bootstrap=False, base_estimator__criterion=gini, base_estimator__n_estimators=208;, score=0.999 total time=  57.6s\n",
      "[CV 1/5; 10/10] START base_estimator__bootstrap=False, base_estimator__criterion=gini, base_estimator__n_estimators=132\n",
      "[CV 1/5; 10/10] END base_estimator__bootstrap=False, base_estimator__criterion=gini, base_estimator__n_estimators=132;, score=0.999 total time=  37.2s\n",
      "[CV 2/5; 10/10] START base_estimator__bootstrap=False, base_estimator__criterion=gini, base_estimator__n_estimators=132\n",
      "[CV 2/5; 10/10] END base_estimator__bootstrap=False, base_estimator__criterion=gini, base_estimator__n_estimators=132;, score=0.998 total time=  41.2s\n",
      "[CV 3/5; 10/10] START base_estimator__bootstrap=False, base_estimator__criterion=gini, base_estimator__n_estimators=132\n",
      "[CV 3/5; 10/10] END base_estimator__bootstrap=False, base_estimator__criterion=gini, base_estimator__n_estimators=132;, score=0.999 total time=  38.8s\n",
      "[CV 4/5; 10/10] START base_estimator__bootstrap=False, base_estimator__criterion=gini, base_estimator__n_estimators=132\n",
      "[CV 4/5; 10/10] END base_estimator__bootstrap=False, base_estimator__criterion=gini, base_estimator__n_estimators=132;, score=0.999 total time=  42.7s\n",
      "[CV 5/5; 10/10] START base_estimator__bootstrap=False, base_estimator__criterion=gini, base_estimator__n_estimators=132\n",
      "[CV 5/5; 10/10] END base_estimator__bootstrap=False, base_estimator__criterion=gini, base_estimator__n_estimators=132;, score=0.998 total time=  36.7s\n"
     ]
    },
    {
     "data": {
      "text/html": [
       "<div>\n",
       "<style scoped>\n",
       "    .dataframe tbody tr th:only-of-type {\n",
       "        vertical-align: middle;\n",
       "    }\n",
       "\n",
       "    .dataframe tbody tr th {\n",
       "        vertical-align: top;\n",
       "    }\n",
       "\n",
       "    .dataframe thead th {\n",
       "        text-align: right;\n",
       "    }\n",
       "</style>\n",
       "<table border=\"1\" class=\"dataframe\">\n",
       "  <thead>\n",
       "    <tr style=\"text-align: right;\">\n",
       "      <th></th>\n",
       "      <th>mean_fit_time</th>\n",
       "      <th>std_fit_time</th>\n",
       "      <th>mean_score_time</th>\n",
       "      <th>std_score_time</th>\n",
       "      <th>param_base_estimator__n_estimators</th>\n",
       "      <th>param_base_estimator__criterion</th>\n",
       "      <th>param_base_estimator__bootstrap</th>\n",
       "      <th>params</th>\n",
       "      <th>split0_test_score</th>\n",
       "      <th>split1_test_score</th>\n",
       "      <th>split2_test_score</th>\n",
       "      <th>split3_test_score</th>\n",
       "      <th>split4_test_score</th>\n",
       "      <th>mean_test_score</th>\n",
       "      <th>std_test_score</th>\n",
       "      <th>rank_test_score</th>\n",
       "    </tr>\n",
       "  </thead>\n",
       "  <tbody>\n",
       "    <tr>\n",
       "      <th>0</th>\n",
       "      <td>64.517217</td>\n",
       "      <td>1.407572</td>\n",
       "      <td>0.352599</td>\n",
       "      <td>0.005816</td>\n",
       "      <td>223</td>\n",
       "      <td>gini</td>\n",
       "      <td>False</td>\n",
       "      <td>{'base_estimator__n_estimators': 223, 'base_es...</td>\n",
       "      <td>0.998679</td>\n",
       "      <td>0.998282</td>\n",
       "      <td>0.998811</td>\n",
       "      <td>0.999009</td>\n",
       "      <td>0.998414</td>\n",
       "      <td>0.998639</td>\n",
       "      <td>0.000263</td>\n",
       "      <td>4</td>\n",
       "    </tr>\n",
       "    <tr>\n",
       "      <th>1</th>\n",
       "      <td>20.326039</td>\n",
       "      <td>2.862984</td>\n",
       "      <td>0.189791</td>\n",
       "      <td>0.005454</td>\n",
       "      <td>101</td>\n",
       "      <td>gini</td>\n",
       "      <td>True</td>\n",
       "      <td>{'base_estimator__n_estimators': 101, 'base_es...</td>\n",
       "      <td>0.998612</td>\n",
       "      <td>0.998084</td>\n",
       "      <td>0.998612</td>\n",
       "      <td>0.998877</td>\n",
       "      <td>0.998612</td>\n",
       "      <td>0.998560</td>\n",
       "      <td>0.000259</td>\n",
       "      <td>6</td>\n",
       "    </tr>\n",
       "    <tr>\n",
       "      <th>2</th>\n",
       "      <td>45.211827</td>\n",
       "      <td>1.443525</td>\n",
       "      <td>0.340586</td>\n",
       "      <td>0.019519</td>\n",
       "      <td>223</td>\n",
       "      <td>entropy</td>\n",
       "      <td>True</td>\n",
       "      <td>{'base_estimator__n_estimators': 223, 'base_es...</td>\n",
       "      <td>0.998679</td>\n",
       "      <td>0.998018</td>\n",
       "      <td>0.998546</td>\n",
       "      <td>0.998943</td>\n",
       "      <td>0.998480</td>\n",
       "      <td>0.998533</td>\n",
       "      <td>0.000302</td>\n",
       "      <td>8</td>\n",
       "    </tr>\n",
       "    <tr>\n",
       "      <th>3</th>\n",
       "      <td>23.841168</td>\n",
       "      <td>0.415413</td>\n",
       "      <td>0.225619</td>\n",
       "      <td>0.005690</td>\n",
       "      <td>132</td>\n",
       "      <td>gini</td>\n",
       "      <td>True</td>\n",
       "      <td>{'base_estimator__n_estimators': 132, 'base_es...</td>\n",
       "      <td>0.998480</td>\n",
       "      <td>0.998018</td>\n",
       "      <td>0.998546</td>\n",
       "      <td>0.998811</td>\n",
       "      <td>0.998150</td>\n",
       "      <td>0.998401</td>\n",
       "      <td>0.000285</td>\n",
       "      <td>10</td>\n",
       "    </tr>\n",
       "    <tr>\n",
       "      <th>4</th>\n",
       "      <td>3.125014</td>\n",
       "      <td>0.081747</td>\n",
       "      <td>0.050988</td>\n",
       "      <td>0.003037</td>\n",
       "      <td>10</td>\n",
       "      <td>gini</td>\n",
       "      <td>False</td>\n",
       "      <td>{'base_estimator__n_estimators': 10, 'base_est...</td>\n",
       "      <td>0.998414</td>\n",
       "      <td>0.997754</td>\n",
       "      <td>0.998612</td>\n",
       "      <td>0.999009</td>\n",
       "      <td>0.998480</td>\n",
       "      <td>0.998454</td>\n",
       "      <td>0.000406</td>\n",
       "      <td>9</td>\n",
       "    </tr>\n",
       "    <tr>\n",
       "      <th>5</th>\n",
       "      <td>13.204135</td>\n",
       "      <td>0.599072</td>\n",
       "      <td>0.142995</td>\n",
       "      <td>0.008502</td>\n",
       "      <td>71</td>\n",
       "      <td>gini</td>\n",
       "      <td>True</td>\n",
       "      <td>{'base_estimator__n_estimators': 71, 'base_est...</td>\n",
       "      <td>0.998612</td>\n",
       "      <td>0.998150</td>\n",
       "      <td>0.998546</td>\n",
       "      <td>0.998877</td>\n",
       "      <td>0.998546</td>\n",
       "      <td>0.998546</td>\n",
       "      <td>0.000233</td>\n",
       "      <td>7</td>\n",
       "    </tr>\n",
       "    <tr>\n",
       "      <th>6</th>\n",
       "      <td>60.208435</td>\n",
       "      <td>5.768668</td>\n",
       "      <td>0.281010</td>\n",
       "      <td>0.027953</td>\n",
       "      <td>177</td>\n",
       "      <td>entropy</td>\n",
       "      <td>False</td>\n",
       "      <td>{'base_estimator__n_estimators': 177, 'base_es...</td>\n",
       "      <td>0.998679</td>\n",
       "      <td>0.998282</td>\n",
       "      <td>0.998877</td>\n",
       "      <td>0.999273</td>\n",
       "      <td>0.998546</td>\n",
       "      <td>0.998731</td>\n",
       "      <td>0.000333</td>\n",
       "      <td>2</td>\n",
       "    </tr>\n",
       "    <tr>\n",
       "      <th>7</th>\n",
       "      <td>98.598755</td>\n",
       "      <td>12.363553</td>\n",
       "      <td>1.130360</td>\n",
       "      <td>0.252209</td>\n",
       "      <td>10</td>\n",
       "      <td>gini</td>\n",
       "      <td>True</td>\n",
       "      <td>{'base_estimator__n_estimators': 10, 'base_est...</td>\n",
       "      <td>0.998811</td>\n",
       "      <td>0.998282</td>\n",
       "      <td>0.998811</td>\n",
       "      <td>0.999141</td>\n",
       "      <td>0.998678</td>\n",
       "      <td>0.998745</td>\n",
       "      <td>0.000277</td>\n",
       "      <td>1</td>\n",
       "    </tr>\n",
       "    <tr>\n",
       "      <th>8</th>\n",
       "      <td>60.414626</td>\n",
       "      <td>2.912780</td>\n",
       "      <td>0.342623</td>\n",
       "      <td>0.035210</td>\n",
       "      <td>208</td>\n",
       "      <td>gini</td>\n",
       "      <td>False</td>\n",
       "      <td>{'base_estimator__n_estimators': 208, 'base_es...</td>\n",
       "      <td>0.998612</td>\n",
       "      <td>0.998150</td>\n",
       "      <td>0.998877</td>\n",
       "      <td>0.999009</td>\n",
       "      <td>0.998612</td>\n",
       "      <td>0.998652</td>\n",
       "      <td>0.000294</td>\n",
       "      <td>3</td>\n",
       "    </tr>\n",
       "    <tr>\n",
       "      <th>9</th>\n",
       "      <td>39.203317</td>\n",
       "      <td>2.315568</td>\n",
       "      <td>0.214689</td>\n",
       "      <td>0.017876</td>\n",
       "      <td>132</td>\n",
       "      <td>gini</td>\n",
       "      <td>False</td>\n",
       "      <td>{'base_estimator__n_estimators': 132, 'base_es...</td>\n",
       "      <td>0.998612</td>\n",
       "      <td>0.998084</td>\n",
       "      <td>0.998811</td>\n",
       "      <td>0.999141</td>\n",
       "      <td>0.998480</td>\n",
       "      <td>0.998626</td>\n",
       "      <td>0.000351</td>\n",
       "      <td>5</td>\n",
       "    </tr>\n",
       "  </tbody>\n",
       "</table>\n",
       "</div>"
      ],
      "text/plain": [
       "   mean_fit_time  std_fit_time  mean_score_time  std_score_time  \\\n",
       "0      64.517217      1.407572         0.352599        0.005816   \n",
       "1      20.326039      2.862984         0.189791        0.005454   \n",
       "2      45.211827      1.443525         0.340586        0.019519   \n",
       "3      23.841168      0.415413         0.225619        0.005690   \n",
       "4       3.125014      0.081747         0.050988        0.003037   \n",
       "5      13.204135      0.599072         0.142995        0.008502   \n",
       "6      60.208435      5.768668         0.281010        0.027953   \n",
       "7      98.598755     12.363553         1.130360        0.252209   \n",
       "8      60.414626      2.912780         0.342623        0.035210   \n",
       "9      39.203317      2.315568         0.214689        0.017876   \n",
       "\n",
       "  param_base_estimator__n_estimators param_base_estimator__criterion  \\\n",
       "0                                223                            gini   \n",
       "1                                101                            gini   \n",
       "2                                223                         entropy   \n",
       "3                                132                            gini   \n",
       "4                                 10                            gini   \n",
       "5                                 71                            gini   \n",
       "6                                177                         entropy   \n",
       "7                                 10                            gini   \n",
       "8                                208                            gini   \n",
       "9                                132                            gini   \n",
       "\n",
       "  param_base_estimator__bootstrap  \\\n",
       "0                           False   \n",
       "1                            True   \n",
       "2                            True   \n",
       "3                            True   \n",
       "4                           False   \n",
       "5                            True   \n",
       "6                           False   \n",
       "7                            True   \n",
       "8                           False   \n",
       "9                           False   \n",
       "\n",
       "                                              params  split0_test_score  \\\n",
       "0  {'base_estimator__n_estimators': 223, 'base_es...           0.998679   \n",
       "1  {'base_estimator__n_estimators': 101, 'base_es...           0.998612   \n",
       "2  {'base_estimator__n_estimators': 223, 'base_es...           0.998679   \n",
       "3  {'base_estimator__n_estimators': 132, 'base_es...           0.998480   \n",
       "4  {'base_estimator__n_estimators': 10, 'base_est...           0.998414   \n",
       "5  {'base_estimator__n_estimators': 71, 'base_est...           0.998612   \n",
       "6  {'base_estimator__n_estimators': 177, 'base_es...           0.998679   \n",
       "7  {'base_estimator__n_estimators': 10, 'base_est...           0.998811   \n",
       "8  {'base_estimator__n_estimators': 208, 'base_es...           0.998612   \n",
       "9  {'base_estimator__n_estimators': 132, 'base_es...           0.998612   \n",
       "\n",
       "   split1_test_score  split2_test_score  split3_test_score  split4_test_score  \\\n",
       "0           0.998282           0.998811           0.999009           0.998414   \n",
       "1           0.998084           0.998612           0.998877           0.998612   \n",
       "2           0.998018           0.998546           0.998943           0.998480   \n",
       "3           0.998018           0.998546           0.998811           0.998150   \n",
       "4           0.997754           0.998612           0.999009           0.998480   \n",
       "5           0.998150           0.998546           0.998877           0.998546   \n",
       "6           0.998282           0.998877           0.999273           0.998546   \n",
       "7           0.998282           0.998811           0.999141           0.998678   \n",
       "8           0.998150           0.998877           0.999009           0.998612   \n",
       "9           0.998084           0.998811           0.999141           0.998480   \n",
       "\n",
       "   mean_test_score  std_test_score  rank_test_score  \n",
       "0         0.998639        0.000263                4  \n",
       "1         0.998560        0.000259                6  \n",
       "2         0.998533        0.000302                8  \n",
       "3         0.998401        0.000285               10  \n",
       "4         0.998454        0.000406                9  \n",
       "5         0.998546        0.000233                7  \n",
       "6         0.998731        0.000333                2  \n",
       "7         0.998745        0.000277                1  \n",
       "8         0.998652        0.000294                3  \n",
       "9         0.998626        0.000351                5  "
      ]
     },
     "execution_count": 38,
     "metadata": {},
     "output_type": "execute_result"
    }
   ],
   "source": [
    "param_distributions = {\n",
    "    \"base_estimator__criterion\" : [\"gini\", \"entropy\"],\n",
    "    \"base_estimator__bootstrap\" :   [True, False],\n",
    "    \"base_estimator__n_estimators\": list(np.linspace(10, 300, 20).astype(int))     \n",
    "}\n",
    "\n",
    "RFC = RandomForestClassifier()\n",
    "ABC = AdaBoostClassifier(base_estimator = RFC)\n",
    "\n",
    "# run random grid search\n",
    "grid_search_ABC = RandomizedSearchCV(ABC, param_distributions=param_distributions, n_iter=10, verbose = 10)\n",
    "grid_search_ABC.fit(X, y)"
   ]
  },
  {
   "cell_type": "code",
   "execution_count": 39,
   "id": "dd9c18df-f8b5-4e78-81ad-bf0679ddcc68",
   "metadata": {},
   "outputs": [
    {
     "data": {
      "text/html": [
       "<div>\n",
       "<style scoped>\n",
       "    .dataframe tbody tr th:only-of-type {\n",
       "        vertical-align: middle;\n",
       "    }\n",
       "\n",
       "    .dataframe tbody tr th {\n",
       "        vertical-align: top;\n",
       "    }\n",
       "\n",
       "    .dataframe thead th {\n",
       "        text-align: right;\n",
       "    }\n",
       "</style>\n",
       "<table border=\"1\" class=\"dataframe\">\n",
       "  <thead>\n",
       "    <tr style=\"text-align: right;\">\n",
       "      <th></th>\n",
       "      <th>mean_fit_time</th>\n",
       "      <th>std_fit_time</th>\n",
       "      <th>mean_score_time</th>\n",
       "      <th>std_score_time</th>\n",
       "      <th>param_base_estimator__n_estimators</th>\n",
       "      <th>param_base_estimator__criterion</th>\n",
       "      <th>param_base_estimator__bootstrap</th>\n",
       "      <th>params</th>\n",
       "      <th>split0_test_score</th>\n",
       "      <th>split1_test_score</th>\n",
       "      <th>split2_test_score</th>\n",
       "      <th>split3_test_score</th>\n",
       "      <th>split4_test_score</th>\n",
       "      <th>mean_test_score</th>\n",
       "      <th>std_test_score</th>\n",
       "      <th>rank_test_score</th>\n",
       "    </tr>\n",
       "  </thead>\n",
       "  <tbody>\n",
       "    <tr>\n",
       "      <th>0</th>\n",
       "      <td>64.517217</td>\n",
       "      <td>1.407572</td>\n",
       "      <td>0.352599</td>\n",
       "      <td>0.005816</td>\n",
       "      <td>223</td>\n",
       "      <td>gini</td>\n",
       "      <td>False</td>\n",
       "      <td>{'base_estimator__n_estimators': 223, 'base_es...</td>\n",
       "      <td>0.998679</td>\n",
       "      <td>0.998282</td>\n",
       "      <td>0.998811</td>\n",
       "      <td>0.999009</td>\n",
       "      <td>0.998414</td>\n",
       "      <td>0.998639</td>\n",
       "      <td>0.000263</td>\n",
       "      <td>4</td>\n",
       "    </tr>\n",
       "    <tr>\n",
       "      <th>1</th>\n",
       "      <td>20.326039</td>\n",
       "      <td>2.862984</td>\n",
       "      <td>0.189791</td>\n",
       "      <td>0.005454</td>\n",
       "      <td>101</td>\n",
       "      <td>gini</td>\n",
       "      <td>True</td>\n",
       "      <td>{'base_estimator__n_estimators': 101, 'base_es...</td>\n",
       "      <td>0.998612</td>\n",
       "      <td>0.998084</td>\n",
       "      <td>0.998612</td>\n",
       "      <td>0.998877</td>\n",
       "      <td>0.998612</td>\n",
       "      <td>0.998560</td>\n",
       "      <td>0.000259</td>\n",
       "      <td>6</td>\n",
       "    </tr>\n",
       "    <tr>\n",
       "      <th>2</th>\n",
       "      <td>45.211827</td>\n",
       "      <td>1.443525</td>\n",
       "      <td>0.340586</td>\n",
       "      <td>0.019519</td>\n",
       "      <td>223</td>\n",
       "      <td>entropy</td>\n",
       "      <td>True</td>\n",
       "      <td>{'base_estimator__n_estimators': 223, 'base_es...</td>\n",
       "      <td>0.998679</td>\n",
       "      <td>0.998018</td>\n",
       "      <td>0.998546</td>\n",
       "      <td>0.998943</td>\n",
       "      <td>0.998480</td>\n",
       "      <td>0.998533</td>\n",
       "      <td>0.000302</td>\n",
       "      <td>8</td>\n",
       "    </tr>\n",
       "    <tr>\n",
       "      <th>3</th>\n",
       "      <td>23.841168</td>\n",
       "      <td>0.415413</td>\n",
       "      <td>0.225619</td>\n",
       "      <td>0.005690</td>\n",
       "      <td>132</td>\n",
       "      <td>gini</td>\n",
       "      <td>True</td>\n",
       "      <td>{'base_estimator__n_estimators': 132, 'base_es...</td>\n",
       "      <td>0.998480</td>\n",
       "      <td>0.998018</td>\n",
       "      <td>0.998546</td>\n",
       "      <td>0.998811</td>\n",
       "      <td>0.998150</td>\n",
       "      <td>0.998401</td>\n",
       "      <td>0.000285</td>\n",
       "      <td>10</td>\n",
       "    </tr>\n",
       "    <tr>\n",
       "      <th>4</th>\n",
       "      <td>3.125014</td>\n",
       "      <td>0.081747</td>\n",
       "      <td>0.050988</td>\n",
       "      <td>0.003037</td>\n",
       "      <td>10</td>\n",
       "      <td>gini</td>\n",
       "      <td>False</td>\n",
       "      <td>{'base_estimator__n_estimators': 10, 'base_est...</td>\n",
       "      <td>0.998414</td>\n",
       "      <td>0.997754</td>\n",
       "      <td>0.998612</td>\n",
       "      <td>0.999009</td>\n",
       "      <td>0.998480</td>\n",
       "      <td>0.998454</td>\n",
       "      <td>0.000406</td>\n",
       "      <td>9</td>\n",
       "    </tr>\n",
       "    <tr>\n",
       "      <th>5</th>\n",
       "      <td>13.204135</td>\n",
       "      <td>0.599072</td>\n",
       "      <td>0.142995</td>\n",
       "      <td>0.008502</td>\n",
       "      <td>71</td>\n",
       "      <td>gini</td>\n",
       "      <td>True</td>\n",
       "      <td>{'base_estimator__n_estimators': 71, 'base_est...</td>\n",
       "      <td>0.998612</td>\n",
       "      <td>0.998150</td>\n",
       "      <td>0.998546</td>\n",
       "      <td>0.998877</td>\n",
       "      <td>0.998546</td>\n",
       "      <td>0.998546</td>\n",
       "      <td>0.000233</td>\n",
       "      <td>7</td>\n",
       "    </tr>\n",
       "    <tr>\n",
       "      <th>6</th>\n",
       "      <td>60.208435</td>\n",
       "      <td>5.768668</td>\n",
       "      <td>0.281010</td>\n",
       "      <td>0.027953</td>\n",
       "      <td>177</td>\n",
       "      <td>entropy</td>\n",
       "      <td>False</td>\n",
       "      <td>{'base_estimator__n_estimators': 177, 'base_es...</td>\n",
       "      <td>0.998679</td>\n",
       "      <td>0.998282</td>\n",
       "      <td>0.998877</td>\n",
       "      <td>0.999273</td>\n",
       "      <td>0.998546</td>\n",
       "      <td>0.998731</td>\n",
       "      <td>0.000333</td>\n",
       "      <td>2</td>\n",
       "    </tr>\n",
       "    <tr>\n",
       "      <th>7</th>\n",
       "      <td>98.598755</td>\n",
       "      <td>12.363553</td>\n",
       "      <td>1.130360</td>\n",
       "      <td>0.252209</td>\n",
       "      <td>10</td>\n",
       "      <td>gini</td>\n",
       "      <td>True</td>\n",
       "      <td>{'base_estimator__n_estimators': 10, 'base_est...</td>\n",
       "      <td>0.998811</td>\n",
       "      <td>0.998282</td>\n",
       "      <td>0.998811</td>\n",
       "      <td>0.999141</td>\n",
       "      <td>0.998678</td>\n",
       "      <td>0.998745</td>\n",
       "      <td>0.000277</td>\n",
       "      <td>1</td>\n",
       "    </tr>\n",
       "    <tr>\n",
       "      <th>8</th>\n",
       "      <td>60.414626</td>\n",
       "      <td>2.912780</td>\n",
       "      <td>0.342623</td>\n",
       "      <td>0.035210</td>\n",
       "      <td>208</td>\n",
       "      <td>gini</td>\n",
       "      <td>False</td>\n",
       "      <td>{'base_estimator__n_estimators': 208, 'base_es...</td>\n",
       "      <td>0.998612</td>\n",
       "      <td>0.998150</td>\n",
       "      <td>0.998877</td>\n",
       "      <td>0.999009</td>\n",
       "      <td>0.998612</td>\n",
       "      <td>0.998652</td>\n",
       "      <td>0.000294</td>\n",
       "      <td>3</td>\n",
       "    </tr>\n",
       "    <tr>\n",
       "      <th>9</th>\n",
       "      <td>39.203317</td>\n",
       "      <td>2.315568</td>\n",
       "      <td>0.214689</td>\n",
       "      <td>0.017876</td>\n",
       "      <td>132</td>\n",
       "      <td>gini</td>\n",
       "      <td>False</td>\n",
       "      <td>{'base_estimator__n_estimators': 132, 'base_es...</td>\n",
       "      <td>0.998612</td>\n",
       "      <td>0.998084</td>\n",
       "      <td>0.998811</td>\n",
       "      <td>0.999141</td>\n",
       "      <td>0.998480</td>\n",
       "      <td>0.998626</td>\n",
       "      <td>0.000351</td>\n",
       "      <td>5</td>\n",
       "    </tr>\n",
       "  </tbody>\n",
       "</table>\n",
       "</div>"
      ],
      "text/plain": [
       "   mean_fit_time  std_fit_time  mean_score_time  std_score_time  \\\n",
       "0      64.517217      1.407572         0.352599        0.005816   \n",
       "1      20.326039      2.862984         0.189791        0.005454   \n",
       "2      45.211827      1.443525         0.340586        0.019519   \n",
       "3      23.841168      0.415413         0.225619        0.005690   \n",
       "4       3.125014      0.081747         0.050988        0.003037   \n",
       "5      13.204135      0.599072         0.142995        0.008502   \n",
       "6      60.208435      5.768668         0.281010        0.027953   \n",
       "7      98.598755     12.363553         1.130360        0.252209   \n",
       "8      60.414626      2.912780         0.342623        0.035210   \n",
       "9      39.203317      2.315568         0.214689        0.017876   \n",
       "\n",
       "  param_base_estimator__n_estimators param_base_estimator__criterion  \\\n",
       "0                                223                            gini   \n",
       "1                                101                            gini   \n",
       "2                                223                         entropy   \n",
       "3                                132                            gini   \n",
       "4                                 10                            gini   \n",
       "5                                 71                            gini   \n",
       "6                                177                         entropy   \n",
       "7                                 10                            gini   \n",
       "8                                208                            gini   \n",
       "9                                132                            gini   \n",
       "\n",
       "  param_base_estimator__bootstrap  \\\n",
       "0                           False   \n",
       "1                            True   \n",
       "2                            True   \n",
       "3                            True   \n",
       "4                           False   \n",
       "5                            True   \n",
       "6                           False   \n",
       "7                            True   \n",
       "8                           False   \n",
       "9                           False   \n",
       "\n",
       "                                              params  split0_test_score  \\\n",
       "0  {'base_estimator__n_estimators': 223, 'base_es...           0.998679   \n",
       "1  {'base_estimator__n_estimators': 101, 'base_es...           0.998612   \n",
       "2  {'base_estimator__n_estimators': 223, 'base_es...           0.998679   \n",
       "3  {'base_estimator__n_estimators': 132, 'base_es...           0.998480   \n",
       "4  {'base_estimator__n_estimators': 10, 'base_est...           0.998414   \n",
       "5  {'base_estimator__n_estimators': 71, 'base_est...           0.998612   \n",
       "6  {'base_estimator__n_estimators': 177, 'base_es...           0.998679   \n",
       "7  {'base_estimator__n_estimators': 10, 'base_est...           0.998811   \n",
       "8  {'base_estimator__n_estimators': 208, 'base_es...           0.998612   \n",
       "9  {'base_estimator__n_estimators': 132, 'base_es...           0.998612   \n",
       "\n",
       "   split1_test_score  split2_test_score  split3_test_score  split4_test_score  \\\n",
       "0           0.998282           0.998811           0.999009           0.998414   \n",
       "1           0.998084           0.998612           0.998877           0.998612   \n",
       "2           0.998018           0.998546           0.998943           0.998480   \n",
       "3           0.998018           0.998546           0.998811           0.998150   \n",
       "4           0.997754           0.998612           0.999009           0.998480   \n",
       "5           0.998150           0.998546           0.998877           0.998546   \n",
       "6           0.998282           0.998877           0.999273           0.998546   \n",
       "7           0.998282           0.998811           0.999141           0.998678   \n",
       "8           0.998150           0.998877           0.999009           0.998612   \n",
       "9           0.998084           0.998811           0.999141           0.998480   \n",
       "\n",
       "   mean_test_score  std_test_score  rank_test_score  \n",
       "0         0.998639        0.000263                4  \n",
       "1         0.998560        0.000259                6  \n",
       "2         0.998533        0.000302                8  \n",
       "3         0.998401        0.000285               10  \n",
       "4         0.998454        0.000406                9  \n",
       "5         0.998546        0.000233                7  \n",
       "6         0.998731        0.000333                2  \n",
       "7         0.998745        0.000277                1  \n",
       "8         0.998652        0.000294                3  \n",
       "9         0.998626        0.000351                5  "
      ]
     },
     "execution_count": 39,
     "metadata": {},
     "output_type": "execute_result"
    }
   ],
   "source": [
    "pd.DataFrame.from_dict(grid_search_ABC.cv_results_)"
   ]
  },
  {
   "cell_type": "code",
   "execution_count": null,
   "id": "cc0ba4bb-eced-46b6-a632-43f06799e704",
   "metadata": {},
   "outputs": [],
   "source": [
    "RFC = RandomForestClassifier(n_estimators = 10, criterion = \"gini\", bootstrap = True)\n",
    "ABC = AdaBoostClassifier(base_estimator = RFC, n_estimators = 20)\n",
    "\n",
    "ABC.fit(train, train_lbl)"
   ]
  },
  {
   "cell_type": "code",
   "execution_count": 59,
   "id": "e5630850-9fb4-4f28-bc38-2971727b71b9",
   "metadata": {},
   "outputs": [
    {
     "data": {
      "text/plain": [
       "0.9984803435744962"
      ]
     },
     "execution_count": 59,
     "metadata": {},
     "output_type": "execute_result"
    }
   ],
   "source": [
    "ABC.score(test, test_lbl)"
   ]
  },
  {
   "cell_type": "markdown",
   "id": "e390ef7b-fe0e-4064-bd24-4df992d7eb28",
   "metadata": {},
   "source": [
    "## Training a Random Forest Classifier on the whole dataset (Split: 80%)"
   ]
  },
  {
   "cell_type": "code",
   "execution_count": 9,
   "id": "b176bc27-8fda-4b92-a22c-9912e1920a1e",
   "metadata": {},
   "outputs": [],
   "source": [
    "df = df.compute()"
   ]
  },
  {
   "cell_type": "code",
   "execution_count": 10,
   "id": "00edf2ad-e5d0-4daa-a9ea-65dc88ecfe90",
   "metadata": {},
   "outputs": [],
   "source": [
    "train, test, train_lbl, test_lbl = train_test_split(df.loc[:, ~df.columns.isin(['Unnamed: 0', \"Label\"])], df[\"Label\"], test_size=0.2, random_state=1)"
   ]
  },
  {
   "cell_type": "markdown",
   "id": "c92dadbb-d596-4f20-8048-4721a615310a",
   "metadata": {},
   "source": [
    "#### Random Forest Classifier"
   ]
  },
  {
   "cell_type": "code",
   "execution_count": 68,
   "id": "065328bf-4920-47a5-95c3-b6e8e1b4d0d4",
   "metadata": {},
   "outputs": [
    {
     "data": {
      "text/plain": [
       "0.9998540050510288"
      ]
     },
     "execution_count": 68,
     "metadata": {},
     "output_type": "execute_result"
    }
   ],
   "source": [
    "RFC = RandomForestClassifier(n_estimators = 40, criterion = \"entropy\", bootstrap = False)\n",
    "RFC.fit(train, train_lbl)\n",
    "RFC.score(test, test_lbl)"
   ]
  },
  {
   "cell_type": "code",
   "execution_count": 69,
   "id": "e19ef948-fad0-4b69-bfbd-2637f37d7bd1",
   "metadata": {},
   "outputs": [
    {
     "data": {
      "text/plain": [
       "['models/RandomForestClassifier.joblib']"
      ]
     },
     "execution_count": 69,
     "metadata": {},
     "output_type": "execute_result"
    }
   ],
   "source": [
    "dump(RFC, f'models/RandomForestClassifier.model') "
   ]
  },
  {
   "cell_type": "code",
   "execution_count": 26,
   "id": "006aef1a-6265-4623-a80c-c904dd7f4b6b",
   "metadata": {},
   "outputs": [
    {
     "data": {
      "image/png": "[encoded data removed]",
      "text/plain": [
       "<Figure size 432x288 with 2 Axes>"
      ]
     },
     "metadata": {
      "needs_background": "light"
     },
     "output_type": "display_data"
    }
   ],
   "source": [
    "confusion_matrix_RFC = plot_confusion_matrix(RFC, test, test_lbl, labels=['ddos', 'Benign']);\n",
    "confusion_matrix_RFC.ax_.set_title('Random Forest Classifier')\n",
    "confusion_matrix_RFC.figure_.savefig('img/confusion_matrix_RFC.png')"
   ]
  },
  {
   "cell_type": "markdown",
   "id": "7c2ef869-0378-4a57-9517-18b918d84f20",
   "metadata": {},
   "source": [
    "#### Random Forest Classifier with AdaBoost"
   ]
  },
  {
   "cell_type": "code",
   "execution_count": 64,
   "id": "099f68f3-55c1-4ec0-9337-f21b2f1f7da3",
   "metadata": {},
   "outputs": [
    {
     "data": {
      "text/plain": [
       "0.9998625929892037"
      ]
     },
     "execution_count": 64,
     "metadata": {},
     "output_type": "execute_result"
    }
   ],
   "source": [
    "RFC_ABC = RandomForestClassifier(n_estimators = 10, criterion = \"gini\", bootstrap = True)\n",
    "ABC_RFC = AdaBoostClassifier(base_estimator = RFC_ABC, n_estimators = 20)\n",
    "ABC_RFC.fit(train, train_lbl)\n",
    "ABC_RFC.score(test, test_lbl)"
   ]
  },
  {
   "cell_type": "code",
   "execution_count": 67,
   "id": "fd3b1477-59de-4e48-abb7-1d9fd26be523",
   "metadata": {},
   "outputs": [
    {
     "data": {
      "text/plain": [
       "['models/RandomForestClassifier_AdaBoost.joblib']"
      ]
     },
     "execution_count": 67,
     "metadata": {},
     "output_type": "execute_result"
    }
   ],
   "source": [
    "dump(ABC_RFC, f'models/RandomForestClassifier_AdaBoost.model')"
   ]
  },
  {
   "cell_type": "code",
   "execution_count": 29,
   "id": "6e932c82-bbad-434c-9746-cccac264ef9c",
   "metadata": {},
   "outputs": [
    {
     "data": {
      "image/png": "[encoded data removed]",
      "text/plain": [
       "<Figure size 432x288 with 2 Axes>"
      ]
     },
     "metadata": {
      "needs_background": "light"
     },
     "output_type": "display_data"
    }
   ],
   "source": [
    "confusion_matrix_ABC_RFC = plot_confusion_matrix(ABC_RFC, test, test_lbl, labels=['ddos', 'Benign']);\n",
    "confusion_matrix_ABC_RFC.ax_.set_title('Random Forest Classifier w/ AdaBoost')\n",
    "confusion_matrix_ABC_RFC.figure_.savefig('img/confusion_matrix_ABC_RFC.png')"
   ]
  },
  {
   "cell_type": "markdown",
   "id": "95abf29e-3b25-48a5-90be-2cad8a01a569",
   "metadata": {},
   "source": [
    "#### Decision Tree Classifier with AdaBoost"
   ]
  },
  {
   "cell_type": "code",
   "execution_count": 70,
   "id": "1a94ef8a-66bb-458d-8d6b-077faad1adf9",
   "metadata": {},
   "outputs": [
    {
     "data": {
      "text/plain": [
       "0.9998454171128541"
      ]
     },
     "execution_count": 70,
     "metadata": {},
     "output_type": "execute_result"
    }
   ],
   "source": [
    "DTC = tree.DecisionTreeClassifier(criterion = \"entropy\", splitter = \"random\")\n",
    "ABC_DTC = AdaBoostClassifier(base_estimator = DTC)\n",
    "ABC_DTC.fit(train, train_lbl)\n",
    "ABC_DTC.score(test, test_lbl)"
   ]
  },
  {
   "cell_type": "code",
   "execution_count": 71,
   "id": "dae3f826-3898-423a-b29e-b2976f0d841e",
   "metadata": {},
   "outputs": [
    {
     "data": {
      "text/plain": [
       "['models/DecisionTreeClassifier_AdaBoost.joblib']"
      ]
     },
     "execution_count": 71,
     "metadata": {},
     "output_type": "execute_result"
    }
   ],
   "source": [
    "dump(ABC_DTC, f'models/DecisionTreeClassifier_AdaBoost.model')"
   ]
  },
  {
   "cell_type": "code",
   "execution_count": 31,
   "id": "9c2571b5-3ef0-40e3-9b1f-e97013219dc3",
   "metadata": {},
   "outputs": [
    {
     "data": {
      "image/png": "[encoded data removed]",
      "text/plain": [
       "<Figure size 432x288 with 2 Axes>"
      ]
     },
     "metadata": {
      "needs_background": "light"
     },
     "output_type": "display_data"
    }
   ],
   "source": [
    "confusion_matrix_ABC_DTC = plot_confusion_matrix(ABC_RFC, test, test_lbl, labels=['ddos', 'Benign']);\n",
    "confusion_matrix_ABC_DTC.ax_.set_title('Decision Tree Classifier w/ AdaBoost')\n",
    "confusion_matrix_ABC_DTC.figure_.savefig('img/confusion_matrix_ABC_DTC.png')"
   ]
  },
  {
   "cell_type": "markdown",
   "id": "59591d97-9e12-4b87-9ed9-5c10702a5bfd",
   "metadata": {},
   "source": [
    "## Training a Random Forest Classifier on the whole dataset (Split: 99%)"
   ]
  },
  {
   "cell_type": "code",
   "execution_count": 8,
   "id": "50754e05-03b7-4662-9428-81d2da821b25",
   "metadata": {},
   "outputs": [],
   "source": [
    "df = df.compute()"
   ]
  },
  {
   "cell_type": "code",
   "execution_count": 9,
   "id": "c8602864-943d-4ac4-a448-06885ed3fe0f",
   "metadata": {},
   "outputs": [],
   "source": [
    "train, test, train_lbl, test_lbl = train_test_split(df.loc[:, ~df.columns.isin(['Unnamed: 0', \"Label\"])], df[\"Label\"], test_size=0.01, random_state=1)"
   ]
  },
  {
   "cell_type": "code",
   "execution_count": 12,
   "id": "89a230a2-c0ba-44f1-bd63-70be6bbcd78b",
   "metadata": {
    "scrolled": true,
    "tags": []
   },
   "outputs": [
    {
     "name": "stderr",
     "output_type": "stream",
     "text": [
      "[Parallel(n_jobs=1)]: Using backend SequentialBackend with 1 concurrent workers.\n",
      "[Parallel(n_jobs=1)]: Done  10 out of  10 | elapsed: 13.9min finished\n",
      "[Parallel(n_jobs=1)]: Using backend SequentialBackend with 1 concurrent workers.\n",
      "[Parallel(n_jobs=1)]: Done  10 out of  10 | elapsed:   10.1s finished\n",
      "[Parallel(n_jobs=1)]: Using backend SequentialBackend with 1 concurrent workers.\n",
      "[Parallel(n_jobs=1)]: Done  10 out of  10 | elapsed: 12.7min finished\n",
      "[Parallel(n_jobs=1)]: Using backend SequentialBackend with 1 concurrent workers.\n",
      "[Parallel(n_jobs=1)]: Done  10 out of  10 | elapsed:   12.0s finished\n",
      "[Parallel(n_jobs=1)]: Using backend SequentialBackend with 1 concurrent workers.\n",
      "[Parallel(n_jobs=1)]: Done  10 out of  10 | elapsed: 12.7min finished\n",
      "[Parallel(n_jobs=1)]: Using backend SequentialBackend with 1 concurrent workers.\n",
      "[Parallel(n_jobs=1)]: Done  10 out of  10 | elapsed:   12.6s finished\n",
      "[Parallel(n_jobs=1)]: Using backend SequentialBackend with 1 concurrent workers.\n",
      "[Parallel(n_jobs=1)]: Done  10 out of  10 | elapsed: 12.0min finished\n",
      "[Parallel(n_jobs=1)]: Using backend SequentialBackend with 1 concurrent workers.\n",
      "[Parallel(n_jobs=1)]: Done  10 out of  10 | elapsed:   11.9s finished\n",
      "[Parallel(n_jobs=1)]: Using backend SequentialBackend with 1 concurrent workers.\n",
      "[Parallel(n_jobs=1)]: Done  10 out of  10 | elapsed: 11.7min finished\n",
      "[Parallel(n_jobs=1)]: Using backend SequentialBackend with 1 concurrent workers.\n",
      "[Parallel(n_jobs=1)]: Done  10 out of  10 | elapsed:   11.5s finished\n",
      "[Parallel(n_jobs=1)]: Using backend SequentialBackend with 1 concurrent workers.\n",
      "[Parallel(n_jobs=1)]: Done  10 out of  10 | elapsed: 11.2min finished\n",
      "[Parallel(n_jobs=1)]: Using backend SequentialBackend with 1 concurrent workers.\n",
      "[Parallel(n_jobs=1)]: Done  10 out of  10 | elapsed:   11.4s finished\n",
      "[Parallel(n_jobs=1)]: Using backend SequentialBackend with 1 concurrent workers.\n",
      "[Parallel(n_jobs=1)]: Done  10 out of  10 | elapsed: 11.1min finished\n",
      "[Parallel(n_jobs=1)]: Using backend SequentialBackend with 1 concurrent workers.\n",
      "[Parallel(n_jobs=1)]: Done  10 out of  10 | elapsed:   12.1s finished\n",
      "[Parallel(n_jobs=1)]: Using backend SequentialBackend with 1 concurrent workers.\n",
      "[Parallel(n_jobs=1)]: Done  10 out of  10 | elapsed: 11.4min finished\n",
      "[Parallel(n_jobs=1)]: Using backend SequentialBackend with 1 concurrent workers.\n",
      "[Parallel(n_jobs=1)]: Done  10 out of  10 | elapsed:   11.4s finished\n",
      "[Parallel(n_jobs=1)]: Using backend SequentialBackend with 1 concurrent workers.\n",
      "[Parallel(n_jobs=1)]: Done  10 out of  10 | elapsed: 11.6min finished\n",
      "[Parallel(n_jobs=1)]: Using backend SequentialBackend with 1 concurrent workers.\n",
      "[Parallel(n_jobs=1)]: Done  10 out of  10 | elapsed:   12.0s finished\n",
      "[Parallel(n_jobs=1)]: Using backend SequentialBackend with 1 concurrent workers.\n",
      "[Parallel(n_jobs=1)]: Done  10 out of  10 | elapsed: 12.5min finished\n",
      "[Parallel(n_jobs=1)]: Using backend SequentialBackend with 1 concurrent workers.\n",
      "[Parallel(n_jobs=1)]: Done  10 out of  10 | elapsed:   11.3s finished\n",
      "[Parallel(n_jobs=1)]: Using backend SequentialBackend with 1 concurrent workers.\n",
      "[Parallel(n_jobs=1)]: Done  10 out of  10 | elapsed: 11.2min finished\n",
      "[Parallel(n_jobs=1)]: Using backend SequentialBackend with 1 concurrent workers.\n",
      "[Parallel(n_jobs=1)]: Done  10 out of  10 | elapsed:   11.2s finished\n",
      "[Parallel(n_jobs=1)]: Using backend SequentialBackend with 1 concurrent workers.\n",
      "[Parallel(n_jobs=1)]: Done  10 out of  10 | elapsed: 13.1min finished\n",
      "[Parallel(n_jobs=1)]: Using backend SequentialBackend with 1 concurrent workers.\n",
      "[Parallel(n_jobs=1)]: Done  10 out of  10 | elapsed:   11.7s finished\n",
      "[Parallel(n_jobs=1)]: Using backend SequentialBackend with 1 concurrent workers.\n",
      "[Parallel(n_jobs=1)]: Done  10 out of  10 | elapsed: 11.0min finished\n",
      "[Parallel(n_jobs=1)]: Using backend SequentialBackend with 1 concurrent workers.\n",
      "[Parallel(n_jobs=1)]: Done  10 out of  10 | elapsed:   12.3s finished\n",
      "[Parallel(n_jobs=1)]: Using backend SequentialBackend with 1 concurrent workers.\n",
      "[Parallel(n_jobs=1)]: Done  10 out of  10 | elapsed: 11.2min finished\n",
      "[Parallel(n_jobs=1)]: Using backend SequentialBackend with 1 concurrent workers.\n",
      "[Parallel(n_jobs=1)]: Done  10 out of  10 | elapsed:   10.9s finished\n",
      "[Parallel(n_jobs=1)]: Using backend SequentialBackend with 1 concurrent workers.\n",
      "[Parallel(n_jobs=1)]: Done  10 out of  10 | elapsed: 11.6min finished\n",
      "[Parallel(n_jobs=1)]: Using backend SequentialBackend with 1 concurrent workers.\n",
      "[Parallel(n_jobs=1)]: Done  10 out of  10 | elapsed:   12.8s finished\n",
      "[Parallel(n_jobs=1)]: Using backend SequentialBackend with 1 concurrent workers.\n",
      "[Parallel(n_jobs=1)]: Done  10 out of  10 | elapsed: 10.1min finished\n",
      "[Parallel(n_jobs=1)]: Using backend SequentialBackend with 1 concurrent workers.\n",
      "[Parallel(n_jobs=1)]: Done  10 out of  10 | elapsed:   13.0s finished\n",
      "[Parallel(n_jobs=1)]: Using backend SequentialBackend with 1 concurrent workers.\n",
      "[Parallel(n_jobs=1)]: Done  10 out of  10 | elapsed: 11.2min finished\n",
      "[Parallel(n_jobs=1)]: Using backend SequentialBackend with 1 concurrent workers.\n",
      "[Parallel(n_jobs=1)]: Done  10 out of  10 | elapsed:   10.6s finished\n",
      "[Parallel(n_jobs=1)]: Using backend SequentialBackend with 1 concurrent workers.\n",
      "[Parallel(n_jobs=1)]: Done  10 out of  10 | elapsed:  9.6min finished\n",
      "[Parallel(n_jobs=1)]: Using backend SequentialBackend with 1 concurrent workers.\n",
      "[Parallel(n_jobs=1)]: Done  10 out of  10 | elapsed:   10.0s finished\n",
      "[Parallel(n_jobs=1)]: Using backend SequentialBackend with 1 concurrent workers.\n",
      "[Parallel(n_jobs=1)]: Done  10 out of  10 | elapsed: 15.2min finished\n",
      "[Parallel(n_jobs=1)]: Using backend SequentialBackend with 1 concurrent workers.\n",
      "[Parallel(n_jobs=1)]: Done  10 out of  10 | elapsed:   13.4s finished\n",
      "[Parallel(n_jobs=1)]: Using backend SequentialBackend with 1 concurrent workers.\n",
      "[Parallel(n_jobs=1)]: Done  10 out of  10 | elapsed: 12.9min finished\n",
      "[Parallel(n_jobs=1)]: Using backend SequentialBackend with 1 concurrent workers.\n",
      "[Parallel(n_jobs=1)]: Done  10 out of  10 | elapsed:   11.9s finished\n",
      "[Parallel(n_jobs=1)]: Using backend SequentialBackend with 1 concurrent workers.\n",
      "[Parallel(n_jobs=1)]: Done  10 out of  10 | elapsed:    0.0s finished\n",
      "[Parallel(n_jobs=1)]: Using backend SequentialBackend with 1 concurrent workers.\n",
      "[Parallel(n_jobs=1)]: Done  10 out of  10 | elapsed:    0.0s finished\n",
      "[Parallel(n_jobs=1)]: Using backend SequentialBackend with 1 concurrent workers.\n",
      "[Parallel(n_jobs=1)]: Done  10 out of  10 | elapsed:    0.0s finished\n",
      "[Parallel(n_jobs=1)]: Using backend SequentialBackend with 1 concurrent workers.\n",
      "[Parallel(n_jobs=1)]: Done  10 out of  10 | elapsed:    0.0s finished\n",
      "[Parallel(n_jobs=1)]: Using backend SequentialBackend with 1 concurrent workers.\n",
      "[Parallel(n_jobs=1)]: Done  10 out of  10 | elapsed:    0.0s finished\n",
      "[Parallel(n_jobs=1)]: Using backend SequentialBackend with 1 concurrent workers.\n",
      "[Parallel(n_jobs=1)]: Done  10 out of  10 | elapsed:    0.0s finished\n",
      "[Parallel(n_jobs=1)]: Using backend SequentialBackend with 1 concurrent workers.\n",
      "[Parallel(n_jobs=1)]: Done  10 out of  10 | elapsed:    0.0s finished\n",
      "[Parallel(n_jobs=1)]: Using backend SequentialBackend with 1 concurrent workers.\n",
      "[Parallel(n_jobs=1)]: Done  10 out of  10 | elapsed:    0.0s finished\n",
      "[Parallel(n_jobs=1)]: Using backend SequentialBackend with 1 concurrent workers.\n",
      "[Parallel(n_jobs=1)]: Done  10 out of  10 | elapsed:    0.0s finished\n",
      "[Parallel(n_jobs=1)]: Using backend SequentialBackend with 1 concurrent workers.\n",
      "[Parallel(n_jobs=1)]: Done  10 out of  10 | elapsed:    0.0s finished\n",
      "[Parallel(n_jobs=1)]: Using backend SequentialBackend with 1 concurrent workers.\n",
      "[Parallel(n_jobs=1)]: Done  10 out of  10 | elapsed:    0.0s finished\n",
      "[Parallel(n_jobs=1)]: Using backend SequentialBackend with 1 concurrent workers.\n",
      "[Parallel(n_jobs=1)]: Done  10 out of  10 | elapsed:    0.0s finished\n",
      "[Parallel(n_jobs=1)]: Using backend SequentialBackend with 1 concurrent workers.\n",
      "[Parallel(n_jobs=1)]: Done  10 out of  10 | elapsed:    0.0s finished\n",
      "[Parallel(n_jobs=1)]: Using backend SequentialBackend with 1 concurrent workers.\n",
      "[Parallel(n_jobs=1)]: Done  10 out of  10 | elapsed:    0.0s finished\n",
      "[Parallel(n_jobs=1)]: Using backend SequentialBackend with 1 concurrent workers.\n",
      "[Parallel(n_jobs=1)]: Done  10 out of  10 | elapsed:    0.0s finished\n",
      "[Parallel(n_jobs=1)]: Using backend SequentialBackend with 1 concurrent workers.\n",
      "[Parallel(n_jobs=1)]: Done  10 out of  10 | elapsed:    0.0s finished\n",
      "[Parallel(n_jobs=1)]: Using backend SequentialBackend with 1 concurrent workers.\n",
      "[Parallel(n_jobs=1)]: Done  10 out of  10 | elapsed:    0.0s finished\n",
      "[Parallel(n_jobs=1)]: Using backend SequentialBackend with 1 concurrent workers.\n",
      "[Parallel(n_jobs=1)]: Done  10 out of  10 | elapsed:    0.0s finished\n",
      "[Parallel(n_jobs=1)]: Using backend SequentialBackend with 1 concurrent workers.\n",
      "[Parallel(n_jobs=1)]: Done  10 out of  10 | elapsed:    0.1s finished\n",
      "[Parallel(n_jobs=1)]: Using backend SequentialBackend with 1 concurrent workers.\n",
      "[Parallel(n_jobs=1)]: Done  10 out of  10 | elapsed:    0.0s finished\n"
     ]
    },
    {
     "data": {
      "text/plain": [
       "0.9999339393298806"
      ]
     },
     "execution_count": 12,
     "metadata": {},
     "output_type": "execute_result"
    }
   ],
   "source": [
    "RFC_ABC2 = RandomForestClassifier(n_estimators = 10, criterion = \"gini\", bootstrap = True, verbose = 1)\n",
    "ABC_RFC2 = AdaBoostClassifier(base_estimator = RFC_ABC2, n_estimators = 20)\n",
    "ABC_RFC2.fit(train, train_lbl)\n",
    "ABC_RFC2.score(test, test_lbl)"
   ]
  },
  {
   "cell_type": "code",
   "execution_count": 14,
   "id": "c8765884-78c0-4a7d-b570-ecb8115ee81a",
   "metadata": {},
   "outputs": [
    {
     "data": {
      "text/plain": [
       "['models/RandomForestClassifier_AdaBoost2.joblib']"
      ]
     },
     "execution_count": 14,
     "metadata": {},
     "output_type": "execute_result"
    }
   ],
   "source": [
    "dump(ABC_RFC2, f'models/RandomForestClassifier_AdaBoost2.joblib')"
   ]
  },
  {
   "cell_type": "code",
   "execution_count": 15,
   "id": "e0185f17-b497-46d0-8824-15c4f805f87e",
   "metadata": {
    "scrolled": true,
    "tags": []
   },
   "outputs": [
    {
     "name": "stderr",
     "output_type": "stream",
     "text": [
      "[Parallel(n_jobs=1)]: Using backend SequentialBackend with 1 concurrent workers.\n",
      "[Parallel(n_jobs=1)]: Done  10 out of  10 | elapsed:    0.0s finished\n",
      "[Parallel(n_jobs=1)]: Using backend SequentialBackend with 1 concurrent workers.\n",
      "[Parallel(n_jobs=1)]: Done  10 out of  10 | elapsed:    0.0s finished\n",
      "[Parallel(n_jobs=1)]: Using backend SequentialBackend with 1 concurrent workers.\n",
      "[Parallel(n_jobs=1)]: Done  10 out of  10 | elapsed:    0.0s finished\n",
      "[Parallel(n_jobs=1)]: Using backend SequentialBackend with 1 concurrent workers.\n",
      "[Parallel(n_jobs=1)]: Done  10 out of  10 | elapsed:    0.0s finished\n",
      "[Parallel(n_jobs=1)]: Using backend SequentialBackend with 1 concurrent workers.\n",
      "[Parallel(n_jobs=1)]: Done  10 out of  10 | elapsed:    0.0s finished\n",
      "[Parallel(n_jobs=1)]: Using backend SequentialBackend with 1 concurrent workers.\n",
      "[Parallel(n_jobs=1)]: Done  10 out of  10 | elapsed:    0.0s finished\n",
      "[Parallel(n_jobs=1)]: Using backend SequentialBackend with 1 concurrent workers.\n",
      "[Parallel(n_jobs=1)]: Done  10 out of  10 | elapsed:    0.0s finished\n",
      "[Parallel(n_jobs=1)]: Using backend SequentialBackend with 1 concurrent workers.\n",
      "[Parallel(n_jobs=1)]: Done  10 out of  10 | elapsed:    0.0s finished\n",
      "[Parallel(n_jobs=1)]: Using backend SequentialBackend with 1 concurrent workers.\n",
      "[Parallel(n_jobs=1)]: Done  10 out of  10 | elapsed:    0.0s finished\n",
      "[Parallel(n_jobs=1)]: Using backend SequentialBackend with 1 concurrent workers.\n",
      "[Parallel(n_jobs=1)]: Done  10 out of  10 | elapsed:    0.0s finished\n",
      "[Parallel(n_jobs=1)]: Using backend SequentialBackend with 1 concurrent workers.\n",
      "[Parallel(n_jobs=1)]: Done  10 out of  10 | elapsed:    0.0s finished\n",
      "[Parallel(n_jobs=1)]: Using backend SequentialBackend with 1 concurrent workers.\n",
      "[Parallel(n_jobs=1)]: Done  10 out of  10 | elapsed:    0.0s finished\n",
      "[Parallel(n_jobs=1)]: Using backend SequentialBackend with 1 concurrent workers.\n",
      "[Parallel(n_jobs=1)]: Done  10 out of  10 | elapsed:    0.0s finished\n",
      "[Parallel(n_jobs=1)]: Using backend SequentialBackend with 1 concurrent workers.\n",
      "[Parallel(n_jobs=1)]: Done  10 out of  10 | elapsed:    0.0s finished\n",
      "[Parallel(n_jobs=1)]: Using backend SequentialBackend with 1 concurrent workers.\n",
      "[Parallel(n_jobs=1)]: Done  10 out of  10 | elapsed:    0.0s finished\n",
      "[Parallel(n_jobs=1)]: Using backend SequentialBackend with 1 concurrent workers.\n",
      "[Parallel(n_jobs=1)]: Done  10 out of  10 | elapsed:    0.0s finished\n",
      "[Parallel(n_jobs=1)]: Using backend SequentialBackend with 1 concurrent workers.\n",
      "[Parallel(n_jobs=1)]: Done  10 out of  10 | elapsed:    0.0s finished\n",
      "[Parallel(n_jobs=1)]: Using backend SequentialBackend with 1 concurrent workers.\n",
      "[Parallel(n_jobs=1)]: Done  10 out of  10 | elapsed:    0.0s finished\n",
      "[Parallel(n_jobs=1)]: Using backend SequentialBackend with 1 concurrent workers.\n",
      "[Parallel(n_jobs=1)]: Done  10 out of  10 | elapsed:    0.0s finished\n",
      "[Parallel(n_jobs=1)]: Using backend SequentialBackend with 1 concurrent workers.\n",
      "[Parallel(n_jobs=1)]: Done  10 out of  10 | elapsed:    0.1s finished\n"
     ]
    },
    {
     "data": {
      "image/png": "[encoded data removed]",
      "text/plain": [
       "<Figure size 432x288 with 2 Axes>"
      ]
     },
     "metadata": {
      "needs_background": "light"
     },
     "output_type": "display_data"
    }
   ],
   "source": [
    "confusion_matrix_ABC_RFC2 = plot_confusion_matrix(ABC_RFC2, test, test_lbl, labels=['ddos', 'Benign']);\n",
    "confusion_matrix_ABC_RFC2.ax_.set_title('RandomForestClassifier w/ AdaBoost\\n99%-split')\n",
    "confusion_matrix_ABC_RFC2.figure_.savefig('img/confusion_matrix_ABC_RFC2.png')"
   ]
  }
 ],
 "metadata": {
  "kernelspec": {
   "display_name": "Python 3",
   "language": "python",
   "name": "python3"
  },
  "language_info": {
   "codemirror_mode": {
    "name": "ipython",
    "version": 3
   },
   "file_extension": ".py",
   "mimetype": "text/x-python",
   "name": "python",
   "nbconvert_exporter": "python",
   "pygments_lexer": "ipython3",
   "version": "3.9.1"
  }
 },
 "nbformat": 4,
 "nbformat_minor": 5
}
