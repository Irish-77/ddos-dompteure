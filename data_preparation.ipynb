{
 "cells": [
  {
   "cell_type": "code",
   "execution_count": 1,
   "id": "da0e72ec-271d-4b99-ae5b-e83fa85478ec",
   "metadata": {},
   "outputs": [],
   "source": [
    "import pandas as pd\n",
    "pd.set_option('display.max_columns', None)\n",
    "pd.set_option('display.max_rows', None)"
   ]
  },
  {
   "cell_type": "code",
   "execution_count": null,
   "id": "66ec2d2d-c2a8-4ae5-8260-8dc51c1e3e5a",
   "metadata": {},
   "outputs": [],
   "source": [
    "import dask\n",
    "import dask.dataframe as dd\n",
    "df = dd.read_csv('cleaned_ds.csv')"
   ]
  },
  {
   "cell_type": "code",
   "execution_count": null,
   "id": "6a90dfc6-87e1-4dc8-a624-d87bac08fc96",
   "metadata": {},
   "outputs": [],
   "source": [
    "import numpy as np\n",
    "import seaborn as sns\n",
    "import matplotlib.pyplot as plt\n",
    "import dask.array as da"
   ]
  },
  {
   "cell_type": "code",
   "execution_count": null,
   "id": "8bc73fdf-63dd-4dbd-837a-59d0a60f0c4b",
   "metadata": {},
   "outputs": [],
   "source": [
    "df_fast = df.sample(frac=0.001, random_state = 1).compute()"
   ]
  },
  {
   "cell_type": "code",
   "execution_count": null,
   "id": "929b972e-e830-4bb6-a8e7-80e5f940443f",
   "metadata": {},
   "outputs": [],
   "source": [
    "# Allocating columns\n",
    "category_vars = [\"Label\", \"Protocol\", \"Fwd PSH Flags\", \"Bwd PSH Flags\", \"FIN Flag Cnt\", \"SYN Flag Cnt\", \"RST Flag Cnt\", \"PSH Flag Cnt\", \"ACK Flag Cnt\", \"URG Flag Cnt\", \"CWE Flag Count\", \"ECE Flag Cnt\", \"dst_port_transformed\", \"src_port_transformed\"]\n",
    "object_vars = ['Dst IP', 'Flow ID', 'Src IP', 'Timestamp'] #df.select_dtypes(include=['object']).columns\n",
    "continuous_vars = df.columns[~df.columns.isin(category_vars) & ~df.columns.isin(object_vars)]"
   ]
  },
  {
   "cell_type": "markdown",
   "id": "f05afa45-2983-4347-82e5-bcc8b48819e2",
   "metadata": {},
   "source": [
    "## PCA"
   ]
  },
  {
   "cell_type": "markdown",
   "id": "1bba0d92-222f-4d67-a720-80e62b64a11f",
   "metadata": {},
   "source": [
    "## One hot encoding"
   ]
  },
  {
   "cell_type": "markdown",
   "id": "55396650-cb58-4c7e-9844-911c1903217d",
   "metadata": {},
   "source": [
    "## Save DF in new CSV"
   ]
  }
 ],
 "metadata": {
  "kernelspec": {
   "display_name": "Python 3",
   "language": "python",
   "name": "python3"
  },
  "language_info": {
   "codemirror_mode": {
    "name": "ipython",
    "version": 3
   },
   "file_extension": ".py",
   "mimetype": "text/x-python",
   "name": "python",
   "nbconvert_exporter": "python",
   "pygments_lexer": "ipython3",
   "version": "3.9.2"
  }
 },
 "nbformat": 4,
 "nbformat_minor": 5
}
