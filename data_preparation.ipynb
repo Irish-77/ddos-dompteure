{
 "cells": [
  {
   "cell_type": "markdown",
   "id": "3716b15d-a45a-4959-9344-0314a946e360",
   "metadata": {},
   "source": [
    "# Data Preparation"
   ]
  },
  {
   "cell_type": "markdown",
   "id": "6a3b56ee-668c-4425-9e40-5481172f1490",
   "metadata": {},
   "source": [
    "## Import and Settings"
   ]
  },
  {
   "cell_type": "code",
   "execution_count": 1,
   "id": "c3d7c170-64e3-4d44-9e1a-8bd0d3ff2987",
   "metadata": {},
   "outputs": [],
   "source": [
    "import warnings\n",
    "warnings.filterwarnings(\"ignore\")"
   ]
  },
  {
   "cell_type": "code",
   "execution_count": 8,
   "id": "3062b278-df9d-47e9-b773-c0e216e8b6dc",
   "metadata": {},
   "outputs": [],
   "source": [
    "import numpy as np\n",
    "import seaborn as sns\n",
    "import matplotlib.pyplot as plt\n",
    "import matplotlib.colors as mcolors\n",
    "from joblib import dump"
   ]
  },
  {
   "cell_type": "code",
   "execution_count": 3,
   "id": "ce1c6058-51c7-4bcd-a364-be637a44c59d",
   "metadata": {},
   "outputs": [],
   "source": [
    "import pandas as pd\n",
    "pd.set_option('display.max_columns', None)\n",
    "pd.set_option('display.max_rows', None)"
   ]
  },
  {
   "cell_type": "code",
   "execution_count": 4,
   "id": "f3cdbbf8-081f-4868-9bf5-7770b9e95feb",
   "metadata": {
    "tags": []
   },
   "outputs": [],
   "source": [
    "import dask\n",
    "import dask.dataframe as dd\n",
    "import dask.array as da"
   ]
  },
  {
   "cell_type": "code",
   "execution_count": 5,
   "id": "dad7cc7e-ab44-4449-a3b4-9e41531d0fdb",
   "metadata": {},
   "outputs": [],
   "source": [
    "from sklearn.preprocessing import StandardScaler\n",
    "from sklearn.linear_model import LogisticRegression\n",
    "from sklearn.model_selection import train_test_split\n",
    "from sklearn.decomposition import PCA\n",
    "from sklearn.preprocessing import OneHotEncoder"
   ]
  },
  {
   "cell_type": "code",
   "execution_count": 6,
   "id": "5e7aaa74-7ecc-443a-a0a2-f1e320b7b5c0",
   "metadata": {},
   "outputs": [],
   "source": [
    "df = dd.read_csv('explored_ds.csv')"
   ]
  },
  {
   "cell_type": "code",
   "execution_count": 7,
   "id": "89eb3032-2240-48e7-b3b4-f5c3122dcb65",
   "metadata": {},
   "outputs": [],
   "source": [
    "# allocating columns\n",
    "category_vars_no_order = ['Label', 'Protocol','SYN Flag Cnt', 'RST Flag Cnt', 'PSH Flag Cnt', 'ACK Flag Cnt', 'CWE Flag Count', 'ECE Flag Cnt', 'dst_port_transformed', 'src_port_transformed']\n",
    "category_vars = [i for i in df.columns if i in category_vars_no_order]\n",
    "object_vars = ['Dst IP', 'Src IP'] #df.select_dtypes(include=['object']).columns\n",
    "continuous_vars = df.columns[~df.columns.isin(category_vars) & ~df.columns.isin(object_vars)]"
   ]
  },
  {
   "cell_type": "markdown",
   "id": "7ad829cf-f0cc-45c0-8e6a-3e73a8d26293",
   "metadata": {},
   "source": [
    "---\n",
    "## Principle Component Analysis"
   ]
  },
  {
   "cell_type": "markdown",
   "id": "716a2966-7df9-4fa3-942c-80f547474ba4",
   "metadata": {},
   "source": [
    "### Standard Scaler"
   ]
  },
  {
   "cell_type": "code",
   "execution_count": 8,
   "id": "96c322cc-8da8-46fb-b7e1-3dd62f22ad1d",
   "metadata": {},
   "outputs": [
    {
     "name": "stderr",
     "output_type": "stream",
     "text": [
      "c:\\users\\basti\\documents\\coding\\python-venv\\data-exploration-project\\lib\\site-packages\\dask\\array\\core.py:1508: FutureWarning: The `numpy.may_share_memory` function is not implemented by Dask array. You may want to use the da.map_blocks function or something similar to silence this warning. Your code may stop working in a future release.\n",
      "  warnings.warn(\n"
     ]
    }
   ],
   "source": [
    "# scale data to reduce influence of large values\n",
    "scaler = StandardScaler()\n",
    "x = scaler.fit_transform(df[continuous_vars].values)"
   ]
  },
  {
   "cell_type": "code",
   "execution_count": 9,
   "id": "cc8c541c-4b47-4f93-8570-0cdc7f76445f",
   "metadata": {},
   "outputs": [
    {
     "data": {
      "text/plain": [
       "['models/std_scaler.transformer']"
      ]
     },
     "execution_count": 9,
     "metadata": {},
     "output_type": "execute_result"
    }
   ],
   "source": [
    "scaler = StandardScaler()\n",
    "scaler.fit(df[continuous_vars].values)"
   ]
  },
  {
   "cell_type": "code",
   "execution_count": 11,
   "id": "9df85a0b-73be-41f5-93f5-1b54f68d9d6f",
   "metadata": {},
   "outputs": [],
   "source": [
    "x = scaler.transform(df[continuous_vars].values)"
   ]
  },
  {
   "cell_type": "code",
   "execution_count": 9,
   "id": "02d9f841-8f20-40e1-a0d0-97c824493c91",
   "metadata": {},
   "outputs": [
    {
     "data": {
      "text/plain": [
       "['models/std_scaler.joblib']"
      ]
     },
     "execution_count": 9,
     "metadata": {},
     "output_type": "execute_result"
    }
   ],
   "source": [
    "dump(scaler, 'models/std_scaler.transformer')"
   ]
  },
  {
   "cell_type": "markdown",
   "id": "6af90d97-29d8-40ee-a68d-8c3c9d27ea2d",
   "metadata": {},
   "source": [
    "### Principle Compoments Composition\n",
    "\n",
    "The first 50 principle components are calculated to determine a good amount of components in the following."
   ]
  },
  {
   "cell_type": "code",
   "execution_count": 10,
   "id": "d1a4b804-7924-4ec4-9076-f4c7804740bd",
   "metadata": {},
   "outputs": [],
   "source": [
    "pca = PCA(n_components='mle')\n",
    "x = pca.fit_transform(x)"
   ]
  },
  {
   "cell_type": "code",
   "execution_count": 11,
   "id": "5b788238-ccc1-4f48-a5e2-5febef1e3b56",
   "metadata": {},
   "outputs": [
    {
     "data": {
      "text/plain": [
       "['models/pca.joblib']"
      ]
     },
     "execution_count": 11,
     "metadata": {},
     "output_type": "execute_result"
    }
   ],
   "source": [
    "dump(pca, 'models/pca.transformer')"
   ]
  },
  {
   "cell_type": "code",
   "execution_count": 13,
   "id": "ac020fd1-83d6-4d3d-abba-1da0aaeee4c4",
   "metadata": {},
   "outputs": [],
   "source": [
    "principalComponents = pca.transform(x)"
   ]
  },
  {
   "cell_type": "code",
   "execution_count": 12,
   "id": "057a9806-a025-424f-99b0-e9c00e228302",
   "metadata": {
    "tags": []
   },
   "outputs": [
    {
     "data": {
      "image/png": "[encoded data removed]",
      "text/plain": [
       "<Figure size 432x288 with 1 Axes>"
      ]
     },
     "metadata": {
      "needs_background": "light"
     },
     "output_type": "display_data"
    }
   ],
   "source": [
    "explained_variances = [sum(pca.explained_variance_ratio_[:i]) for i in range(len(pca.explained_variance_ratio_))]\n",
    "axes = sns.lineplot(data=explained_variances)\n",
    "axes.set(xlabel = 'Number of first x Components', ylabel = 'Sum of Explained Variance');"
   ]
  },
  {
   "cell_type": "code",
   "execution_count": 77,
   "id": "70393ba3-47ec-4777-a5a2-6d8e5493669f",
   "metadata": {
    "tags": []
   },
   "outputs": [
    {
     "data": {
      "image/png": "[encoded data removed]",
      "text/plain": [
       "<Figure size 432x288 with 1 Axes>"
      ]
     },
     "metadata": {
      "needs_background": "light"
     },
     "output_type": "display_data"
    }
   ],
   "source": [
    "explained_variances = [sum(pca.explained_variance_ratio_[:i])*100 for i in range(len(pca.explained_variance_ratio_))]\n",
    "axes = sns.lineplot(data=explained_variances)\n",
    "axes.axhline(explained_variances[23], color='r')\n",
    "axes.set(xlabel = 'Number of first x Components', ylabel = 'Sum of the Percentage Explanatory Variances');"
   ]
  },
  {
   "cell_type": "code",
   "execution_count": 73,
   "id": "a5d9ee89-3d28-4951-9c8d-57088ccd0074",
   "metadata": {},
   "outputs": [
    {
     "data": {
      "image/png": "[encoded data removed]",
      "text/plain": [
       "<Figure size 432x288 with 1 Axes>"
      ]
     },
     "metadata": {
      "needs_background": "light"
     },
     "output_type": "display_data"
    }
   ],
   "source": [
    "axes = sns.barplot(x=list(range(0, len(pca.explained_variance_ratio_)-2)), y=pca.explained_variance_ratio_[:-2]*100, color=mcolors.TABLEAU_COLORS['tab:blue'])\n",
    "axes.axhline(0.5, color='r', linewidth=1)\n",
    "for label in axes.xaxis.get_ticklabels()[::2]:\n",
    "    label.set_visible(False)\n",
    "axes.set(xlabel = 'Component', ylabel = 'Percent of Explained Variance');"
   ]
  },
  {
   "cell_type": "code",
   "execution_count": 74,
   "id": "10406882-d9e4-44c7-a424-c123a1c21416",
   "metadata": {},
   "outputs": [
    {
     "data": {
      "image/png": "[encoded data removed]",
      "text/plain": [
       "<Figure size 432x288 with 1 Axes>"
      ]
     },
     "metadata": {
      "needs_background": "light"
     },
     "output_type": "display_data"
    }
   ],
   "source": [
    "axes = sns.barplot(x=list(range(0, len(pca.explained_variance_ratio_)-2)), y=pca.explained_variance_ratio_[:-2]*100, color=mcolors.TABLEAU_COLORS['tab:blue'])\n",
    "axes.axhline(0.5, color='r', linewidth=1)\n",
    "for label in axes.xaxis.get_ticklabels()[::2]:\n",
    "    label.set_visible(False)\n",
    "ymin, ymax = plt.ylim()\n",
    "plt.ylim(ymin * 0.1, ymax * 0.1)\n",
    "axes.set(xlabel = 'Component', ylabel = 'Percent of Explained Variance');"
   ]
  },
  {
   "cell_type": "code",
   "execution_count": 20,
   "id": "a65dc963-52f4-418b-850e-7faa9d3e459e",
   "metadata": {},
   "outputs": [],
   "source": [
    "# rename columns with PC-{#component}\n",
    "col_names = []\n",
    "for i in range(principalComponents.shape[1]):\n",
    "    col_names.append(f'PC-{i}')\n",
    "principalDf = pd.DataFrame(data = principalComponents, columns = col_names)"
   ]
  },
  {
   "cell_type": "code",
   "execution_count": 21,
   "id": "b13cfdc9-17ed-4723-8879-1973f35ee6e2",
   "metadata": {},
   "outputs": [],
   "source": [
    "df_label = df['Label'].compute()"
   ]
  },
  {
   "cell_type": "code",
   "execution_count": 22,
   "id": "c684b857-c06e-42fc-b4d0-13223e6bfb2d",
   "metadata": {},
   "outputs": [],
   "source": [
    "# add label to PCs\n",
    "df_pca = pd.concat([principalDf, df_label.reset_index()['Label']], axis = 1)"
   ]
  },
  {
   "cell_type": "markdown",
   "id": "cdd636da-1b3e-4e22-8cad-ff414fd41710",
   "metadata": {},
   "source": [
    "### Logistic Regression for Test Purposes\n",
    "\n",
    "Multiple logistic regression models are trained to get insights about the principle components. We choose the amount of components which result in the highest accuracy for the smallest amount of components needed. (Therefore, we incremently select the components with the highest explained variance.)"
   ]
  },
  {
   "cell_type": "code",
   "execution_count": null,
   "id": "f8da0ac2-5741-4977-aee4-972b8369f546",
   "metadata": {},
   "outputs": [],
   "source": [
    "train, test, train_lbl, test_lbl = train_test_split(df_pca, df_pca[['Label']].reset_index()['Label'], test_size=1/7.0, random_state=0)"
   ]
  },
  {
   "cell_type": "code",
   "execution_count": 20,
   "id": "c791af43-a87c-4e01-80d3-f30799517905",
   "metadata": {
    "scrolled": true,
    "tags": []
   },
   "outputs": [
    {
     "ename": "AttributeError",
     "evalue": "'LogisticRegression' object has no attribute 'explained_variance_'",
     "output_type": "error",
     "traceback": [
      "\u001b[1;31m---------------------------------------------------------------------------\u001b[0m",
      "\u001b[1;31mAttributeError\u001b[0m                            Traceback (most recent call last)",
      "\u001b[1;32m<ipython-input-20-ad1a20073176>\u001b[0m in \u001b[0;36m<module>\u001b[1;34m\u001b[0m\n\u001b[0;32m      6\u001b[0m     \u001b[0mlogisticRegr\u001b[0m\u001b[1;33m.\u001b[0m\u001b[0mfit\u001b[0m\u001b[1;33m(\u001b[0m\u001b[0mtrain\u001b[0m\u001b[1;33m[\u001b[0m\u001b[0mcol_names\u001b[0m\u001b[1;33m[\u001b[0m\u001b[1;33m:\u001b[0m\u001b[0mi\u001b[0m\u001b[1;33m+\u001b[0m\u001b[1;36m1\u001b[0m\u001b[1;33m]\u001b[0m\u001b[1;33m]\u001b[0m\u001b[1;33m,\u001b[0m \u001b[0mtrain_lbl\u001b[0m\u001b[1;33m)\u001b[0m\u001b[1;33m\u001b[0m\u001b[1;33m\u001b[0m\u001b[0m\n\u001b[0;32m      7\u001b[0m     \u001b[0mscores\u001b[0m\u001b[1;33m.\u001b[0m\u001b[0mappend\u001b[0m\u001b[1;33m(\u001b[0m\u001b[0mlogisticRegr\u001b[0m\u001b[1;33m.\u001b[0m\u001b[0mscore\u001b[0m\u001b[1;33m(\u001b[0m\u001b[0mtest\u001b[0m\u001b[1;33m[\u001b[0m\u001b[0mcol_names\u001b[0m\u001b[1;33m[\u001b[0m\u001b[1;33m:\u001b[0m\u001b[0mi\u001b[0m\u001b[1;33m+\u001b[0m\u001b[1;36m1\u001b[0m\u001b[1;33m]\u001b[0m\u001b[1;33m]\u001b[0m\u001b[1;33m,\u001b[0m \u001b[0mtest_lbl\u001b[0m\u001b[1;33m)\u001b[0m\u001b[1;33m)\u001b[0m\u001b[1;33m\u001b[0m\u001b[1;33m\u001b[0m\u001b[0m\n\u001b[1;32m----> 8\u001b[1;33m     \u001b[0mprint\u001b[0m\u001b[1;33m(\u001b[0m\u001b[0mlogisticRegr\u001b[0m\u001b[1;33m.\u001b[0m\u001b[0mexplained_variance_\u001b[0m\u001b[1;33m)\u001b[0m\u001b[1;33m\u001b[0m\u001b[1;33m\u001b[0m\u001b[0m\n\u001b[0m\u001b[0;32m      9\u001b[0m     \u001b[0mprint\u001b[0m\u001b[1;33m(\u001b[0m\u001b[0mlogisticRegr\u001b[0m\u001b[1;33m.\u001b[0m\u001b[0mexplained_variance_ratio_\u001b[0m\u001b[1;33m)\u001b[0m\u001b[1;33m\u001b[0m\u001b[1;33m\u001b[0m\u001b[0m\n\u001b[0;32m     10\u001b[0m     \u001b[0mprint\u001b[0m\u001b[1;33m(\u001b[0m\u001b[1;34m\"[\"\u001b[0m \u001b[1;33m+\u001b[0m \u001b[1;33m(\u001b[0m\u001b[0mi\u001b[0m\u001b[1;33m+\u001b[0m\u001b[1;36m1\u001b[0m\u001b[1;33m)\u001b[0m \u001b[1;33m*\u001b[0m \u001b[1;34m\"=\"\u001b[0m \u001b[1;33m+\u001b[0m \u001b[1;34m\">\"\u001b[0m \u001b[1;33m+\u001b[0m \u001b[1;33m(\u001b[0m\u001b[0mn\u001b[0m\u001b[1;33m-\u001b[0m\u001b[0mi\u001b[0m\u001b[1;33m-\u001b[0m\u001b[1;36m1\u001b[0m\u001b[1;33m)\u001b[0m \u001b[1;33m*\u001b[0m \u001b[1;34m\" \"\u001b[0m \u001b[1;33m+\u001b[0m \u001b[1;34m\"]\"\u001b[0m \u001b[1;33m+\u001b[0m \u001b[1;34m\"\\t\\t\"\u001b[0m \u001b[1;33m+\u001b[0m \u001b[1;34mf\"{i+1}/{n}\"\u001b[0m\u001b[1;33m,\u001b[0m \u001b[0mend\u001b[0m\u001b[1;33m=\u001b[0m\u001b[1;34m\"\\r\"\u001b[0m\u001b[1;33m)\u001b[0m\u001b[1;33m\u001b[0m\u001b[1;33m\u001b[0m\u001b[0m\n",
      "\u001b[1;31mAttributeError\u001b[0m: 'LogisticRegression' object has no attribute 'explained_variance_'"
     ]
    }
   ],
   "source": [
    "scores = []\n",
    "n = df_pca.shape[1]\n",
    "for i in range(n):\n",
    "    logisticRegr = LogisticRegression(solver = 'lbfgs', max_iter=10)\n",
    "    logisticRegr.fit(train[col_names[:i+1]], train_lbl)\n",
    "    scores.append(logisticRegr.score(test[col_names[:i+1]], test_lbl))\n",
    "    print('[' + (i+1) * '=' + '>' + (n-i-1) * ' ' + ']' + '\\t\\t' + f'{i+1}/{n}', end='\\r')"
   ]
  },
  {
   "cell_type": "markdown",
   "id": "57b48191-3cb3-4d5f-9718-c32bcc3108cf",
   "metadata": {},
   "source": [
    "### Evaluating the Models\n",
    "\n",
    "In the diagram below, we can see that we reach the highest accuracy at around the first 15 components."
   ]
  },
  {
   "cell_type": "code",
   "execution_count": 66,
   "id": "3425ef93-4c67-4729-8065-80d495a7d20d",
   "metadata": {},
   "outputs": [
    {
     "data": {
      "image/png": "[encoded data removed]",
      "text/plain": [
       "<Figure size 432x288 with 1 Axes>"
      ]
     },
     "metadata": {
      "needs_background": "light"
     },
     "output_type": "display_data"
    }
   ],
   "source": [
    "axes = sns.lineplot(data=scores)\n",
    "axes.set(xlabel = 'Number of first x Components', \n",
    "         ylabel = 'Accuracy', title  = 'Accuracy by Principle Components');"
   ]
  },
  {
   "cell_type": "code",
   "execution_count": 69,
   "id": "64cabe93-ddb9-4b98-ab42-4d85bfb8de98",
   "metadata": {
    "scrolled": true,
    "tags": []
   },
   "outputs": [
    {
     "name": "stdout",
     "output_type": "stream",
     "text": [
      "0 0.8286272105181868\n",
      "1 0.8282628177916136\n",
      "2 0.8282628177916136\n",
      "3 0.8947006754213407\n",
      "4 0.8511853399441943\n",
      "5 0.8511807156710144\n",
      "6 0.8502891558019369\n",
      "7 0.8936232197704326\n",
      "8 0.8938479594469739\n",
      "9 0.9246104743486943\n",
      "10 0.9582899807722721\n",
      "11 0.9583500963236103\n",
      "12 0.9596707887437792\n",
      "13 0.9602395743449024\n",
      "14 0.9616139083339577\n",
      "15 0.9616028100783259\n",
      "16 0.9597142569116699\n",
      "17 0.9584805008272824\n",
      "18 0.9581669751056877\n",
      "19 0.9580726399328185\n",
      "20 0.9584721771355588\n",
      "21 0.9585591134713402\n",
      "22 0.9585850094011473\n",
      "23 0.9585674371630639\n",
      "24 0.9588115987869607\n",
      "25 0.9588060496591448\n",
      "26 0.9587764543107937\n",
      "27 0.9587440843985346\n",
      "28 0.9586867434111044\n",
      "29 0.9586858185564684\n",
      "30 0.9587265121604511\n",
      "31 0.9508569240629604\n",
      "32 0.9507598143261833\n",
      "33 0.9507477912159157\n",
      "34 0.9508828199927677\n",
      "35 0.9508310281331531\n",
      "36 0.9508624731907762\n",
      "37 0.9508633980454122\n",
      "38 0.9508624731907762\n",
      "39 0.9508624731907762\n"
     ]
    }
   ],
   "source": [
    "for i in range(len(scores)):\n",
    "    print(f'{i:3.0f} {scores[i]}')"
   ]
  },
  {
   "cell_type": "markdown",
   "id": "f05afa45-2983-4347-82e5-bcc8b48819e2",
   "metadata": {},
   "source": [
    "---\n",
    "## PCA - df_fast"
   ]
  },
  {
   "cell_type": "code",
   "execution_count": 19,
   "id": "8bc73fdf-63dd-4dbd-837a-59d0a60f0c4b",
   "metadata": {},
   "outputs": [],
   "source": [
    "df_fast = df.sample(frac=0.001, random_state = 1).compute()"
   ]
  },
  {
   "cell_type": "code",
   "execution_count": 36,
   "id": "075f4bee-1aeb-45f6-bc9d-f7c28a1112e0",
   "metadata": {},
   "outputs": [],
   "source": [
    "x_fast = StandardScaler().fit_transform(df_fast[continuous_vars].values)"
   ]
  },
  {
   "cell_type": "markdown",
   "id": "0cf25679-b917-4b44-a28b-cae2b58ab2d0",
   "metadata": {},
   "source": [
    "*Prining Compoments Composition*\n",
    "\n",
    "Um eine gute Anzahl von Prinicpal Components zu ermitteln, haben wir uns 50 Stück berechnet und mit jeder neuen Principal Componenet eine logistische Regression berechnet. Die Accuracy wird mit der Anzahl der Komponenten visuell dargestellt. Es lassen sich zwei Knicke feststellen. Der zweite Sprung ist aber zu minimal, dafür dass wir fast 25 neue Komponenten berücksichtigen müssen. Unsere Wahl fällt auf 24 Komponenten."
   ]
  },
  {
   "cell_type": "code",
   "execution_count": 40,
   "id": "2dd32eaf-e959-4967-8aaa-53fe78ef343a",
   "metadata": {
    "scrolled": true,
    "tags": []
   },
   "outputs": [
    {
     "name": "stderr",
     "output_type": "stream",
     "text": [
      "c:\\users\\basti\\documents\\coding\\python-venv\\data-exploration-project\\lib\\site-packages\\sklearn\\linear_model\\_logistic.py:763: ConvergenceWarning: lbfgs failed to converge (status=1):\n",
      "STOP: TOTAL NO. of ITERATIONS REACHED LIMIT.\n",
      "\n",
      "Increase the number of iterations (max_iter) or scale the data as shown in:\n",
      "    https://scikit-learn.org/stable/modules/preprocessing.html\n",
      "Please also refer to the documentation for alternative solver options:\n",
      "    https://scikit-learn.org/stable/modules/linear_model.html#logistic-regression\n",
      "  n_iter_i = _check_optimize_result(\n",
      "c:\\users\\basti\\documents\\coding\\python-venv\\data-exploration-project\\lib\\site-packages\\sklearn\\linear_model\\_logistic.py:763: ConvergenceWarning: lbfgs failed to converge (status=1):\n",
      "STOP: TOTAL NO. of ITERATIONS REACHED LIMIT.\n",
      "\n",
      "Increase the number of iterations (max_iter) or scale the data as shown in:\n",
      "    https://scikit-learn.org/stable/modules/preprocessing.html\n",
      "Please also refer to the documentation for alternative solver options:\n",
      "    https://scikit-learn.org/stable/modules/linear_model.html#logistic-regression\n",
      "  n_iter_i = _check_optimize_result(\n",
      "c:\\users\\basti\\documents\\coding\\python-venv\\data-exploration-project\\lib\\site-packages\\sklearn\\linear_model\\_logistic.py:763: ConvergenceWarning: lbfgs failed to converge (status=1):\n",
      "STOP: TOTAL NO. of ITERATIONS REACHED LIMIT.\n",
      "\n",
      "Increase the number of iterations (max_iter) or scale the data as shown in:\n",
      "    https://scikit-learn.org/stable/modules/preprocessing.html\n",
      "Please also refer to the documentation for alternative solver options:\n",
      "    https://scikit-learn.org/stable/modules/linear_model.html#logistic-regression\n",
      "  n_iter_i = _check_optimize_result(\n",
      "c:\\users\\basti\\documents\\coding\\python-venv\\data-exploration-project\\lib\\site-packages\\sklearn\\linear_model\\_logistic.py:763: ConvergenceWarning: lbfgs failed to converge (status=1):\n",
      "STOP: TOTAL NO. of ITERATIONS REACHED LIMIT.\n",
      "\n",
      "Increase the number of iterations (max_iter) or scale the data as shown in:\n",
      "    https://scikit-learn.org/stable/modules/preprocessing.html\n",
      "Please also refer to the documentation for alternative solver options:\n",
      "    https://scikit-learn.org/stable/modules/linear_model.html#logistic-regression\n",
      "  n_iter_i = _check_optimize_result(\n",
      "c:\\users\\basti\\documents\\coding\\python-venv\\data-exploration-project\\lib\\site-packages\\sklearn\\linear_model\\_logistic.py:763: ConvergenceWarning: lbfgs failed to converge (status=1):\n",
      "STOP: TOTAL NO. of ITERATIONS REACHED LIMIT.\n",
      "\n",
      "Increase the number of iterations (max_iter) or scale the data as shown in:\n",
      "    https://scikit-learn.org/stable/modules/preprocessing.html\n",
      "Please also refer to the documentation for alternative solver options:\n",
      "    https://scikit-learn.org/stable/modules/linear_model.html#logistic-regression\n",
      "  n_iter_i = _check_optimize_result(\n",
      "c:\\users\\basti\\documents\\coding\\python-venv\\data-exploration-project\\lib\\site-packages\\sklearn\\linear_model\\_logistic.py:763: ConvergenceWarning: lbfgs failed to converge (status=1):\n",
      "STOP: TOTAL NO. of ITERATIONS REACHED LIMIT.\n",
      "\n",
      "Increase the number of iterations (max_iter) or scale the data as shown in:\n",
      "    https://scikit-learn.org/stable/modules/preprocessing.html\n",
      "Please also refer to the documentation for alternative solver options:\n",
      "    https://scikit-learn.org/stable/modules/linear_model.html#logistic-regression\n",
      "  n_iter_i = _check_optimize_result(\n",
      "c:\\users\\basti\\documents\\coding\\python-venv\\data-exploration-project\\lib\\site-packages\\sklearn\\linear_model\\_logistic.py:763: ConvergenceWarning: lbfgs failed to converge (status=1):\n",
      "STOP: TOTAL NO. of ITERATIONS REACHED LIMIT.\n",
      "\n",
      "Increase the number of iterations (max_iter) or scale the data as shown in:\n",
      "    https://scikit-learn.org/stable/modules/preprocessing.html\n",
      "Please also refer to the documentation for alternative solver options:\n",
      "    https://scikit-learn.org/stable/modules/linear_model.html#logistic-regression\n",
      "  n_iter_i = _check_optimize_result(\n",
      "c:\\users\\basti\\documents\\coding\\python-venv\\data-exploration-project\\lib\\site-packages\\sklearn\\linear_model\\_logistic.py:763: ConvergenceWarning: lbfgs failed to converge (status=1):\n",
      "STOP: TOTAL NO. of ITERATIONS REACHED LIMIT.\n",
      "\n",
      "Increase the number of iterations (max_iter) or scale the data as shown in:\n",
      "    https://scikit-learn.org/stable/modules/preprocessing.html\n",
      "Please also refer to the documentation for alternative solver options:\n",
      "    https://scikit-learn.org/stable/modules/linear_model.html#logistic-regression\n",
      "  n_iter_i = _check_optimize_result(\n",
      "c:\\users\\basti\\documents\\coding\\python-venv\\data-exploration-project\\lib\\site-packages\\sklearn\\linear_model\\_logistic.py:763: ConvergenceWarning: lbfgs failed to converge (status=1):\n",
      "STOP: TOTAL NO. of ITERATIONS REACHED LIMIT.\n",
      "\n",
      "Increase the number of iterations (max_iter) or scale the data as shown in:\n",
      "    https://scikit-learn.org/stable/modules/preprocessing.html\n",
      "Please also refer to the documentation for alternative solver options:\n",
      "    https://scikit-learn.org/stable/modules/linear_model.html#logistic-regression\n",
      "  n_iter_i = _check_optimize_result(\n",
      "c:\\users\\basti\\documents\\coding\\python-venv\\data-exploration-project\\lib\\site-packages\\sklearn\\linear_model\\_logistic.py:763: ConvergenceWarning: lbfgs failed to converge (status=1):\n",
      "STOP: TOTAL NO. of ITERATIONS REACHED LIMIT.\n",
      "\n",
      "Increase the number of iterations (max_iter) or scale the data as shown in:\n",
      "    https://scikit-learn.org/stable/modules/preprocessing.html\n",
      "Please also refer to the documentation for alternative solver options:\n",
      "    https://scikit-learn.org/stable/modules/linear_model.html#logistic-regression\n",
      "  n_iter_i = _check_optimize_result(\n",
      "c:\\users\\basti\\documents\\coding\\python-venv\\data-exploration-project\\lib\\site-packages\\sklearn\\linear_model\\_logistic.py:763: ConvergenceWarning: lbfgs failed to converge (status=1):\n",
      "STOP: TOTAL NO. of ITERATIONS REACHED LIMIT.\n",
      "\n",
      "Increase the number of iterations (max_iter) or scale the data as shown in:\n",
      "    https://scikit-learn.org/stable/modules/preprocessing.html\n",
      "Please also refer to the documentation for alternative solver options:\n",
      "    https://scikit-learn.org/stable/modules/linear_model.html#logistic-regression\n",
      "  n_iter_i = _check_optimize_result(\n",
      "c:\\users\\basti\\documents\\coding\\python-venv\\data-exploration-project\\lib\\site-packages\\sklearn\\linear_model\\_logistic.py:763: ConvergenceWarning: lbfgs failed to converge (status=1):\n",
      "STOP: TOTAL NO. of ITERATIONS REACHED LIMIT.\n",
      "\n",
      "Increase the number of iterations (max_iter) or scale the data as shown in:\n",
      "    https://scikit-learn.org/stable/modules/preprocessing.html\n",
      "Please also refer to the documentation for alternative solver options:\n",
      "    https://scikit-learn.org/stable/modules/linear_model.html#logistic-regression\n",
      "  n_iter_i = _check_optimize_result(\n",
      "c:\\users\\basti\\documents\\coding\\python-venv\\data-exploration-project\\lib\\site-packages\\sklearn\\linear_model\\_logistic.py:763: ConvergenceWarning: lbfgs failed to converge (status=1):\n",
      "STOP: TOTAL NO. of ITERATIONS REACHED LIMIT.\n",
      "\n",
      "Increase the number of iterations (max_iter) or scale the data as shown in:\n",
      "    https://scikit-learn.org/stable/modules/preprocessing.html\n",
      "Please also refer to the documentation for alternative solver options:\n",
      "    https://scikit-learn.org/stable/modules/linear_model.html#logistic-regression\n",
      "  n_iter_i = _check_optimize_result(\n",
      "c:\\users\\basti\\documents\\coding\\python-venv\\data-exploration-project\\lib\\site-packages\\sklearn\\linear_model\\_logistic.py:763: ConvergenceWarning: lbfgs failed to converge (status=1):\n",
      "STOP: TOTAL NO. of ITERATIONS REACHED LIMIT.\n",
      "\n",
      "Increase the number of iterations (max_iter) or scale the data as shown in:\n",
      "    https://scikit-learn.org/stable/modules/preprocessing.html\n",
      "Please also refer to the documentation for alternative solver options:\n",
      "    https://scikit-learn.org/stable/modules/linear_model.html#logistic-regression\n",
      "  n_iter_i = _check_optimize_result(\n",
      "c:\\users\\basti\\documents\\coding\\python-venv\\data-exploration-project\\lib\\site-packages\\sklearn\\linear_model\\_logistic.py:763: ConvergenceWarning: lbfgs failed to converge (status=1):\n",
      "STOP: TOTAL NO. of ITERATIONS REACHED LIMIT.\n",
      "\n",
      "Increase the number of iterations (max_iter) or scale the data as shown in:\n",
      "    https://scikit-learn.org/stable/modules/preprocessing.html\n",
      "Please also refer to the documentation for alternative solver options:\n",
      "    https://scikit-learn.org/stable/modules/linear_model.html#logistic-regression\n",
      "  n_iter_i = _check_optimize_result(\n",
      "c:\\users\\basti\\documents\\coding\\python-venv\\data-exploration-project\\lib\\site-packages\\sklearn\\linear_model\\_logistic.py:763: ConvergenceWarning: lbfgs failed to converge (status=1):\n",
      "STOP: TOTAL NO. of ITERATIONS REACHED LIMIT.\n",
      "\n",
      "Increase the number of iterations (max_iter) or scale the data as shown in:\n",
      "    https://scikit-learn.org/stable/modules/preprocessing.html\n",
      "Please also refer to the documentation for alternative solver options:\n",
      "    https://scikit-learn.org/stable/modules/linear_model.html#logistic-regression\n",
      "  n_iter_i = _check_optimize_result(\n",
      "c:\\users\\basti\\documents\\coding\\python-venv\\data-exploration-project\\lib\\site-packages\\sklearn\\linear_model\\_logistic.py:763: ConvergenceWarning: lbfgs failed to converge (status=1):\n",
      "STOP: TOTAL NO. of ITERATIONS REACHED LIMIT.\n",
      "\n",
      "Increase the number of iterations (max_iter) or scale the data as shown in:\n",
      "    https://scikit-learn.org/stable/modules/preprocessing.html\n",
      "Please also refer to the documentation for alternative solver options:\n",
      "    https://scikit-learn.org/stable/modules/linear_model.html#logistic-regression\n",
      "  n_iter_i = _check_optimize_result(\n",
      "c:\\users\\basti\\documents\\coding\\python-venv\\data-exploration-project\\lib\\site-packages\\sklearn\\linear_model\\_logistic.py:763: ConvergenceWarning: lbfgs failed to converge (status=1):\n",
      "STOP: TOTAL NO. of ITERATIONS REACHED LIMIT.\n",
      "\n",
      "Increase the number of iterations (max_iter) or scale the data as shown in:\n",
      "    https://scikit-learn.org/stable/modules/preprocessing.html\n",
      "Please also refer to the documentation for alternative solver options:\n",
      "    https://scikit-learn.org/stable/modules/linear_model.html#logistic-regression\n",
      "  n_iter_i = _check_optimize_result(\n",
      "c:\\users\\basti\\documents\\coding\\python-venv\\data-exploration-project\\lib\\site-packages\\sklearn\\linear_model\\_logistic.py:763: ConvergenceWarning: lbfgs failed to converge (status=1):\n",
      "STOP: TOTAL NO. of ITERATIONS REACHED LIMIT.\n",
      "\n",
      "Increase the number of iterations (max_iter) or scale the data as shown in:\n",
      "    https://scikit-learn.org/stable/modules/preprocessing.html\n",
      "Please also refer to the documentation for alternative solver options:\n",
      "    https://scikit-learn.org/stable/modules/linear_model.html#logistic-regression\n",
      "  n_iter_i = _check_optimize_result(\n",
      "c:\\users\\basti\\documents\\coding\\python-venv\\data-exploration-project\\lib\\site-packages\\sklearn\\linear_model\\_logistic.py:763: ConvergenceWarning: lbfgs failed to converge (status=1):\n",
      "STOP: TOTAL NO. of ITERATIONS REACHED LIMIT.\n",
      "\n",
      "Increase the number of iterations (max_iter) or scale the data as shown in:\n",
      "    https://scikit-learn.org/stable/modules/preprocessing.html\n",
      "Please also refer to the documentation for alternative solver options:\n",
      "    https://scikit-learn.org/stable/modules/linear_model.html#logistic-regression\n",
      "  n_iter_i = _check_optimize_result(\n",
      "c:\\users\\basti\\documents\\coding\\python-venv\\data-exploration-project\\lib\\site-packages\\sklearn\\linear_model\\_logistic.py:763: ConvergenceWarning: lbfgs failed to converge (status=1):\n",
      "STOP: TOTAL NO. of ITERATIONS REACHED LIMIT.\n",
      "\n",
      "Increase the number of iterations (max_iter) or scale the data as shown in:\n",
      "    https://scikit-learn.org/stable/modules/preprocessing.html\n",
      "Please also refer to the documentation for alternative solver options:\n",
      "    https://scikit-learn.org/stable/modules/linear_model.html#logistic-regression\n",
      "  n_iter_i = _check_optimize_result(\n",
      "c:\\users\\basti\\documents\\coding\\python-venv\\data-exploration-project\\lib\\site-packages\\sklearn\\linear_model\\_logistic.py:763: ConvergenceWarning: lbfgs failed to converge (status=1):\n",
      "STOP: TOTAL NO. of ITERATIONS REACHED LIMIT.\n",
      "\n",
      "Increase the number of iterations (max_iter) or scale the data as shown in:\n",
      "    https://scikit-learn.org/stable/modules/preprocessing.html\n",
      "Please also refer to the documentation for alternative solver options:\n",
      "    https://scikit-learn.org/stable/modules/linear_model.html#logistic-regression\n",
      "  n_iter_i = _check_optimize_result(\n",
      "c:\\users\\basti\\documents\\coding\\python-venv\\data-exploration-project\\lib\\site-packages\\sklearn\\linear_model\\_logistic.py:763: ConvergenceWarning: lbfgs failed to converge (status=1):\n",
      "STOP: TOTAL NO. of ITERATIONS REACHED LIMIT.\n",
      "\n",
      "Increase the number of iterations (max_iter) or scale the data as shown in:\n",
      "    https://scikit-learn.org/stable/modules/preprocessing.html\n",
      "Please also refer to the documentation for alternative solver options:\n",
      "    https://scikit-learn.org/stable/modules/linear_model.html#logistic-regression\n",
      "  n_iter_i = _check_optimize_result(\n",
      "c:\\users\\basti\\documents\\coding\\python-venv\\data-exploration-project\\lib\\site-packages\\sklearn\\linear_model\\_logistic.py:763: ConvergenceWarning: lbfgs failed to converge (status=1):\n",
      "STOP: TOTAL NO. of ITERATIONS REACHED LIMIT.\n",
      "\n",
      "Increase the number of iterations (max_iter) or scale the data as shown in:\n",
      "    https://scikit-learn.org/stable/modules/preprocessing.html\n",
      "Please also refer to the documentation for alternative solver options:\n",
      "    https://scikit-learn.org/stable/modules/linear_model.html#logistic-regression\n",
      "  n_iter_i = _check_optimize_result(\n",
      "c:\\users\\basti\\documents\\coding\\python-venv\\data-exploration-project\\lib\\site-packages\\sklearn\\linear_model\\_logistic.py:763: ConvergenceWarning: lbfgs failed to converge (status=1):\n",
      "STOP: TOTAL NO. of ITERATIONS REACHED LIMIT.\n",
      "\n",
      "Increase the number of iterations (max_iter) or scale the data as shown in:\n",
      "    https://scikit-learn.org/stable/modules/preprocessing.html\n",
      "Please also refer to the documentation for alternative solver options:\n",
      "    https://scikit-learn.org/stable/modules/linear_model.html#logistic-regression\n",
      "  n_iter_i = _check_optimize_result(\n",
      "c:\\users\\basti\\documents\\coding\\python-venv\\data-exploration-project\\lib\\site-packages\\sklearn\\linear_model\\_logistic.py:763: ConvergenceWarning: lbfgs failed to converge (status=1):\n",
      "STOP: TOTAL NO. of ITERATIONS REACHED LIMIT.\n",
      "\n",
      "Increase the number of iterations (max_iter) or scale the data as shown in:\n",
      "    https://scikit-learn.org/stable/modules/preprocessing.html\n",
      "Please also refer to the documentation for alternative solver options:\n",
      "    https://scikit-learn.org/stable/modules/linear_model.html#logistic-regression\n",
      "  n_iter_i = _check_optimize_result(\n",
      "c:\\users\\basti\\documents\\coding\\python-venv\\data-exploration-project\\lib\\site-packages\\sklearn\\linear_model\\_logistic.py:763: ConvergenceWarning: lbfgs failed to converge (status=1):\n",
      "STOP: TOTAL NO. of ITERATIONS REACHED LIMIT.\n",
      "\n",
      "Increase the number of iterations (max_iter) or scale the data as shown in:\n",
      "    https://scikit-learn.org/stable/modules/preprocessing.html\n",
      "Please also refer to the documentation for alternative solver options:\n",
      "    https://scikit-learn.org/stable/modules/linear_model.html#logistic-regression\n",
      "  n_iter_i = _check_optimize_result(\n",
      "c:\\users\\basti\\documents\\coding\\python-venv\\data-exploration-project\\lib\\site-packages\\sklearn\\linear_model\\_logistic.py:763: ConvergenceWarning: lbfgs failed to converge (status=1):\n",
      "STOP: TOTAL NO. of ITERATIONS REACHED LIMIT.\n",
      "\n",
      "Increase the number of iterations (max_iter) or scale the data as shown in:\n",
      "    https://scikit-learn.org/stable/modules/preprocessing.html\n",
      "Please also refer to the documentation for alternative solver options:\n",
      "    https://scikit-learn.org/stable/modules/linear_model.html#logistic-regression\n",
      "  n_iter_i = _check_optimize_result(\n",
      "c:\\users\\basti\\documents\\coding\\python-venv\\data-exploration-project\\lib\\site-packages\\sklearn\\linear_model\\_logistic.py:763: ConvergenceWarning: lbfgs failed to converge (status=1):\n",
      "STOP: TOTAL NO. of ITERATIONS REACHED LIMIT.\n",
      "\n",
      "Increase the number of iterations (max_iter) or scale the data as shown in:\n",
      "    https://scikit-learn.org/stable/modules/preprocessing.html\n",
      "Please also refer to the documentation for alternative solver options:\n",
      "    https://scikit-learn.org/stable/modules/linear_model.html#logistic-regression\n",
      "  n_iter_i = _check_optimize_result(\n",
      "c:\\users\\basti\\documents\\coding\\python-venv\\data-exploration-project\\lib\\site-packages\\sklearn\\linear_model\\_logistic.py:763: ConvergenceWarning: lbfgs failed to converge (status=1):\n",
      "STOP: TOTAL NO. of ITERATIONS REACHED LIMIT.\n",
      "\n",
      "Increase the number of iterations (max_iter) or scale the data as shown in:\n",
      "    https://scikit-learn.org/stable/modules/preprocessing.html\n",
      "Please also refer to the documentation for alternative solver options:\n",
      "    https://scikit-learn.org/stable/modules/linear_model.html#logistic-regression\n",
      "  n_iter_i = _check_optimize_result(\n",
      "c:\\users\\basti\\documents\\coding\\python-venv\\data-exploration-project\\lib\\site-packages\\sklearn\\linear_model\\_logistic.py:763: ConvergenceWarning: lbfgs failed to converge (status=1):\n",
      "STOP: TOTAL NO. of ITERATIONS REACHED LIMIT.\n",
      "\n",
      "Increase the number of iterations (max_iter) or scale the data as shown in:\n",
      "    https://scikit-learn.org/stable/modules/preprocessing.html\n",
      "Please also refer to the documentation for alternative solver options:\n",
      "    https://scikit-learn.org/stable/modules/linear_model.html#logistic-regression\n",
      "  n_iter_i = _check_optimize_result(\n",
      "c:\\users\\basti\\documents\\coding\\python-venv\\data-exploration-project\\lib\\site-packages\\sklearn\\linear_model\\_logistic.py:763: ConvergenceWarning: lbfgs failed to converge (status=1):\n",
      "STOP: TOTAL NO. of ITERATIONS REACHED LIMIT.\n",
      "\n",
      "Increase the number of iterations (max_iter) or scale the data as shown in:\n",
      "    https://scikit-learn.org/stable/modules/preprocessing.html\n",
      "Please also refer to the documentation for alternative solver options:\n",
      "    https://scikit-learn.org/stable/modules/linear_model.html#logistic-regression\n",
      "  n_iter_i = _check_optimize_result(\n",
      "c:\\users\\basti\\documents\\coding\\python-venv\\data-exploration-project\\lib\\site-packages\\sklearn\\linear_model\\_logistic.py:763: ConvergenceWarning: lbfgs failed to converge (status=1):\n",
      "STOP: TOTAL NO. of ITERATIONS REACHED LIMIT.\n",
      "\n",
      "Increase the number of iterations (max_iter) or scale the data as shown in:\n",
      "    https://scikit-learn.org/stable/modules/preprocessing.html\n",
      "Please also refer to the documentation for alternative solver options:\n",
      "    https://scikit-learn.org/stable/modules/linear_model.html#logistic-regression\n",
      "  n_iter_i = _check_optimize_result(\n",
      "c:\\users\\basti\\documents\\coding\\python-venv\\data-exploration-project\\lib\\site-packages\\sklearn\\linear_model\\_logistic.py:763: ConvergenceWarning: lbfgs failed to converge (status=1):\n",
      "STOP: TOTAL NO. of ITERATIONS REACHED LIMIT.\n",
      "\n",
      "Increase the number of iterations (max_iter) or scale the data as shown in:\n",
      "    https://scikit-learn.org/stable/modules/preprocessing.html\n",
      "Please also refer to the documentation for alternative solver options:\n",
      "    https://scikit-learn.org/stable/modules/linear_model.html#logistic-regression\n",
      "  n_iter_i = _check_optimize_result(\n",
      "c:\\users\\basti\\documents\\coding\\python-venv\\data-exploration-project\\lib\\site-packages\\sklearn\\linear_model\\_logistic.py:763: ConvergenceWarning: lbfgs failed to converge (status=1):\n",
      "STOP: TOTAL NO. of ITERATIONS REACHED LIMIT.\n",
      "\n",
      "Increase the number of iterations (max_iter) or scale the data as shown in:\n",
      "    https://scikit-learn.org/stable/modules/preprocessing.html\n",
      "Please also refer to the documentation for alternative solver options:\n",
      "    https://scikit-learn.org/stable/modules/linear_model.html#logistic-regression\n",
      "  n_iter_i = _check_optimize_result(\n",
      "c:\\users\\basti\\documents\\coding\\python-venv\\data-exploration-project\\lib\\site-packages\\sklearn\\linear_model\\_logistic.py:763: ConvergenceWarning: lbfgs failed to converge (status=1):\n",
      "STOP: TOTAL NO. of ITERATIONS REACHED LIMIT.\n",
      "\n",
      "Increase the number of iterations (max_iter) or scale the data as shown in:\n",
      "    https://scikit-learn.org/stable/modules/preprocessing.html\n",
      "Please also refer to the documentation for alternative solver options:\n",
      "    https://scikit-learn.org/stable/modules/linear_model.html#logistic-regression\n",
      "  n_iter_i = _check_optimize_result(\n",
      "c:\\users\\basti\\documents\\coding\\python-venv\\data-exploration-project\\lib\\site-packages\\sklearn\\linear_model\\_logistic.py:763: ConvergenceWarning: lbfgs failed to converge (status=1):\n",
      "STOP: TOTAL NO. of ITERATIONS REACHED LIMIT.\n",
      "\n",
      "Increase the number of iterations (max_iter) or scale the data as shown in:\n",
      "    https://scikit-learn.org/stable/modules/preprocessing.html\n",
      "Please also refer to the documentation for alternative solver options:\n",
      "    https://scikit-learn.org/stable/modules/linear_model.html#logistic-regression\n",
      "  n_iter_i = _check_optimize_result(\n",
      "c:\\users\\basti\\documents\\coding\\python-venv\\data-exploration-project\\lib\\site-packages\\sklearn\\linear_model\\_logistic.py:763: ConvergenceWarning: lbfgs failed to converge (status=1):\n",
      "STOP: TOTAL NO. of ITERATIONS REACHED LIMIT.\n",
      "\n",
      "Increase the number of iterations (max_iter) or scale the data as shown in:\n",
      "    https://scikit-learn.org/stable/modules/preprocessing.html\n",
      "Please also refer to the documentation for alternative solver options:\n",
      "    https://scikit-learn.org/stable/modules/linear_model.html#logistic-regression\n",
      "  n_iter_i = _check_optimize_result(\n",
      "c:\\users\\basti\\documents\\coding\\python-venv\\data-exploration-project\\lib\\site-packages\\sklearn\\linear_model\\_logistic.py:763: ConvergenceWarning: lbfgs failed to converge (status=1):\n",
      "STOP: TOTAL NO. of ITERATIONS REACHED LIMIT.\n",
      "\n",
      "Increase the number of iterations (max_iter) or scale the data as shown in:\n",
      "    https://scikit-learn.org/stable/modules/preprocessing.html\n",
      "Please also refer to the documentation for alternative solver options:\n",
      "    https://scikit-learn.org/stable/modules/linear_model.html#logistic-regression\n",
      "  n_iter_i = _check_optimize_result(\n",
      "c:\\users\\basti\\documents\\coding\\python-venv\\data-exploration-project\\lib\\site-packages\\sklearn\\linear_model\\_logistic.py:763: ConvergenceWarning: lbfgs failed to converge (status=1):\n",
      "STOP: TOTAL NO. of ITERATIONS REACHED LIMIT.\n",
      "\n",
      "Increase the number of iterations (max_iter) or scale the data as shown in:\n",
      "    https://scikit-learn.org/stable/modules/preprocessing.html\n",
      "Please also refer to the documentation for alternative solver options:\n",
      "    https://scikit-learn.org/stable/modules/linear_model.html#logistic-regression\n",
      "  n_iter_i = _check_optimize_result(\n"
     ]
    }
   ],
   "source": [
    "scores_fast = []\n",
    "pca_fast = PCA(n_components='mle') #mle\n",
    "principalComponents_fast = pca_fast.fit_transform(x_fast)\n",
    "\n",
    "# Create Column Names\n",
    "col_names = []\n",
    "for i in range(principalComponents_fast.shape[1]):\n",
    "    col_names.append(f'PC-{i}')\n",
    "\n",
    "principalDf_fast = pd.DataFrame(data = principalComponents_fast, columns = col_names)\n",
    "finalDf_fast = pd.concat([principalDf_fast, df_fast[['Label']].reset_index()['Label']], axis = 1)\n",
    "\n",
    "train, test, train_lbl, test_lbl = train_test_split(finalDf_fast, finalDf_fast[['Label']].reset_index()['Label'], test_size=1/7.0, random_state=0)\n",
    "\n",
    "for i in range(finalDf.shape[1]):\n",
    "    logisticRegr = LogisticRegression(solver = 'lbfgs', max_iter=100)\n",
    "    logisticRegr.fit(train[col_names[:i+1]], train_lbl)\n",
    "    scores_fast.append(logisticRegr.score(test[col_names[:i+1]], test_lbl))"
   ]
  },
  {
   "cell_type": "code",
   "execution_count": 42,
   "id": "95a42390-eca4-4858-91c7-39303501dd1a",
   "metadata": {},
   "outputs": [
    {
     "data": {
      "image/png": "[encoded data removed]",
      "text/plain": [
       "<Figure size 432x288 with 1 Axes>"
      ]
     },
     "metadata": {
      "needs_background": "light"
     },
     "output_type": "display_data"
    }
   ],
   "source": [
    "axes = sns.lineplot(data=scores_fast)\n",
    "axes.set(xlabel = 'Number of first x Components', ylabel = 'Accuracy');"
   ]
  },
  {
   "cell_type": "markdown",
   "id": "ddbfb5ac-8b65-476e-9578-7cc4d0671329",
   "metadata": {},
   "source": [
    "---\n",
    "## One hot encoding - df"
   ]
  },
  {
   "cell_type": "code",
   "execution_count": 16,
   "id": "9f88dad9-84d2-475b-8b51-3672afdd4459",
   "metadata": {},
   "outputs": [],
   "source": [
    "to_be_encoded = [\"Protocol\", \"dst_port_transformed\", \"src_port_transformed\"]\n",
    "to_be_not_encoded = [i for i in category_vars if (i not in to_be_encoded and i != \"Label\")]"
   ]
  },
  {
   "cell_type": "code",
   "execution_count": 17,
   "id": "37fdcab2-76f9-416e-a818-a6884a680187",
   "metadata": {},
   "outputs": [],
   "source": [
    "df_computed = df[category_vars].compute()"
   ]
  },
  {
   "cell_type": "code",
   "execution_count": 8,
   "id": "3e27c216-36ed-482c-a62b-28d23fb7a1ff",
   "metadata": {},
   "outputs": [],
   "source": [
    "#df_computed_encoded = df[to_be_encoded].compute()\n",
    "#df_computed_not_encoded = df[to_be_encoded].compute()"
   ]
  },
  {
   "cell_type": "code",
   "execution_count": 18,
   "id": "35075df9-485a-4093-a01e-b88de9a29ed8",
   "metadata": {},
   "outputs": [
    {
     "data": {
      "text/html": [
       "<div>\n",
       "<style scoped>\n",
       "    .dataframe tbody tr th:only-of-type {\n",
       "        vertical-align: middle;\n",
       "    }\n",
       "\n",
       "    .dataframe tbody tr th {\n",
       "        vertical-align: top;\n",
       "    }\n",
       "\n",
       "    .dataframe thead th {\n",
       "        text-align: right;\n",
       "    }\n",
       "</style>\n",
       "<table border=\"1\" class=\"dataframe\">\n",
       "  <thead>\n",
       "    <tr style=\"text-align: right;\">\n",
       "      <th></th>\n",
       "      <th>Protocol</th>\n",
       "      <th>SYN Flag Cnt</th>\n",
       "      <th>RST Flag Cnt</th>\n",
       "      <th>PSH Flag Cnt</th>\n",
       "      <th>ACK Flag Cnt</th>\n",
       "      <th>CWE Flag Count</th>\n",
       "      <th>ECE Flag Cnt</th>\n",
       "      <th>Label</th>\n",
       "      <th>dst_port_transformed</th>\n",
       "      <th>src_port_transformed</th>\n",
       "    </tr>\n",
       "  </thead>\n",
       "  <tbody>\n",
       "    <tr>\n",
       "      <th>0</th>\n",
       "      <td>6</td>\n",
       "      <td>0</td>\n",
       "      <td>0</td>\n",
       "      <td>0</td>\n",
       "      <td>1</td>\n",
       "      <td>0</td>\n",
       "      <td>0</td>\n",
       "      <td>ddos</td>\n",
       "      <td>System</td>\n",
       "      <td>User</td>\n",
       "    </tr>\n",
       "    <tr>\n",
       "      <th>1</th>\n",
       "      <td>6</td>\n",
       "      <td>1</td>\n",
       "      <td>0</td>\n",
       "      <td>0</td>\n",
       "      <td>0</td>\n",
       "      <td>1</td>\n",
       "      <td>1</td>\n",
       "      <td>ddos</td>\n",
       "      <td>Dynamic</td>\n",
       "      <td>System</td>\n",
       "    </tr>\n",
       "    <tr>\n",
       "      <th>2</th>\n",
       "      <td>6</td>\n",
       "      <td>0</td>\n",
       "      <td>0</td>\n",
       "      <td>0</td>\n",
       "      <td>1</td>\n",
       "      <td>0</td>\n",
       "      <td>0</td>\n",
       "      <td>ddos</td>\n",
       "      <td>System</td>\n",
       "      <td>Dynamic</td>\n",
       "    </tr>\n",
       "    <tr>\n",
       "      <th>3</th>\n",
       "      <td>6</td>\n",
       "      <td>0</td>\n",
       "      <td>0</td>\n",
       "      <td>0</td>\n",
       "      <td>1</td>\n",
       "      <td>0</td>\n",
       "      <td>0</td>\n",
       "      <td>ddos</td>\n",
       "      <td>System</td>\n",
       "      <td>Dynamic</td>\n",
       "    </tr>\n",
       "    <tr>\n",
       "      <th>4</th>\n",
       "      <td>6</td>\n",
       "      <td>1</td>\n",
       "      <td>0</td>\n",
       "      <td>0</td>\n",
       "      <td>0</td>\n",
       "      <td>1</td>\n",
       "      <td>1</td>\n",
       "      <td>ddos</td>\n",
       "      <td>Dynamic</td>\n",
       "      <td>System</td>\n",
       "    </tr>\n",
       "  </tbody>\n",
       "</table>\n",
       "</div>"
      ],
      "text/plain": [
       "   Protocol  SYN Flag Cnt  RST Flag Cnt  PSH Flag Cnt  ACK Flag Cnt  \\\n",
       "0         6             0             0             0             1   \n",
       "1         6             1             0             0             0   \n",
       "2         6             0             0             0             1   \n",
       "3         6             0             0             0             1   \n",
       "4         6             1             0             0             0   \n",
       "\n",
       "   CWE Flag Count  ECE Flag Cnt Label dst_port_transformed  \\\n",
       "0               0             0  ddos               System   \n",
       "1               1             1  ddos              Dynamic   \n",
       "2               0             0  ddos               System   \n",
       "3               0             0  ddos               System   \n",
       "4               1             1  ddos              Dynamic   \n",
       "\n",
       "  src_port_transformed  \n",
       "0                 User  \n",
       "1               System  \n",
       "2              Dynamic  \n",
       "3              Dynamic  \n",
       "4               System  "
      ]
     },
     "execution_count": 18,
     "metadata": {},
     "output_type": "execute_result"
    }
   ],
   "source": [
    "df_computed.head()"
   ]
  },
  {
   "cell_type": "code",
   "execution_count": 19,
   "id": "38195cb4-648c-42b3-b74c-c1ccab266e51",
   "metadata": {},
   "outputs": [
    {
     "data": {
      "text/plain": [
       "['models/one_hot_encoder.transformer']"
      ]
     },
     "execution_count": 19,
     "metadata": {},
     "output_type": "execute_result"
    }
   ],
   "source": [
    "encoder = OneHotEncoder(sparse=False)\n",
    "encoder.fit(df_computed[to_be_encoded])\n",
    "dump(encoder, 'models/one_hot_encoder.transformer')"
   ]
  },
  {
   "cell_type": "code",
   "execution_count": 20,
   "id": "a2b807c7-1637-4fc9-bcc2-18ce3d7cc967",
   "metadata": {},
   "outputs": [],
   "source": [
    "df_encoded = pd.DataFrame(encoder.transform(df_computed[to_be_encoded]))\n",
    "df_encoded.columns = encoder.get_feature_names(to_be_encoded)"
   ]
  },
  {
   "cell_type": "code",
   "execution_count": 21,
   "id": "427397be-6ba9-4dd8-bc64-4a91009a1f0d",
   "metadata": {},
   "outputs": [],
   "source": [
    "df_categories = pd.concat([df_encoded, df_computed[to_be_not_encoded].reset_index()[to_be_not_encoded]], axis = 1)"
   ]
  },
  {
   "cell_type": "code",
   "execution_count": 22,
   "id": "619c4b91-f3eb-4081-9b18-cfd80739dfd2",
   "metadata": {},
   "outputs": [
    {
     "data": {
      "text/html": [
       "<div>\n",
       "<style scoped>\n",
       "    .dataframe tbody tr th:only-of-type {\n",
       "        vertical-align: middle;\n",
       "    }\n",
       "\n",
       "    .dataframe tbody tr th {\n",
       "        vertical-align: top;\n",
       "    }\n",
       "\n",
       "    .dataframe thead th {\n",
       "        text-align: right;\n",
       "    }\n",
       "</style>\n",
       "<table border=\"1\" class=\"dataframe\">\n",
       "  <thead>\n",
       "    <tr style=\"text-align: right;\">\n",
       "      <th></th>\n",
       "      <th>Protocol_0</th>\n",
       "      <th>Protocol_6</th>\n",
       "      <th>Protocol_17</th>\n",
       "      <th>dst_port_transformed_Dynamic</th>\n",
       "      <th>dst_port_transformed_System</th>\n",
       "      <th>dst_port_transformed_User</th>\n",
       "      <th>src_port_transformed_Dynamic</th>\n",
       "      <th>src_port_transformed_System</th>\n",
       "      <th>src_port_transformed_User</th>\n",
       "      <th>SYN Flag Cnt</th>\n",
       "      <th>RST Flag Cnt</th>\n",
       "      <th>PSH Flag Cnt</th>\n",
       "      <th>ACK Flag Cnt</th>\n",
       "      <th>CWE Flag Count</th>\n",
       "      <th>ECE Flag Cnt</th>\n",
       "    </tr>\n",
       "  </thead>\n",
       "  <tbody>\n",
       "    <tr>\n",
       "      <th>0</th>\n",
       "      <td>0.0</td>\n",
       "      <td>1.0</td>\n",
       "      <td>0.0</td>\n",
       "      <td>0.0</td>\n",
       "      <td>1.0</td>\n",
       "      <td>0.0</td>\n",
       "      <td>0.0</td>\n",
       "      <td>0.0</td>\n",
       "      <td>1.0</td>\n",
       "      <td>0</td>\n",
       "      <td>0</td>\n",
       "      <td>0</td>\n",
       "      <td>1</td>\n",
       "      <td>0</td>\n",
       "      <td>0</td>\n",
       "    </tr>\n",
       "    <tr>\n",
       "      <th>1</th>\n",
       "      <td>0.0</td>\n",
       "      <td>1.0</td>\n",
       "      <td>0.0</td>\n",
       "      <td>1.0</td>\n",
       "      <td>0.0</td>\n",
       "      <td>0.0</td>\n",
       "      <td>0.0</td>\n",
       "      <td>1.0</td>\n",
       "      <td>0.0</td>\n",
       "      <td>1</td>\n",
       "      <td>0</td>\n",
       "      <td>0</td>\n",
       "      <td>0</td>\n",
       "      <td>1</td>\n",
       "      <td>1</td>\n",
       "    </tr>\n",
       "    <tr>\n",
       "      <th>2</th>\n",
       "      <td>0.0</td>\n",
       "      <td>1.0</td>\n",
       "      <td>0.0</td>\n",
       "      <td>0.0</td>\n",
       "      <td>1.0</td>\n",
       "      <td>0.0</td>\n",
       "      <td>1.0</td>\n",
       "      <td>0.0</td>\n",
       "      <td>0.0</td>\n",
       "      <td>0</td>\n",
       "      <td>0</td>\n",
       "      <td>0</td>\n",
       "      <td>1</td>\n",
       "      <td>0</td>\n",
       "      <td>0</td>\n",
       "    </tr>\n",
       "    <tr>\n",
       "      <th>3</th>\n",
       "      <td>0.0</td>\n",
       "      <td>1.0</td>\n",
       "      <td>0.0</td>\n",
       "      <td>0.0</td>\n",
       "      <td>1.0</td>\n",
       "      <td>0.0</td>\n",
       "      <td>1.0</td>\n",
       "      <td>0.0</td>\n",
       "      <td>0.0</td>\n",
       "      <td>0</td>\n",
       "      <td>0</td>\n",
       "      <td>0</td>\n",
       "      <td>1</td>\n",
       "      <td>0</td>\n",
       "      <td>0</td>\n",
       "    </tr>\n",
       "    <tr>\n",
       "      <th>4</th>\n",
       "      <td>0.0</td>\n",
       "      <td>1.0</td>\n",
       "      <td>0.0</td>\n",
       "      <td>1.0</td>\n",
       "      <td>0.0</td>\n",
       "      <td>0.0</td>\n",
       "      <td>0.0</td>\n",
       "      <td>1.0</td>\n",
       "      <td>0.0</td>\n",
       "      <td>1</td>\n",
       "      <td>0</td>\n",
       "      <td>0</td>\n",
       "      <td>0</td>\n",
       "      <td>1</td>\n",
       "      <td>1</td>\n",
       "    </tr>\n",
       "  </tbody>\n",
       "</table>\n",
       "</div>"
      ],
      "text/plain": [
       "   Protocol_0  Protocol_6  Protocol_17  dst_port_transformed_Dynamic  \\\n",
       "0         0.0         1.0          0.0                           0.0   \n",
       "1         0.0         1.0          0.0                           1.0   \n",
       "2         0.0         1.0          0.0                           0.0   \n",
       "3         0.0         1.0          0.0                           0.0   \n",
       "4         0.0         1.0          0.0                           1.0   \n",
       "\n",
       "   dst_port_transformed_System  dst_port_transformed_User  \\\n",
       "0                          1.0                        0.0   \n",
       "1                          0.0                        0.0   \n",
       "2                          1.0                        0.0   \n",
       "3                          1.0                        0.0   \n",
       "4                          0.0                        0.0   \n",
       "\n",
       "   src_port_transformed_Dynamic  src_port_transformed_System  \\\n",
       "0                           0.0                          0.0   \n",
       "1                           0.0                          1.0   \n",
       "2                           1.0                          0.0   \n",
       "3                           1.0                          0.0   \n",
       "4                           0.0                          1.0   \n",
       "\n",
       "   src_port_transformed_User  SYN Flag Cnt  RST Flag Cnt  PSH Flag Cnt  \\\n",
       "0                        1.0             0             0             0   \n",
       "1                        0.0             1             0             0   \n",
       "2                        0.0             0             0             0   \n",
       "3                        0.0             0             0             0   \n",
       "4                        0.0             1             0             0   \n",
       "\n",
       "   ACK Flag Cnt  CWE Flag Count  ECE Flag Cnt  \n",
       "0             1               0             0  \n",
       "1             0               1             1  \n",
       "2             1               0             0  \n",
       "3             1               0             0  \n",
       "4             0               1             1  "
      ]
     },
     "execution_count": 22,
     "metadata": {},
     "output_type": "execute_result"
    }
   ],
   "source": [
    "df_categories.head()"
   ]
  },
  {
   "cell_type": "markdown",
   "id": "1bba0d92-222f-4d67-a720-80e62b64a11f",
   "metadata": {},
   "source": [
    "---\n",
    "## One hot encoding - df_fast"
   ]
  },
  {
   "cell_type": "code",
   "execution_count": 24,
   "id": "78bc2de3-d1ce-4427-a902-5fe1926a83fc",
   "metadata": {},
   "outputs": [],
   "source": [
    "enc = OneHotEncoder()"
   ]
  },
  {
   "cell_type": "code",
   "execution_count": 39,
   "id": "8db68c9a-b2e0-4d0a-aeb9-f93dcbf17d91",
   "metadata": {},
   "outputs": [],
   "source": [
    "enc.fit(df_fast[category_vars[1:]])\n",
    "one_hot_encoding_df = enc.transform(df_fast[category_vars[1:]])"
   ]
  },
  {
   "cell_type": "code",
   "execution_count": 20,
   "id": "a7c2f5b2-1f45-4270-9b2c-a5383839e62c",
   "metadata": {},
   "outputs": [],
   "source": [
    "to_be_encoded = [\"Protocol\", \"dst_port_transformed\", \"src_port_transformed\"]\n",
    "encoder = OneHotEncoder(sparse=False)\n",
    "df_fast_encoded = pd.DataFrame(encoder.fit_transform(df_fast[to_be_encoded]))\n",
    "df_fast_encoded.columns = encoder.get_feature_names(to_be_encoded)"
   ]
  },
  {
   "cell_type": "code",
   "execution_count": 24,
   "id": "85f7cb56-3bc3-4b84-8fa4-6749b029cef0",
   "metadata": {},
   "outputs": [],
   "source": [
    "to_be_not_encoded = [i for i in category_vars if i not in to_be_encoded][1:]\n",
    "\n",
    "df_fast_categories = pd.concat([df_fast_encoded, df_fast[to_be_encoded].reset_index()[to_be_encoded]], axis = 1)"
   ]
  },
  {
   "cell_type": "code",
   "execution_count": 25,
   "id": "fe5049ff-d8ae-4671-9895-715c71532b1b",
   "metadata": {},
   "outputs": [
    {
     "data": {
      "text/html": [
       "<div>\n",
       "<style scoped>\n",
       "    .dataframe tbody tr th:only-of-type {\n",
       "        vertical-align: middle;\n",
       "    }\n",
       "\n",
       "    .dataframe tbody tr th {\n",
       "        vertical-align: top;\n",
       "    }\n",
       "\n",
       "    .dataframe thead th {\n",
       "        text-align: right;\n",
       "    }\n",
       "</style>\n",
       "<table border=\"1\" class=\"dataframe\">\n",
       "  <thead>\n",
       "    <tr style=\"text-align: right;\">\n",
       "      <th></th>\n",
       "      <th>Protocol_0</th>\n",
       "      <th>Protocol_6</th>\n",
       "      <th>Protocol_17</th>\n",
       "      <th>dst_port_transformed_Dynamic</th>\n",
       "      <th>dst_port_transformed_System</th>\n",
       "      <th>dst_port_transformed_User</th>\n",
       "      <th>src_port_transformed_Dynamic</th>\n",
       "      <th>src_port_transformed_System</th>\n",
       "      <th>src_port_transformed_User</th>\n",
       "    </tr>\n",
       "  </thead>\n",
       "  <tbody>\n",
       "    <tr>\n",
       "      <th>0</th>\n",
       "      <td>0.0</td>\n",
       "      <td>1.0</td>\n",
       "      <td>0.0</td>\n",
       "      <td>0.0</td>\n",
       "      <td>1.0</td>\n",
       "      <td>0.0</td>\n",
       "      <td>0.0</td>\n",
       "      <td>0.0</td>\n",
       "      <td>1.0</td>\n",
       "    </tr>\n",
       "    <tr>\n",
       "      <th>1</th>\n",
       "      <td>0.0</td>\n",
       "      <td>1.0</td>\n",
       "      <td>0.0</td>\n",
       "      <td>1.0</td>\n",
       "      <td>0.0</td>\n",
       "      <td>0.0</td>\n",
       "      <td>0.0</td>\n",
       "      <td>1.0</td>\n",
       "      <td>0.0</td>\n",
       "    </tr>\n",
       "    <tr>\n",
       "      <th>2</th>\n",
       "      <td>0.0</td>\n",
       "      <td>1.0</td>\n",
       "      <td>0.0</td>\n",
       "      <td>1.0</td>\n",
       "      <td>0.0</td>\n",
       "      <td>0.0</td>\n",
       "      <td>0.0</td>\n",
       "      <td>1.0</td>\n",
       "      <td>0.0</td>\n",
       "    </tr>\n",
       "    <tr>\n",
       "      <th>3</th>\n",
       "      <td>0.0</td>\n",
       "      <td>1.0</td>\n",
       "      <td>0.0</td>\n",
       "      <td>1.0</td>\n",
       "      <td>0.0</td>\n",
       "      <td>0.0</td>\n",
       "      <td>0.0</td>\n",
       "      <td>1.0</td>\n",
       "      <td>0.0</td>\n",
       "    </tr>\n",
       "    <tr>\n",
       "      <th>4</th>\n",
       "      <td>0.0</td>\n",
       "      <td>1.0</td>\n",
       "      <td>0.0</td>\n",
       "      <td>0.0</td>\n",
       "      <td>0.0</td>\n",
       "      <td>1.0</td>\n",
       "      <td>0.0</td>\n",
       "      <td>1.0</td>\n",
       "      <td>0.0</td>\n",
       "    </tr>\n",
       "  </tbody>\n",
       "</table>\n",
       "</div>"
      ],
      "text/plain": [
       "   Protocol_0  Protocol_6  Protocol_17  dst_port_transformed_Dynamic  \\\n",
       "0         0.0         1.0          0.0                           0.0   \n",
       "1         0.0         1.0          0.0                           1.0   \n",
       "2         0.0         1.0          0.0                           1.0   \n",
       "3         0.0         1.0          0.0                           1.0   \n",
       "4         0.0         1.0          0.0                           0.0   \n",
       "\n",
       "   dst_port_transformed_System  dst_port_transformed_User  \\\n",
       "0                          1.0                        0.0   \n",
       "1                          0.0                        0.0   \n",
       "2                          0.0                        0.0   \n",
       "3                          0.0                        0.0   \n",
       "4                          0.0                        1.0   \n",
       "\n",
       "   src_port_transformed_Dynamic  src_port_transformed_System  \\\n",
       "0                           0.0                          0.0   \n",
       "1                           0.0                          1.0   \n",
       "2                           0.0                          1.0   \n",
       "3                           0.0                          1.0   \n",
       "4                           0.0                          1.0   \n",
       "\n",
       "   src_port_transformed_User  \n",
       "0                        1.0  \n",
       "1                        0.0  \n",
       "2                        0.0  \n",
       "3                        0.0  \n",
       "4                        0.0  "
      ]
     },
     "execution_count": 25,
     "metadata": {},
     "output_type": "execute_result"
    }
   ],
   "source": [
    "df_fast_encoded.head()"
   ]
  },
  {
   "cell_type": "code",
   "execution_count": 56,
   "id": "7bbafefd-f5e7-490b-95f0-8594c33eef3c",
   "metadata": {
    "tags": []
   },
   "outputs": [],
   "source": [
    "finalDf_fast_t = pd.concat([X_encoded, df_fast[['Label']].reset_index()['Label']], axis = 1)\n",
    "train, test, train_lbl, test_lbl = train_test_split(X_encoded, df_fast[['Label']].reset_index()['Label'], test_size=1/7.0, random_state=0)"
   ]
  },
  {
   "cell_type": "code",
   "execution_count": 59,
   "id": "ce55d4a1-72f1-4bc1-8a2a-9c2657d3d807",
   "metadata": {
    "tags": []
   },
   "outputs": [
    {
     "data": {
      "text/plain": [
       "0.8908418131359852"
      ]
     },
     "execution_count": 59,
     "metadata": {},
     "output_type": "execute_result"
    }
   ],
   "source": [
    "logisticRegr = LogisticRegression(solver = 'lbfgs', max_iter=100)\n",
    "logisticRegr.fit(train, train_lbl)\n",
    "logisticRegr.score(test, test_lbl)"
   ]
  },
  {
   "cell_type": "code",
   "execution_count": 62,
   "id": "fe077503-d31d-4112-a8d1-9b8953b2c8f8",
   "metadata": {
    "tags": []
   },
   "outputs": [
    {
     "data": {
      "text/plain": [
       "array([[-3.12362872,  5.39306964, -2.26227158,  1.23352043, -1.22635108,\n",
       "         0.72649556, -0.71932621,  2.75968025, -2.7525109 ,  0.05284277,\n",
       "        -0.04567342, -1.8277224 ,  1.83489175, -2.26671342,  2.27388277,\n",
       "        -2.92290793,  3.29019684, -0.36011956, -2.39036359,  2.60879912,\n",
       "        -0.21126618]])"
      ]
     },
     "execution_count": 62,
     "metadata": {},
     "output_type": "execute_result"
    }
   ],
   "source": [
    "logisticRegr.coef_"
   ]
  },
  {
   "cell_type": "code",
   "execution_count": 63,
   "id": "c1a8ed60-d2e4-457a-8eb4-a5088bf3bb77",
   "metadata": {
    "tags": []
   },
   "outputs": [
    {
     "data": {
      "text/plain": [
       "array(['Benign', 'ddos'], dtype=object)"
      ]
     },
     "execution_count": 63,
     "metadata": {},
     "output_type": "execute_result"
    }
   ],
   "source": [
    "logisticRegr.classes_"
   ]
  },
  {
   "cell_type": "code",
   "execution_count": 78,
   "id": "4adc8126-4f20-4cce-b0f6-3e2ebbae5fc6",
   "metadata": {
    "tags": []
   },
   "outputs": [],
   "source": [
    "new_var = [i for i in category_vars if i not in to_be_encoded][1:]\n",
    "\n",
    "finalDf_fast_t = pd.concat([df_fast_encoded, df_fast[new_var].reset_index()[new_var]], axis = 1)\n",
    "\n",
    "train, test, train_lbl, test_lbl = train_test_split(finalDf_fast_t, df_fast[['Label']].reset_index()['Label'], test_size=1/7.0, random_state=0)"
   ]
  },
  {
   "cell_type": "code",
   "execution_count": 77,
   "id": "834e5341-12ff-41ca-87a0-212453cde39a",
   "metadata": {
    "tags": []
   },
   "outputs": [
    {
     "data": {
      "text/html": [
       "<div>\n",
       "<style scoped>\n",
       "    .dataframe tbody tr th:only-of-type {\n",
       "        vertical-align: middle;\n",
       "    }\n",
       "\n",
       "    .dataframe tbody tr th {\n",
       "        vertical-align: top;\n",
       "    }\n",
       "\n",
       "    .dataframe thead th {\n",
       "        text-align: right;\n",
       "    }\n",
       "</style>\n",
       "<table border=\"1\" class=\"dataframe\">\n",
       "  <thead>\n",
       "    <tr style=\"text-align: right;\">\n",
       "      <th></th>\n",
       "      <th>Protocol_0</th>\n",
       "      <th>Protocol_6</th>\n",
       "      <th>Protocol_17</th>\n",
       "      <th>dst_port_transformed_Dynamic</th>\n",
       "      <th>dst_port_transformed_System</th>\n",
       "      <th>dst_port_transformed_User</th>\n",
       "      <th>src_port_transformed_Dynamic</th>\n",
       "      <th>src_port_transformed_System</th>\n",
       "      <th>src_port_transformed_User</th>\n",
       "      <th>SYN Flag Cnt</th>\n",
       "      <th>RST Flag Cnt</th>\n",
       "      <th>PSH Flag Cnt</th>\n",
       "      <th>ACK Flag Cnt</th>\n",
       "      <th>CWE Flag Count</th>\n",
       "      <th>ECE Flag Cnt</th>\n",
       "    </tr>\n",
       "  </thead>\n",
       "  <tbody>\n",
       "    <tr>\n",
       "      <th>252</th>\n",
       "      <td>0.0</td>\n",
       "      <td>1.0</td>\n",
       "      <td>0.0</td>\n",
       "      <td>0.0</td>\n",
       "      <td>1.0</td>\n",
       "      <td>0.0</td>\n",
       "      <td>0.0</td>\n",
       "      <td>0.0</td>\n",
       "      <td>1.0</td>\n",
       "      <td>0</td>\n",
       "      <td>0</td>\n",
       "      <td>0</td>\n",
       "      <td>1</td>\n",
       "      <td>0</td>\n",
       "      <td>0</td>\n",
       "    </tr>\n",
       "    <tr>\n",
       "      <th>6444</th>\n",
       "      <td>0.0</td>\n",
       "      <td>1.0</td>\n",
       "      <td>0.0</td>\n",
       "      <td>0.0</td>\n",
       "      <td>0.0</td>\n",
       "      <td>1.0</td>\n",
       "      <td>1.0</td>\n",
       "      <td>0.0</td>\n",
       "      <td>0.0</td>\n",
       "      <td>0</td>\n",
       "      <td>1</td>\n",
       "      <td>1</td>\n",
       "      <td>0</td>\n",
       "      <td>0</td>\n",
       "      <td>1</td>\n",
       "    </tr>\n",
       "    <tr>\n",
       "      <th>2090</th>\n",
       "      <td>0.0</td>\n",
       "      <td>1.0</td>\n",
       "      <td>0.0</td>\n",
       "      <td>0.0</td>\n",
       "      <td>1.0</td>\n",
       "      <td>0.0</td>\n",
       "      <td>0.0</td>\n",
       "      <td>0.0</td>\n",
       "      <td>1.0</td>\n",
       "      <td>1</td>\n",
       "      <td>0</td>\n",
       "      <td>0</td>\n",
       "      <td>0</td>\n",
       "      <td>0</td>\n",
       "      <td>0</td>\n",
       "    </tr>\n",
       "    <tr>\n",
       "      <th>5007</th>\n",
       "      <td>0.0</td>\n",
       "      <td>1.0</td>\n",
       "      <td>0.0</td>\n",
       "      <td>0.0</td>\n",
       "      <td>1.0</td>\n",
       "      <td>0.0</td>\n",
       "      <td>1.0</td>\n",
       "      <td>0.0</td>\n",
       "      <td>0.0</td>\n",
       "      <td>0</td>\n",
       "      <td>0</td>\n",
       "      <td>1</td>\n",
       "      <td>0</td>\n",
       "      <td>0</td>\n",
       "      <td>0</td>\n",
       "    </tr>\n",
       "    <tr>\n",
       "      <th>3464</th>\n",
       "      <td>0.0</td>\n",
       "      <td>1.0</td>\n",
       "      <td>0.0</td>\n",
       "      <td>0.0</td>\n",
       "      <td>1.0</td>\n",
       "      <td>0.0</td>\n",
       "      <td>0.0</td>\n",
       "      <td>0.0</td>\n",
       "      <td>1.0</td>\n",
       "      <td>1</td>\n",
       "      <td>0</td>\n",
       "      <td>0</td>\n",
       "      <td>0</td>\n",
       "      <td>0</td>\n",
       "      <td>0</td>\n",
       "    </tr>\n",
       "  </tbody>\n",
       "</table>\n",
       "</div>"
      ],
      "text/plain": [
       "      Protocol_0  Protocol_6  Protocol_17  dst_port_transformed_Dynamic  \\\n",
       "252          0.0         1.0          0.0                           0.0   \n",
       "6444         0.0         1.0          0.0                           0.0   \n",
       "2090         0.0         1.0          0.0                           0.0   \n",
       "5007         0.0         1.0          0.0                           0.0   \n",
       "3464         0.0         1.0          0.0                           0.0   \n",
       "\n",
       "      dst_port_transformed_System  dst_port_transformed_User  \\\n",
       "252                           1.0                        0.0   \n",
       "6444                          0.0                        1.0   \n",
       "2090                          1.0                        0.0   \n",
       "5007                          1.0                        0.0   \n",
       "3464                          1.0                        0.0   \n",
       "\n",
       "      src_port_transformed_Dynamic  src_port_transformed_System  \\\n",
       "252                            0.0                          0.0   \n",
       "6444                           1.0                          0.0   \n",
       "2090                           0.0                          0.0   \n",
       "5007                           1.0                          0.0   \n",
       "3464                           0.0                          0.0   \n",
       "\n",
       "      src_port_transformed_User  SYN Flag Cnt  RST Flag Cnt  PSH Flag Cnt  \\\n",
       "252                         1.0             0             0             0   \n",
       "6444                        0.0             0             1             1   \n",
       "2090                        1.0             1             0             0   \n",
       "5007                        0.0             0             0             1   \n",
       "3464                        1.0             1             0             0   \n",
       "\n",
       "      ACK Flag Cnt  CWE Flag Count  ECE Flag Cnt  \n",
       "252              1               0             0  \n",
       "6444             0               0             1  \n",
       "2090             0               0             0  \n",
       "5007             0               0             0  \n",
       "3464             0               0             0  "
      ]
     },
     "execution_count": 77,
     "metadata": {},
     "output_type": "execute_result"
    }
   ],
   "source": [
    "train.head()"
   ]
  },
  {
   "cell_type": "code",
   "execution_count": 79,
   "id": "03bcb896-c26b-48a5-8929-9a2e27bd9cbe",
   "metadata": {
    "tags": []
   },
   "outputs": [
    {
     "data": {
      "text/plain": [
       "0.8908418131359852"
      ]
     },
     "execution_count": 79,
     "metadata": {},
     "output_type": "execute_result"
    }
   ],
   "source": [
    "logisticRegr = LogisticRegression(solver = 'lbfgs', max_iter=100)\n",
    "logisticRegr.fit(train, train_lbl)\n",
    "logisticRegr.score(test, test_lbl)"
   ]
  },
  {
   "cell_type": "code",
   "execution_count": 81,
   "id": "9177abd7-3470-4079-9faa-15d9e4b02458",
   "metadata": {
    "tags": []
   },
   "outputs": [
    {
     "data": {
      "text/plain": [
       "(1, 15)"
      ]
     },
     "execution_count": 81,
     "metadata": {},
     "output_type": "execute_result"
    }
   ],
   "source": [
    "logisticRegr.coef_.shape"
   ]
  },
  {
   "cell_type": "markdown",
   "id": "55396650-cb58-4c7e-9844-911c1903217d",
   "metadata": {},
   "source": [
    "---\n",
    "## Cleaning"
   ]
  },
  {
   "cell_type": "code",
   "execution_count": 51,
   "id": "871af17c-0ac7-4517-854f-afe2a5d3f11c",
   "metadata": {},
   "outputs": [],
   "source": [
    "# Zusammensetzen von lavel\n",
    "df_prepared = pd.concat([df_categories, df_pca.iloc[:,list(range(24)) + [-1]]], axis = 1)"
   ]
  },
  {
   "cell_type": "code",
   "execution_count": 52,
   "id": "06da495d-fa39-4362-b9d9-6e7e66b64902",
   "metadata": {},
   "outputs": [
    {
     "data": {
      "text/html": [
       "<div>\n",
       "<style scoped>\n",
       "    .dataframe tbody tr th:only-of-type {\n",
       "        vertical-align: middle;\n",
       "    }\n",
       "\n",
       "    .dataframe tbody tr th {\n",
       "        vertical-align: top;\n",
       "    }\n",
       "\n",
       "    .dataframe thead th {\n",
       "        text-align: right;\n",
       "    }\n",
       "</style>\n",
       "<table border=\"1\" class=\"dataframe\">\n",
       "  <thead>\n",
       "    <tr style=\"text-align: right;\">\n",
       "      <th></th>\n",
       "      <th>Protocol_0</th>\n",
       "      <th>Protocol_6</th>\n",
       "      <th>Protocol_17</th>\n",
       "      <th>dst_port_transformed_Dynamic</th>\n",
       "      <th>dst_port_transformed_System</th>\n",
       "      <th>dst_port_transformed_User</th>\n",
       "      <th>src_port_transformed_Dynamic</th>\n",
       "      <th>src_port_transformed_System</th>\n",
       "      <th>src_port_transformed_User</th>\n",
       "      <th>SYN Flag Cnt</th>\n",
       "      <th>RST Flag Cnt</th>\n",
       "      <th>PSH Flag Cnt</th>\n",
       "      <th>ACK Flag Cnt</th>\n",
       "      <th>CWE Flag Count</th>\n",
       "      <th>ECE Flag Cnt</th>\n",
       "      <th>PC-0</th>\n",
       "      <th>PC-1</th>\n",
       "      <th>PC-2</th>\n",
       "      <th>PC-3</th>\n",
       "      <th>PC-4</th>\n",
       "      <th>PC-5</th>\n",
       "      <th>PC-6</th>\n",
       "      <th>PC-7</th>\n",
       "      <th>PC-8</th>\n",
       "      <th>PC-9</th>\n",
       "      <th>PC-10</th>\n",
       "      <th>PC-11</th>\n",
       "      <th>PC-12</th>\n",
       "      <th>PC-13</th>\n",
       "      <th>PC-14</th>\n",
       "      <th>PC-15</th>\n",
       "      <th>PC-16</th>\n",
       "      <th>PC-17</th>\n",
       "      <th>PC-18</th>\n",
       "      <th>PC-19</th>\n",
       "      <th>PC-20</th>\n",
       "      <th>PC-21</th>\n",
       "      <th>PC-22</th>\n",
       "      <th>PC-23</th>\n",
       "      <th>Label</th>\n",
       "    </tr>\n",
       "  </thead>\n",
       "  <tbody>\n",
       "    <tr>\n",
       "      <th>0</th>\n",
       "      <td>0.0</td>\n",
       "      <td>1.0</td>\n",
       "      <td>0.0</td>\n",
       "      <td>0.0</td>\n",
       "      <td>1.0</td>\n",
       "      <td>0.0</td>\n",
       "      <td>0.0</td>\n",
       "      <td>0.0</td>\n",
       "      <td>1.0</td>\n",
       "      <td>0</td>\n",
       "      <td>0</td>\n",
       "      <td>0</td>\n",
       "      <td>1</td>\n",
       "      <td>0</td>\n",
       "      <td>0</td>\n",
       "      <td>-2.367263</td>\n",
       "      <td>-1.192238</td>\n",
       "      <td>0.105713</td>\n",
       "      <td>0.070756</td>\n",
       "      <td>-0.292154</td>\n",
       "      <td>-0.359373</td>\n",
       "      <td>-0.677995</td>\n",
       "      <td>-0.192566</td>\n",
       "      <td>-0.541754</td>\n",
       "      <td>-0.656036</td>\n",
       "      <td>1.255855</td>\n",
       "      <td>-0.068330</td>\n",
       "      <td>0.197631</td>\n",
       "      <td>0.178643</td>\n",
       "      <td>0.002600</td>\n",
       "      <td>0.303512</td>\n",
       "      <td>0.128503</td>\n",
       "      <td>-0.397739</td>\n",
       "      <td>0.267402</td>\n",
       "      <td>-0.864736</td>\n",
       "      <td>-0.003395</td>\n",
       "      <td>0.062132</td>\n",
       "      <td>-0.362315</td>\n",
       "      <td>-0.085506</td>\n",
       "      <td>ddos</td>\n",
       "    </tr>\n",
       "    <tr>\n",
       "      <th>1</th>\n",
       "      <td>0.0</td>\n",
       "      <td>1.0</td>\n",
       "      <td>0.0</td>\n",
       "      <td>1.0</td>\n",
       "      <td>0.0</td>\n",
       "      <td>0.0</td>\n",
       "      <td>0.0</td>\n",
       "      <td>1.0</td>\n",
       "      <td>0.0</td>\n",
       "      <td>1</td>\n",
       "      <td>0</td>\n",
       "      <td>0</td>\n",
       "      <td>0</td>\n",
       "      <td>1</td>\n",
       "      <td>1</td>\n",
       "      <td>0.879519</td>\n",
       "      <td>3.794625</td>\n",
       "      <td>-0.370414</td>\n",
       "      <td>-0.431410</td>\n",
       "      <td>1.809650</td>\n",
       "      <td>-0.440046</td>\n",
       "      <td>-0.116166</td>\n",
       "      <td>-3.422342</td>\n",
       "      <td>1.156604</td>\n",
       "      <td>-0.303854</td>\n",
       "      <td>0.403210</td>\n",
       "      <td>0.206379</td>\n",
       "      <td>0.254442</td>\n",
       "      <td>-0.416206</td>\n",
       "      <td>0.588815</td>\n",
       "      <td>0.053183</td>\n",
       "      <td>0.117990</td>\n",
       "      <td>-0.220121</td>\n",
       "      <td>-0.092607</td>\n",
       "      <td>-0.491023</td>\n",
       "      <td>0.512707</td>\n",
       "      <td>-0.380652</td>\n",
       "      <td>0.137580</td>\n",
       "      <td>-0.017587</td>\n",
       "      <td>ddos</td>\n",
       "    </tr>\n",
       "    <tr>\n",
       "      <th>2</th>\n",
       "      <td>0.0</td>\n",
       "      <td>1.0</td>\n",
       "      <td>0.0</td>\n",
       "      <td>0.0</td>\n",
       "      <td>1.0</td>\n",
       "      <td>0.0</td>\n",
       "      <td>1.0</td>\n",
       "      <td>0.0</td>\n",
       "      <td>0.0</td>\n",
       "      <td>0</td>\n",
       "      <td>0</td>\n",
       "      <td>0</td>\n",
       "      <td>1</td>\n",
       "      <td>0</td>\n",
       "      <td>0</td>\n",
       "      <td>-2.299718</td>\n",
       "      <td>-0.967773</td>\n",
       "      <td>0.076351</td>\n",
       "      <td>0.033799</td>\n",
       "      <td>-0.043209</td>\n",
       "      <td>-0.467240</td>\n",
       "      <td>-0.855880</td>\n",
       "      <td>-0.276320</td>\n",
       "      <td>-0.649905</td>\n",
       "      <td>-0.318597</td>\n",
       "      <td>0.826536</td>\n",
       "      <td>-0.038305</td>\n",
       "      <td>-0.182277</td>\n",
       "      <td>0.330721</td>\n",
       "      <td>-0.082806</td>\n",
       "      <td>0.157866</td>\n",
       "      <td>0.266068</td>\n",
       "      <td>-0.496435</td>\n",
       "      <td>1.299893</td>\n",
       "      <td>-1.093637</td>\n",
       "      <td>0.227914</td>\n",
       "      <td>-0.518784</td>\n",
       "      <td>-0.201010</td>\n",
       "      <td>-0.277658</td>\n",
       "      <td>ddos</td>\n",
       "    </tr>\n",
       "    <tr>\n",
       "      <th>3</th>\n",
       "      <td>0.0</td>\n",
       "      <td>1.0</td>\n",
       "      <td>0.0</td>\n",
       "      <td>0.0</td>\n",
       "      <td>1.0</td>\n",
       "      <td>0.0</td>\n",
       "      <td>1.0</td>\n",
       "      <td>0.0</td>\n",
       "      <td>0.0</td>\n",
       "      <td>0</td>\n",
       "      <td>0</td>\n",
       "      <td>0</td>\n",
       "      <td>1</td>\n",
       "      <td>0</td>\n",
       "      <td>0</td>\n",
       "      <td>-2.299863</td>\n",
       "      <td>-0.967792</td>\n",
       "      <td>0.076359</td>\n",
       "      <td>0.033810</td>\n",
       "      <td>-0.043311</td>\n",
       "      <td>-0.467395</td>\n",
       "      <td>-0.856417</td>\n",
       "      <td>-0.275803</td>\n",
       "      <td>-0.648376</td>\n",
       "      <td>-0.318643</td>\n",
       "      <td>0.826985</td>\n",
       "      <td>-0.038427</td>\n",
       "      <td>-0.183361</td>\n",
       "      <td>0.330536</td>\n",
       "      <td>-0.082733</td>\n",
       "      <td>0.156671</td>\n",
       "      <td>0.265889</td>\n",
       "      <td>-0.496214</td>\n",
       "      <td>1.299770</td>\n",
       "      <td>-1.093516</td>\n",
       "      <td>0.227950</td>\n",
       "      <td>-0.518748</td>\n",
       "      <td>-0.200883</td>\n",
       "      <td>-0.277627</td>\n",
       "      <td>ddos</td>\n",
       "    </tr>\n",
       "    <tr>\n",
       "      <th>4</th>\n",
       "      <td>0.0</td>\n",
       "      <td>1.0</td>\n",
       "      <td>0.0</td>\n",
       "      <td>1.0</td>\n",
       "      <td>0.0</td>\n",
       "      <td>0.0</td>\n",
       "      <td>0.0</td>\n",
       "      <td>1.0</td>\n",
       "      <td>0.0</td>\n",
       "      <td>1</td>\n",
       "      <td>0</td>\n",
       "      <td>0</td>\n",
       "      <td>0</td>\n",
       "      <td>1</td>\n",
       "      <td>1</td>\n",
       "      <td>0.915849</td>\n",
       "      <td>3.831009</td>\n",
       "      <td>-0.372726</td>\n",
       "      <td>-0.430558</td>\n",
       "      <td>1.811324</td>\n",
       "      <td>-0.430885</td>\n",
       "      <td>-0.098143</td>\n",
       "      <td>-3.392003</td>\n",
       "      <td>1.141365</td>\n",
       "      <td>-0.293895</td>\n",
       "      <td>0.410076</td>\n",
       "      <td>0.207010</td>\n",
       "      <td>0.264383</td>\n",
       "      <td>-0.410140</td>\n",
       "      <td>0.588188</td>\n",
       "      <td>0.036268</td>\n",
       "      <td>0.112861</td>\n",
       "      <td>-0.234276</td>\n",
       "      <td>-0.091066</td>\n",
       "      <td>-0.493279</td>\n",
       "      <td>0.503341</td>\n",
       "      <td>-0.371479</td>\n",
       "      <td>0.132858</td>\n",
       "      <td>-0.019752</td>\n",
       "      <td>ddos</td>\n",
       "    </tr>\n",
       "  </tbody>\n",
       "</table>\n",
       "</div>"
      ],
      "text/plain": [
       "   Protocol_0  Protocol_6  Protocol_17  dst_port_transformed_Dynamic  \\\n",
       "0         0.0         1.0          0.0                           0.0   \n",
       "1         0.0         1.0          0.0                           1.0   \n",
       "2         0.0         1.0          0.0                           0.0   \n",
       "3         0.0         1.0          0.0                           0.0   \n",
       "4         0.0         1.0          0.0                           1.0   \n",
       "\n",
       "   dst_port_transformed_System  dst_port_transformed_User  \\\n",
       "0                          1.0                        0.0   \n",
       "1                          0.0                        0.0   \n",
       "2                          1.0                        0.0   \n",
       "3                          1.0                        0.0   \n",
       "4                          0.0                        0.0   \n",
       "\n",
       "   src_port_transformed_Dynamic  src_port_transformed_System  \\\n",
       "0                           0.0                          0.0   \n",
       "1                           0.0                          1.0   \n",
       "2                           1.0                          0.0   \n",
       "3                           1.0                          0.0   \n",
       "4                           0.0                          1.0   \n",
       "\n",
       "   src_port_transformed_User  SYN Flag Cnt  RST Flag Cnt  PSH Flag Cnt  \\\n",
       "0                        1.0             0             0             0   \n",
       "1                        0.0             1             0             0   \n",
       "2                        0.0             0             0             0   \n",
       "3                        0.0             0             0             0   \n",
       "4                        0.0             1             0             0   \n",
       "\n",
       "   ACK Flag Cnt  CWE Flag Count  ECE Flag Cnt      PC-0      PC-1      PC-2  \\\n",
       "0             1               0             0 -2.367263 -1.192238  0.105713   \n",
       "1             0               1             1  0.879519  3.794625 -0.370414   \n",
       "2             1               0             0 -2.299718 -0.967773  0.076351   \n",
       "3             1               0             0 -2.299863 -0.967792  0.076359   \n",
       "4             0               1             1  0.915849  3.831009 -0.372726   \n",
       "\n",
       "       PC-3      PC-4      PC-5      PC-6      PC-7      PC-8      PC-9  \\\n",
       "0  0.070756 -0.292154 -0.359373 -0.677995 -0.192566 -0.541754 -0.656036   \n",
       "1 -0.431410  1.809650 -0.440046 -0.116166 -3.422342  1.156604 -0.303854   \n",
       "2  0.033799 -0.043209 -0.467240 -0.855880 -0.276320 -0.649905 -0.318597   \n",
       "3  0.033810 -0.043311 -0.467395 -0.856417 -0.275803 -0.648376 -0.318643   \n",
       "4 -0.430558  1.811324 -0.430885 -0.098143 -3.392003  1.141365 -0.293895   \n",
       "\n",
       "      PC-10     PC-11     PC-12     PC-13     PC-14     PC-15     PC-16  \\\n",
       "0  1.255855 -0.068330  0.197631  0.178643  0.002600  0.303512  0.128503   \n",
       "1  0.403210  0.206379  0.254442 -0.416206  0.588815  0.053183  0.117990   \n",
       "2  0.826536 -0.038305 -0.182277  0.330721 -0.082806  0.157866  0.266068   \n",
       "3  0.826985 -0.038427 -0.183361  0.330536 -0.082733  0.156671  0.265889   \n",
       "4  0.410076  0.207010  0.264383 -0.410140  0.588188  0.036268  0.112861   \n",
       "\n",
       "      PC-17     PC-18     PC-19     PC-20     PC-21     PC-22     PC-23 Label  \n",
       "0 -0.397739  0.267402 -0.864736 -0.003395  0.062132 -0.362315 -0.085506  ddos  \n",
       "1 -0.220121 -0.092607 -0.491023  0.512707 -0.380652  0.137580 -0.017587  ddos  \n",
       "2 -0.496435  1.299893 -1.093637  0.227914 -0.518784 -0.201010 -0.277658  ddos  \n",
       "3 -0.496214  1.299770 -1.093516  0.227950 -0.518748 -0.200883 -0.277627  ddos  \n",
       "4 -0.234276 -0.091066 -0.493279  0.503341 -0.371479  0.132858 -0.019752  ddos  "
      ]
     },
     "execution_count": 52,
     "metadata": {},
     "output_type": "execute_result"
    }
   ],
   "source": [
    "df_prepared.head()"
   ]
  },
  {
   "cell_type": "code",
   "execution_count": 53,
   "id": "49055ab3-6999-4b9d-a4cc-b7c679ee49da",
   "metadata": {},
   "outputs": [],
   "source": [
    "df_prepared.to_csv(\"prepared_ds.csv\")"
   ]
  },
  {
   "cell_type": "code",
   "execution_count": null,
   "id": "045825f5-cdb8-4605-88cb-2d867b7eec6a",
   "metadata": {
    "tags": []
   },
   "outputs": [],
   "source": [
    "Ron: 93\n",
    "Ferdi: 80\n",
    "Basti: 86"
   ]
  },
  {
   "cell_type": "code",
   "execution_count": null,
   "id": "fcc0f09c-29e1-4856-8933-3fa295555725",
   "metadata": {
    "tags": []
   },
   "outputs": [],
   "source": [
    "Ron: +3\n",
    "Ferdi: -1\n",
    "Basti: +1"
   ]
  }
 ],
 "metadata": {
  "kernelspec": {
   "display_name": "Python 3",
   "language": "python",
   "name": "python3"
  },
  "language_info": {
   "codemirror_mode": {
    "name": "ipython",
    "version": 3
   },
   "file_extension": ".py",
   "mimetype": "text/x-python",
   "name": "python",
   "nbconvert_exporter": "python",
   "pygments_lexer": "ipython3",
   "version": "3.9.1"
  }
 },
 "nbformat": 4,
 "nbformat_minor": 5
}
