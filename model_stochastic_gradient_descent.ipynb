{
 "cells": [
  {
   "cell_type": "markdown",
   "id": "0d9b307e-53bc-4418-a2d1-55c13ca0a147",
   "metadata": {},
   "source": [
    "# Stochastic Gradient Descent"
   ]
  },
  {
   "cell_type": "markdown",
   "id": "c6eb3b35-a59a-4565-8d66-4f4c8b294c4f",
   "metadata": {},
   "source": [
    "## Import and Settings"
   ]
  },
  {
   "cell_type": "code",
   "execution_count": 2,
   "id": "be86842c-949a-4bc0-b0e3-6e09ebc69daa",
   "metadata": {},
   "outputs": [],
   "source": [
    "import numpy as np"
   ]
  },
  {
   "cell_type": "code",
   "execution_count": 3,
   "id": "7d844b7c-3a73-4274-9900-6ba4d0f15209",
   "metadata": {},
   "outputs": [],
   "source": [
    "import dask\n",
    "import dask.dataframe as dd\n",
    "import dask.array as da"
   ]
  },
  {
   "cell_type": "code",
   "execution_count": 4,
   "id": "f13584e6-9b51-40fe-aba2-6ef196eb29b7",
   "metadata": {},
   "outputs": [],
   "source": [
    "from sklearn.model_selection import train_test_split\n",
    "from sklearn.linear_model import SGDClassifier\n",
    "from sklearn.metrics import confusion_matrix, plot_confusion_matrix"
   ]
  },
  {
   "cell_type": "code",
   "execution_count": 5,
   "id": "85cb0f43-0c8d-4549-8ee0-cf931edc7340",
   "metadata": {},
   "outputs": [],
   "source": [
    "from joblib import dump, load"
   ]
  },
  {
   "cell_type": "code",
   "execution_count": 6,
   "id": "d4f9dcb9-cd13-491a-9757-114980000e65",
   "metadata": {},
   "outputs": [],
   "source": [
    "df = dd.read_csv('prepared_ds.csv')"
   ]
  },
  {
   "cell_type": "markdown",
   "id": "fa7339c7-b2dc-4c99-a148-5d348e68f1f4",
   "metadata": {},
   "source": [
    "## Initialise Sample Dataframe"
   ]
  },
  {
   "cell_type": "code",
   "execution_count": 81,
   "id": "eb97e45b-af56-424e-8a40-1eace19896a8",
   "metadata": {},
   "outputs": [
    {
     "data": {
      "text/plain": [
       "(75650, 41)"
      ]
     },
     "execution_count": 81,
     "metadata": {},
     "output_type": "execute_result"
    }
   ],
   "source": [
    "df_fast = df.sample(frac=0.01, random_state = 1).compute()\n",
    "df_fast.shape"
   ]
  },
  {
   "cell_type": "markdown",
   "id": "02e19040-ce95-4d6f-9dab-f7d7e5336f17",
   "metadata": {},
   "source": [
    "## Train-Test-Split"
   ]
  },
  {
   "cell_type": "code",
   "execution_count": 82,
   "id": "d9933ef5-4847-4f08-8734-a7a01ef42d5f",
   "metadata": {},
   "outputs": [],
   "source": [
    "train, test, train_lbl, test_lbl = train_test_split(df_fast[df_fast.columns[1:-1]], df_fast['Label'], \n",
    "                                                    test_size=0.2, random_state=1)"
   ]
  },
  {
   "cell_type": "markdown",
   "id": "8731d352-f989-4ebd-a2fb-efaac43bb7d8",
   "metadata": {},
   "source": [
    "## Model"
   ]
  },
  {
   "cell_type": "code",
   "execution_count": 83,
   "id": "b33fd6e0-8dfa-4fc2-9210-bd0e9d611eb1",
   "metadata": {},
   "outputs": [],
   "source": [
    "clf = SGDClassifier(loss=\"modified_huber\", penalty=\"l2\", max_iter=2000, tol=1e-3)"
   ]
  },
  {
   "cell_type": "code",
   "execution_count": 84,
   "id": "a885bb1d-57dc-4304-ac7d-5aef126dfb2e",
   "metadata": {},
   "outputs": [
    {
     "data": {
      "text/plain": [
       "SGDClassifier(loss='modified_huber', max_iter=2000)"
      ]
     },
     "execution_count": 84,
     "metadata": {},
     "output_type": "execute_result"
    }
   ],
   "source": [
    "clf.fit(train, train_lbl)"
   ]
  },
  {
   "cell_type": "code",
   "execution_count": 87,
   "id": "a6cbdbde-d058-49a6-9b01-9761b447ab07",
   "metadata": {},
   "outputs": [
    {
     "name": "stdout",
     "output_type": "stream",
     "text": [
      "0.36437541308658294 ['squared_epsilon_insensitive', 'l1']\n",
      "0.5144745538664904 ['squared_loss', 'l1']\n",
      "0.591606080634501 ['squared_epsilon_insensitive', 'l2']\n",
      "0.5945142101784534 ['squared_epsilon_insensitive', 'elasticnet']\n",
      "0.6497025776602776 ['squared_loss', 'l2']\n",
      "0.6949107732980833 ['squared_loss', 'elasticnet']\n",
      "0.866226040978189 ['perceptron', 'elasticnet']\n",
      "0.9192333113020489 ['squared_hinge', 'l2']\n",
      "0.9300727032385988 ['squared_hinge', 'elasticnet']\n",
      "0.9564441506939855 ['epsilon_insensitive', 'l1']\n",
      "0.9615994712491738 ['huber', 'elasticnet']\n",
      "0.9617316589557171 ['huber', 'l1']\n",
      "0.9618638466622604 ['epsilon_insensitive', 'elasticnet']\n",
      "0.9623265036351619 ['huber', 'l2']\n",
      "0.9633840052875082 ['epsilon_insensitive', 'l2']\n",
      "0.9723066754791805 ['squared_hinge', 'l1']\n",
      "0.974619960343688 ['log', 'l2']\n",
      "0.9782551222736285 ['perceptron', 'l2']\n",
      "0.9783873099801719 ['log', 'elasticnet']\n",
      "0.9821546596166556 ['perceptron', 'l1']\n",
      "0.9853271645736946 ['modified_huber', 'l1']\n",
      "0.9866490416391276 ['hinge', 'l2']\n",
      "0.9869795109054857 ['modified_huber', 'l2']\n",
      "0.9881692002643754 ['log', 'l1']\n",
      "0.9892267019167218 ['hinge', 'elasticnet']\n",
      "0.9894249834765367 ['modified_huber', 'elasticnet']\n",
      "0.9898876404494382 ['hinge', 'l1']\n"
     ]
    }
   ],
   "source": [
    "loss_options = [\"hinge\", \"log\", \"modified_huber\", \"squared_hinge\", \"perceptron\", \"squared_loss\", \"huber\", \"epsilon_insensitive\", \"squared_epsilon_insensitive\"]\n",
    "penalty_options = [\"l2\", \"l1\", \"elasticnet\"]\n",
    "\n",
    "scores = {}\n",
    "for loss_option in loss_options:\n",
    "    for penalty_option in penalty_options:\n",
    "        clf = SGDClassifier(loss=loss_option, penalty=penalty_option, max_iter=2000, tol=1e-3)\n",
    "        clf.fit(train, train_lbl)\n",
    "        score = clf.score(test, test_lbl)\n",
    "        scores[score] = [loss_option, penalty_option]\n",
    "        \n",
    "for i in sorted(scores):\n",
    "    print(i, scores[i])"
   ]
  },
  {
   "cell_type": "markdown",
   "id": "6e30c7b1-5b33-4c3d-bad7-c643e4ebb31b",
   "metadata": {},
   "source": [
    "## Evaluation"
   ]
  },
  {
   "cell_type": "code",
   "execution_count": 85,
   "id": "d642ce83-af77-478b-a949-86e6d4ddbf3c",
   "metadata": {},
   "outputs": [
    {
     "data": {
      "text/plain": [
       "0.9872438863185724"
      ]
     },
     "execution_count": 85,
     "metadata": {},
     "output_type": "execute_result"
    }
   ],
   "source": [
    "clf.predict(test)\n",
    "clf.score(test, test_lbl)"
   ]
  },
  {
   "cell_type": "code",
   "execution_count": 86,
   "id": "3e43db92-881d-42a5-97a9-f5bd92674354",
   "metadata": {},
   "outputs": [
    {
     "data": {
      "text/plain": [
       "<sklearn.metrics._plot.confusion_matrix.ConfusionMatrixDisplay at 0x7feef03af190>"
      ]
     },
     "execution_count": 86,
     "metadata": {},
     "output_type": "execute_result"
    },
    {
     "data": {
      "image/png": "[encoded data removed]",
      "text/plain": [
       "<Figure size 432x288 with 2 Axes>"
      ]
     },
     "metadata": {
      "needs_background": "light"
     },
     "output_type": "display_data"
    }
   ],
   "source": [
    "confusion_mtx = confusion_matrix(test_lbl, clf.predict(test))\n",
    "np.round(confusion_mtx/len(test_lbl), 3)\n",
    "plot_confusion_matrix(clf, test, test_lbl, labels=['ddos', 'Benign'])"
   ]
  },
  {
   "cell_type": "markdown",
   "id": "aec3e95c-1e07-4b39-8a75-359234ddb339",
   "metadata": {},
   "source": [
    "## Save Model"
   ]
  },
  {
   "cell_type": "code",
   "execution_count": 109,
   "id": "0024a299-3eba-4bc6-9d23-78f10aa84bfa",
   "metadata": {},
   "outputs": [
    {
     "data": {
      "text/plain": [
       "['models/sgd.joblib']"
      ]
     },
     "execution_count": 109,
     "metadata": {},
     "output_type": "execute_result"
    }
   ],
   "source": [
    "dump(clf, 'models/sgd.model')"
   ]
  }
 ],
 "metadata": {
  "kernelspec": {
   "display_name": "Python 3",
   "language": "python",
   "name": "python3"
  },
  "language_info": {
   "codemirror_mode": {
    "name": "ipython",
    "version": 3
   },
   "file_extension": ".py",
   "mimetype": "text/x-python",
   "name": "python",
   "nbconvert_exporter": "python",
   "pygments_lexer": "ipython3",
   "version": "3.9.1"
  }
 },
 "nbformat": 4,
 "nbformat_minor": 5
}
