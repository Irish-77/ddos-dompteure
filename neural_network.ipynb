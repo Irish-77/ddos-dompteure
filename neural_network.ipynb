{
 "cells": [
  {
   "cell_type": "markdown",
   "id": "0d9b307e-53bc-4418-a2d1-55c13ca0a147",
   "metadata": {},
   "source": [
    "# Neural Network"
   ]
  },
  {
   "cell_type": "markdown",
   "id": "c6eb3b35-a59a-4565-8d66-4f4c8b294c4f",
   "metadata": {},
   "source": [
    "## Import and Settings"
   ]
  },
  {
   "cell_type": "code",
   "execution_count": 1,
   "id": "4455ad06-cd84-4334-9ad9-63ec0d9c2db6",
   "metadata": {},
   "outputs": [],
   "source": [
    "import warnings\n",
    "warnings.filterwarnings(\"ignore\")"
   ]
  },
  {
   "cell_type": "code",
   "execution_count": 2,
   "id": "f13584e6-9b51-40fe-aba2-6ef196eb29b7",
   "metadata": {},
   "outputs": [],
   "source": [
    "from sklearn.neural_network import MLPClassifier\n",
    "from sklearn.model_selection import train_test_split\n",
    "from sklearn.metrics import confusion_matrix, plot_confusion_matrix\n",
    "from sklearn.calibration import CalibratedClassifierCV\n",
    "from joblib import dump, load\n",
    "import dask.dataframe as dd\n",
    "import numpy as np"
   ]
  },
  {
   "cell_type": "code",
   "execution_count": 3,
   "id": "d4f9dcb9-cd13-491a-9757-114980000e65",
   "metadata": {},
   "outputs": [],
   "source": [
    "df = dd.read_csv('prepared_ds.csv')"
   ]
  },
  {
   "cell_type": "markdown",
   "id": "fa7339c7-b2dc-4c99-a148-5d348e68f1f4",
   "metadata": {},
   "source": [
    "## df_fast initialisieren (size = 0.01)"
   ]
  },
  {
   "cell_type": "code",
   "execution_count": 5,
   "id": "3bae4ffb-c58f-465f-be1f-55de86da1ec9",
   "metadata": {},
   "outputs": [],
   "source": [
    "df_fast = df.sample(frac=0.01, random_state = 1).compute()"
   ]
  },
  {
   "cell_type": "code",
   "execution_count": 6,
   "id": "596502ba-a0c7-40b8-8094-d27d0c7fda98",
   "metadata": {},
   "outputs": [
    {
     "data": {
      "text/plain": [
       "(75666, 41)"
      ]
     },
     "execution_count": 6,
     "metadata": {},
     "output_type": "execute_result"
    }
   ],
   "source": [
    "df_fast.shape"
   ]
  },
  {
   "cell_type": "markdown",
   "id": "ffbad533-f5ff-4a96-a38b-40f42f44921c",
   "metadata": {},
   "source": [
    "## train, test split"
   ]
  },
  {
   "cell_type": "code",
   "execution_count": 7,
   "id": "d9933ef5-4847-4f08-8734-a7a01ef42d5f",
   "metadata": {},
   "outputs": [],
   "source": [
    "train, test, train_lbl, test_lbl = train_test_split(df_fast[df_fast.columns[1:-1]], df_fast['Label'], test_size=0.2, random_state=1)"
   ]
  },
  {
   "cell_type": "markdown",
   "id": "02e19040-ce95-4d6f-9dab-f7d7e5336f17",
   "metadata": {},
   "source": [
    "## Training"
   ]
  },
  {
   "cell_type": "code",
   "execution_count": 8,
   "id": "8f39c06f-60b0-486b-a35a-1f827da595da",
   "metadata": {},
   "outputs": [],
   "source": [
    "clf1 = MLPClassifier(solver='lbfgs', alpha=1e-7, hidden_layer_sizes=(20, 10, 5), random_state=1, max_iter=1000)"
   ]
  },
  {
   "cell_type": "code",
   "execution_count": 9,
   "id": "37d38661-b8e9-47b7-b7e2-5f14b7406de4",
   "metadata": {},
   "outputs": [],
   "source": [
    "clf2 = MLPClassifier(solver='lbfgs', alpha=1e-8, hidden_layer_sizes=(20, 10, 5), random_state=1, max_iter=2000)"
   ]
  },
  {
   "cell_type": "code",
   "execution_count": 12,
   "id": "3bb7055c-b497-4d3b-ab32-eccde3d8badd",
   "metadata": {},
   "outputs": [
    {
     "name": "stdout",
     "output_type": "stream",
     "text": [
      "clf1 - accuracy=0.9975551737808908\n",
      "clf1 - cv=                   2, method=sigmoid    - accuracy=0.996564028016387\n",
      "clf1 - cv=                   2, method=isotonic   - accuracy=0.9969604863221885\n",
      "clf1 - cv=prefit              , method=sigmoid    - accuracy=0.9975551737808908\n",
      "clf1 - cv=prefit              , method=isotonic   - accuracy=0.9975551737808908\n",
      "\n",
      "clf2 - accuracy=0.9974890973965904\n",
      "clf2 - cv=                   2, method=sigmoid    - accuracy=0.99735694462799\n",
      "clf2 - cv=                   2, method=isotonic   - accuracy=0.9969604863221885\n",
      "clf2 - cv=prefit              , method=sigmoid    - accuracy=0.9974890973965904\n",
      "clf2 - cv=prefit              , method=isotonic   - accuracy=0.99735694462799\n",
      "\n"
     ]
    }
   ],
   "source": [
    "clfs = []\n",
    "for clf_ in [(clf1, 'clf1'), (clf2, 'clf2')]:\n",
    "    clf = clf_[0].fit(train, train_lbl)\n",
    "    clfs.append((clf, clf_[1]))\n",
    "    print(f'{clf_[1]} - accuracy={clf.score(test, test_lbl)}')\n",
    "    for cv in [2, 'prefit']:\n",
    "        for method in ['sigmoid', 'isotonic']:\n",
    "          clf_calibrated = CalibratedClassifierCV(clf, cv=cv, method=method, n_jobs=-1)\n",
    "          clf_calibrated.fit(train, train_lbl)\n",
    "          clfs.append((clf_calibrated, f'{clf_[1]}-{cv}-{method}'))\n",
    "          print(f'{clf_[1]} - cv={cv:20}, method={method:10s} - accuracy={clf_calibrated.score(test, test_lbl)}')\n",
    "    print()"
   ]
  },
  {
   "cell_type": "markdown",
   "id": "6e30c7b1-5b33-4c3d-bad7-c643e4ebb31b",
   "metadata": {},
   "source": [
    "## confusion matrix (fp (wenn 1 (positiv) = DDoS) minimieren)"
   ]
  },
  {
   "cell_type": "code",
   "execution_count": 18,
   "id": "6e0f03e3-de78-4da2-91ea-8767016c83a2",
   "metadata": {},
   "outputs": [],
   "source": [
    "if (clfs == []):\n",
    "    clf = load('models/neural_network.joblib')\n",
    "else:\n",
    "    clf = clfs[0][0]"
   ]
  },
  {
   "cell_type": "code",
   "execution_count": 19,
   "id": "c494f232-4de8-4b1b-b0fb-73fefd800f38",
   "metadata": {},
   "outputs": [],
   "source": [
    "confusion_mtx = confusion_matrix(test_lbl, clf.predict(test))"
   ]
  },
  {
   "cell_type": "code",
   "execution_count": 20,
   "id": "eab5fee7-1b4e-4cf4-9be2-8f2416d0f1d7",
   "metadata": {},
   "outputs": [
    {
     "data": {
      "text/plain": [
       "array([[0.827, 0.002],\n",
       "       [0.001, 0.171]])"
      ]
     },
     "execution_count": 20,
     "metadata": {},
     "output_type": "execute_result"
    }
   ],
   "source": [
    "np.round(confusion_mtx/len(test_lbl), 3)"
   ]
  },
  {
   "cell_type": "code",
   "execution_count": 21,
   "id": "92466c16-e01b-4a1e-a564-49d291a0a616",
   "metadata": {},
   "outputs": [
    {
     "data": {
      "text/plain": [
       "<sklearn.metrics._plot.confusion_matrix.ConfusionMatrixDisplay at 0x1881b484790>"
      ]
     },
     "execution_count": 21,
     "metadata": {},
     "output_type": "execute_result"
    },
    {
     "data": {
      "image/png": "[encoded data removed]",
      "text/plain": [
       "<Figure size 432x288 with 2 Axes>"
      ]
     },
     "metadata": {
      "needs_background": "light"
     },
     "output_type": "display_data"
    }
   ],
   "source": [
    "plot_confusion_matrix(clf, test, test_lbl, labels=['ddos', 'Benign'])"
   ]
  },
  {
   "cell_type": "code",
   "execution_count": 22,
   "id": "54f77fbf-7af1-4263-9f9c-c208488635c5",
   "metadata": {},
   "outputs": [
    {
     "data": {
      "text/plain": [
       "25"
      ]
     },
     "execution_count": 22,
     "metadata": {},
     "output_type": "execute_result"
    }
   ],
   "source": [
    "# false positive\n",
    "confusion_mtx[0,1]"
   ]
  },
  {
   "cell_type": "markdown",
   "id": "aec3e95c-1e07-4b39-8a75-359234ddb339",
   "metadata": {},
   "source": [
    "## Modell speichern"
   ]
  },
  {
   "cell_type": "code",
   "execution_count": 23,
   "id": "f1d73f3d-190b-42f7-bf47-2e15c1e6a923",
   "metadata": {},
   "outputs": [
    {
     "data": {
      "text/plain": [
       "{'activation': 'relu',\n",
       " 'alpha': 1e-07,\n",
       " 'batch_size': 'auto',\n",
       " 'beta_1': 0.9,\n",
       " 'beta_2': 0.999,\n",
       " 'early_stopping': False,\n",
       " 'epsilon': 1e-08,\n",
       " 'hidden_layer_sizes': (20, 10, 5),\n",
       " 'learning_rate': 'constant',\n",
       " 'learning_rate_init': 0.001,\n",
       " 'max_fun': 15000,\n",
       " 'max_iter': 1000,\n",
       " 'momentum': 0.9,\n",
       " 'n_iter_no_change': 10,\n",
       " 'nesterovs_momentum': True,\n",
       " 'power_t': 0.5,\n",
       " 'random_state': 1,\n",
       " 'shuffle': True,\n",
       " 'solver': 'lbfgs',\n",
       " 'tol': 0.0001,\n",
       " 'validation_fraction': 0.1,\n",
       " 'verbose': False,\n",
       " 'warm_start': False}"
      ]
     },
     "execution_count": 23,
     "metadata": {},
     "output_type": "execute_result"
    }
   ],
   "source": [
    "clf.get_params()"
   ]
  },
  {
   "cell_type": "code",
   "execution_count": 24,
   "id": "83f64006-7e64-4c5d-a61f-c123c4d7fd51",
   "metadata": {},
   "outputs": [
    {
     "data": {
      "text/plain": [
       "['models/neural_network.joblib']"
      ]
     },
     "execution_count": 24,
     "metadata": {},
     "output_type": "execute_result"
    }
   ],
   "source": [
    "dump(clf, 'models/neural_network.joblib')"
   ]
  }
 ],
 "metadata": {
  "kernelspec": {
   "display_name": "Python 3",
   "language": "python",
   "name": "python3"
  },
  "language_info": {
   "codemirror_mode": {
    "name": "ipython",
    "version": 3
   },
   "file_extension": ".py",
   "mimetype": "text/x-python",
   "name": "python",
   "nbconvert_exporter": "python",
   "pygments_lexer": "ipython3",
   "version": "3.9.1"
  }
 },
 "nbformat": 4,
 "nbformat_minor": 5
}
