{
 "cells": [
  {
   "cell_type": "markdown",
   "id": "0d9b307e-53bc-4418-a2d1-55c13ca0a147",
   "metadata": {},
   "source": [
    "# Neural Network"
   ]
  },
  {
   "cell_type": "markdown",
   "id": "c6eb3b35-a59a-4565-8d66-4f4c8b294c4f",
   "metadata": {},
   "source": [
    "## Import and Settings"
   ]
  },
  {
   "cell_type": "code",
   "execution_count": 1,
   "id": "4455ad06-cd84-4334-9ad9-63ec0d9c2db6",
   "metadata": {},
   "outputs": [],
   "source": [
    "import warnings\n",
    "warnings.filterwarnings(\"ignore\")"
   ]
  },
  {
   "cell_type": "code",
   "execution_count": 2,
   "id": "f13584e6-9b51-40fe-aba2-6ef196eb29b7",
   "metadata": {},
   "outputs": [],
   "source": [
    "from sklearn.neural_network import MLPClassifier\n",
    "from sklearn.model_selection import train_test_split\n",
    "from sklearn.metrics import confusion_matrix, plot_confusion_matrix\n",
    "from sklearn.calibration import CalibratedClassifierCV\n",
    "from sklearn.model_selection import RandomizedSearchCV\n",
    "from joblib import dump, load\n",
    "import dask.dataframe as dd\n",
    "import numpy as np"
   ]
  },
  {
   "cell_type": "code",
   "execution_count": 3,
   "id": "d4f9dcb9-cd13-491a-9757-114980000e65",
   "metadata": {},
   "outputs": [],
   "source": [
    "df = dd.read_csv('prepared_ds.csv')"
   ]
  },
  {
   "cell_type": "markdown",
   "id": "fa7339c7-b2dc-4c99-a148-5d348e68f1f4",
   "metadata": {},
   "source": [
    "## df_fast initialisieren (size = 0.01)"
   ]
  },
  {
   "cell_type": "code",
   "execution_count": 25,
   "id": "3bae4ffb-c58f-465f-be1f-55de86da1ec9",
   "metadata": {},
   "outputs": [],
   "source": [
    "df_fast = df.sample(frac=0.01, random_state = 2).compute()"
   ]
  },
  {
   "cell_type": "code",
   "execution_count": 26,
   "id": "596502ba-a0c7-40b8-8094-d27d0c7fda98",
   "metadata": {},
   "outputs": [
    {
     "data": {
      "text/plain": [
       "(75666, 41)"
      ]
     },
     "execution_count": 26,
     "metadata": {},
     "output_type": "execute_result"
    }
   ],
   "source": [
    "df_fast.shape"
   ]
  },
  {
   "cell_type": "markdown",
   "id": "ffbad533-f5ff-4a96-a38b-40f42f44921c",
   "metadata": {},
   "source": [
    "## train, test split"
   ]
  },
  {
   "cell_type": "code",
   "execution_count": 27,
   "id": "d9933ef5-4847-4f08-8734-a7a01ef42d5f",
   "metadata": {},
   "outputs": [],
   "source": [
    "train, test, train_lbl, test_lbl = train_test_split(df_fast[df_fast.columns[1:-1]], df_fast['Label'], test_size=0.2, random_state=1)"
   ]
  },
  {
   "cell_type": "code",
   "execution_count": 7,
   "id": "ebf51a01-581a-490b-b2f5-1f90871939d8",
   "metadata": {},
   "outputs": [],
   "source": [
    "continuous_vars = [i for i in train.columns if 'PC-' in i]\n",
    "category_vars = [i for i in train.columns if i not in continuous_vars]"
   ]
  },
  {
   "cell_type": "markdown",
   "id": "02e19040-ce95-4d6f-9dab-f7d7e5336f17",
   "metadata": {},
   "source": [
    "## Training"
   ]
  },
  {
   "cell_type": "code",
   "execution_count": 8,
   "id": "8f39c06f-60b0-486b-a35a-1f827da595da",
   "metadata": {},
   "outputs": [],
   "source": [
    "clf1 = MLPClassifier(solver='lbfgs', alpha=1e-7, hidden_layer_sizes=(20, 10, 5), random_state=1, max_iter=1000)"
   ]
  },
  {
   "cell_type": "code",
   "execution_count": 9,
   "id": "37d38661-b8e9-47b7-b7e2-5f14b7406de4",
   "metadata": {},
   "outputs": [],
   "source": [
    "clf2 = MLPClassifier(solver='lbfgs', alpha=1e-8, hidden_layer_sizes=(20, 10, 5), random_state=1, max_iter=2000)"
   ]
  },
  {
   "cell_type": "markdown",
   "id": "35bdd183-5654-44bc-91cb-624f04d98496",
   "metadata": {},
   "source": [
    "Using Grid Search might be better:"
   ]
  },
  {
   "cell_type": "code",
   "execution_count": 11,
   "id": "3bb7055c-b497-4d3b-ab32-eccde3d8badd",
   "metadata": {
    "collapsed": true,
    "jupyter": {
     "outputs_hidden": true
    },
    "tags": []
   },
   "outputs": [
    {
     "name": "stdout",
     "output_type": "stream",
     "text": [
      "clf1 - data=con - accuracy=0.9950442711774812\n",
      "clf1 - data=con - cv=                   2, method=sigmoid    - accuracy=0.9945156601030791\n",
      "clf1 - data=con - cv=                   2, method=isotonic   - accuracy=0.9942513545658782\n",
      "clf1 - data=con - cv=prefit              , method=sigmoid    - accuracy=0.9949121184088807\n",
      "clf1 - data=con - cv=prefit              , method=isotonic   - accuracy=0.9949121184088807\n",
      "clf1 - data=cat - accuracy=0.9017444165455266\n",
      "clf1 - data=cat - cv=                   2, method=sigmoid    - accuracy=0.9017444165455266\n",
      "clf1 - data=cat - cv=                   2, method=isotonic   - accuracy=0.9017444165455266\n",
      "clf1 - data=cat - cv=prefit              , method=sigmoid    - accuracy=0.9017444165455266\n",
      "clf1 - data=cat - cv=prefit              , method=isotonic   - accuracy=0.9017444165455266\n",
      "clf1 - data=all - accuracy=0.9970926390907889\n",
      "clf1 - data=all - cv=                   2, method=sigmoid    - accuracy=0.9966961807849875\n",
      "clf1 - data=all - cv=                   2, method=isotonic   - accuracy=0.9964979516320867\n",
      "clf1 - data=all - cv=prefit              , method=sigmoid    - accuracy=0.9971587154750892\n",
      "clf1 - data=all - cv=prefit              , method=isotonic   - accuracy=0.9970265627064887\n",
      "\n",
      "clf2 - data=con - accuracy=0.9958371877890841\n",
      "clf2 - data=con - cv=                   2, method=sigmoid    - accuracy=0.9964979516320867\n",
      "clf2 - data=con - cv=                   2, method=isotonic   - accuracy=0.9959032641733845\n",
      "clf2 - data=con - cv=prefit              , method=sigmoid    - accuracy=0.9961675697105854\n",
      "clf2 - data=con - cv=prefit              , method=isotonic   - accuracy=0.9962336460948857\n",
      "clf2 - data=cat - accuracy=0.9017444165455266\n",
      "clf2 - data=cat - cv=                   2, method=sigmoid    - accuracy=0.9017444165455266\n",
      "clf2 - data=cat - cv=                   2, method=isotonic   - accuracy=0.9017444165455266\n",
      "clf2 - data=cat - cv=prefit              , method=sigmoid    - accuracy=0.9017444165455266\n",
      "clf2 - data=cat - cv=prefit              , method=isotonic   - accuracy=0.9017444165455266\n",
      "clf2 - data=all - accuracy=0.9976873265494912\n",
      "clf2 - data=all - cv=                   2, method=sigmoid    - accuracy=0.9966961807849875\n",
      "clf2 - data=all - cv=                   2, method=isotonic   - accuracy=0.9964318752477864\n",
      "clf2 - data=all - cv=prefit              , method=sigmoid    - accuracy=0.9976873265494912\n",
      "clf2 - data=all - cv=prefit              , method=isotonic   - accuracy=0.9972247918593895\n",
      "\n"
     ]
    }
   ],
   "source": [
    "clfs = []\n",
    "for clf_ in [(clf1, 'clf1'), (clf2, 'clf2')]:\n",
    "    for data in ((continuous_vars, 'con'), (category_vars, 'cat'), (continuous_vars + category_vars, 'all')):\n",
    "        clf = clf_[0].fit(train[data[0]], train_lbl + f'-{data[1]}')\n",
    "        clfs.append((clf, clf_[1]))\n",
    "        print(f'{clf_[1]} - data={data[1]} - accuracy={clf.score(test[data[0]], test_lbl)}')\n",
    "        for cv in [2, 'prefit']:\n",
    "            for method in ['sigmoid', 'isotonic']:\n",
    "              clf_calibrated = CalibratedClassifierCV(clf, cv=cv, method=method, n_jobs=-1)\n",
    "              clf_calibrated.fit(train[data[0]], train_lbl)\n",
    "              clfs.append((clf_calibrated, f'{clf_[1]}-{data[1]}-{cv}-{method}'))\n",
    "              print(f'{clf_[1]} - data={data[1]} - cv={cv:20}, method={method:10s} - accuracy={v}')\n",
    "    print()"
   ]
  },
  {
   "cell_type": "raw",
   "id": "c48d1894-0abc-472e-9d64-83860fb672fc",
   "metadata": {
    "tags": []
   },
   "source": [
    "clf1 - data=con - accuracy=0.9950442711774812\n",
    "clf1 - data=con - cv=                   2, method=sigmoid    - accuracy=0.9945156601030791\n",
    "clf1 - data=con - cv=                   2, method=isotonic   - accuracy=0.9942513545658782\n",
    "clf1 - data=con - cv=prefit              , method=sigmoid    - accuracy=0.9949121184088807\n",
    "clf1 - data=con - cv=prefit              , method=isotonic   - accuracy=0.9949121184088807\n",
    "clf1 - data=cat - accuracy=0.9017444165455266\n",
    "clf1 - data=cat - cv=                   2, method=sigmoid    - accuracy=0.9017444165455266\n",
    "clf1 - data=cat - cv=                   2, method=isotonic   - accuracy=0.9017444165455266\n",
    "clf1 - data=cat - cv=prefit              , method=sigmoid    - accuracy=0.9017444165455266\n",
    "clf1 - data=cat - cv=prefit              , method=isotonic   - accuracy=0.9017444165455266\n",
    "clf1 - data=all - accuracy=0.9970926390907889\n",
    "clf1 - data=all - cv=                   2, method=sigmoid    - accuracy=0.9966961807849875\n",
    "clf1 - data=all - cv=                   2, method=isotonic   - accuracy=0.9964979516320867\n",
    "clf1 - data=all - cv=prefit              , method=sigmoid    - accuracy=0.9971587154750892\n",
    "clf1 - data=all - cv=prefit              , method=isotonic   - accuracy=0.9970265627064887\n",
    "\n",
    "clf2 - data=con - accuracy=0.9958371877890841\n",
    "clf2 - data=con - cv=                   2, method=sigmoid    - accuracy=0.9964979516320867\n",
    "clf2 - data=con - cv=                   2, method=isotonic   - accuracy=0.9959032641733845\n",
    "clf2 - data=con - cv=prefit              , method=sigmoid    - accuracy=0.9961675697105854\n",
    "clf2 - data=con - cv=prefit              , method=isotonic   - accuracy=0.9962336460948857\n",
    "clf2 - data=cat - accuracy=0.9017444165455266\n",
    "clf2 - data=cat - cv=                   2, method=sigmoid    - accuracy=0.9017444165455266\n",
    "clf2 - data=cat - cv=                   2, method=isotonic   - accuracy=0.9017444165455266\n",
    "clf2 - data=cat - cv=prefit              , method=sigmoid    - accuracy=0.9017444165455266\n",
    "clf2 - data=cat - cv=prefit              , method=isotonic   - accuracy=0.9017444165455266\n",
    "clf2 - data=all - accuracy=0.9976873265494912\n",
    "clf2 - data=all - cv=                   2, method=sigmoid    - accuracy=0.9966961807849875\n",
    "clf2 - data=all - cv=                   2, method=isotonic   - accuracy=0.9964318752477864\n",
    "clf2 - data=all - cv=prefit              , method=sigmoid    - accuracy=0.9976873265494912\n",
    "clf2 - data=all - cv=prefit              , method=isotonic   - accuracy=0.9972247918593895"
   ]
  },
  {
   "cell_type": "markdown",
   "id": "7548402d-5273-4999-8479-bb496f18ccc6",
   "metadata": {},
   "source": [
    "clf2 - data=all - accuracy=0.9976873265494912\n",
    "This Model seems better. However, it produces way worse results concerning the false positive."
   ]
  },
  {
   "cell_type": "code",
   "execution_count": 8,
   "id": "1c7f2beb-50dc-4ec6-b971-5e42ed5496d5",
   "metadata": {},
   "outputs": [
    {
     "name": "stdout",
     "output_type": "stream",
     "text": [
      "Fitting 5 folds for each of 10 candidates, totalling 50 fits\n"
     ]
    },
    {
     "data": {
      "text/plain": [
       "RandomizedSearchCV(estimator=MLPClassifier(), n_jobs=-1,\n",
       "                   param_distributions={'activation': ('identity', 'logistic',\n",
       "                                                       'tanh', 'relu'),\n",
       "                                        'alpha': [0.001, 0.0001, 1e-05, 1e-07,\n",
       "                                                  1e-08],\n",
       "                                        'hidden_layer_sizes': [(20, 10, 5)],\n",
       "                                        'max_iter': [1000, 2000],\n",
       "                                        'random_state': [1],\n",
       "                                        'solver': ('lbfgs', 'sgd', 'adam')},\n",
       "                   return_train_score=True, scoring='accuracy', verbose=4)"
      ]
     },
     "execution_count": 8,
     "metadata": {},
     "output_type": "execute_result"
    }
   ],
   "source": [
    "parameters = {\n",
    "    'hidden_layer_sizes': [(20, 10, 5)],\n",
    "    'max_iter': [1000, 2000],\n",
    "    'alpha': [1e-3, 1e-4, 1e-5, 1e-7, 1e-8],\n",
    "    'random_state': [1],\n",
    "    'activation': ('identity', 'logistic', 'tanh', 'relu'),\n",
    "    'solver': ('lbfgs', 'sgd', 'adam')\n",
    "}\n",
    "mlp = MLPClassifier()\n",
    "clf = RandomizedSearchCV(mlp, param_distributions=parameters, scoring='accuracy', n_jobs=-1, verbose=4, return_train_score=True)\n",
    "clf.fit(df_fast[df_fast.columns[1:-1]], df_fast['Label'])"
   ]
  },
  {
   "cell_type": "code",
   "execution_count": 29,
   "id": "e94abcbd-9658-4547-90bb-bf4b639f9fb1",
   "metadata": {},
   "outputs": [
    {
     "name": "stdout",
     "output_type": "stream",
     "text": [
      "0.9979516320866922\n"
     ]
    }
   ],
   "source": [
    "print(clf.score(test, test_lbl))"
   ]
  },
  {
   "cell_type": "markdown",
   "id": "6e30c7b1-5b33-4c3d-bad7-c643e4ebb31b",
   "metadata": {},
   "source": [
    "## confusion matrix (fp (wenn 1 (positiv) = DDoS) minimieren)"
   ]
  },
  {
   "cell_type": "code",
   "execution_count": 27,
   "id": "2f4505ef-3421-4db4-9784-90d9dc66eafd",
   "metadata": {},
   "outputs": [],
   "source": [
    "clf = load('models/neural_network.joblib')"
   ]
  },
  {
   "cell_type": "code",
   "execution_count": 33,
   "id": "38e7b6d5-a39b-4767-968e-89e34f049770",
   "metadata": {},
   "outputs": [],
   "source": [
    "if (clfs == []):\n",
    "    clf = load('models/neural_network.joblib')\n",
    "else:\n",
    "    clf = clfs[-5][0]"
   ]
  },
  {
   "cell_type": "code",
   "execution_count": 16,
   "id": "c494f232-4de8-4b1b-b0fb-73fefd800f38",
   "metadata": {},
   "outputs": [],
   "source": [
    "confusion_mtx = confusion_matrix(test_lbl, clf.predict(test))"
   ]
  },
  {
   "cell_type": "code",
   "execution_count": 17,
   "id": "eab5fee7-1b4e-4cf4-9be2-8f2416d0f1d7",
   "metadata": {},
   "outputs": [
    {
     "data": {
      "text/plain": [
       "array([[0.827, 0.001],\n",
       "       [0.001, 0.171]])"
      ]
     },
     "execution_count": 17,
     "metadata": {},
     "output_type": "execute_result"
    }
   ],
   "source": [
    "np.round(confusion_mtx/len(test_lbl), 3)"
   ]
  },
  {
   "cell_type": "code",
   "execution_count": 18,
   "id": "92466c16-e01b-4a1e-a564-49d291a0a616",
   "metadata": {},
   "outputs": [
    {
     "data": {
      "text/plain": [
       "<sklearn.metrics._plot.confusion_matrix.ConfusionMatrixDisplay at 0x2938542c280>"
      ]
     },
     "execution_count": 18,
     "metadata": {},
     "output_type": "execute_result"
    },
    {
     "data": {
      "image/png": "[encoded data removed]",
      "text/plain": [
       "<Figure size 432x288 with 2 Axes>"
      ]
     },
     "metadata": {
      "needs_background": "light"
     },
     "output_type": "display_data"
    }
   ],
   "source": [
    "plot_confusion_matrix(clf, test, test_lbl, labels=['ddos', 'Benign'])"
   ]
  },
  {
   "cell_type": "code",
   "execution_count": 19,
   "id": "54f77fbf-7af1-4263-9f9c-c208488635c5",
   "metadata": {},
   "outputs": [
    {
     "data": {
      "text/plain": [
       "19"
      ]
     },
     "execution_count": 19,
     "metadata": {},
     "output_type": "execute_result"
    }
   ],
   "source": [
    "# false positive\n",
    "confusion_mtx[0,1]"
   ]
  },
  {
   "cell_type": "markdown",
   "id": "aec3e95c-1e07-4b39-8a75-359234ddb339",
   "metadata": {},
   "source": [
    "## Modell speichern"
   ]
  },
  {
   "cell_type": "code",
   "execution_count": 15,
   "id": "f1d73f3d-190b-42f7-bf47-2e15c1e6a923",
   "metadata": {},
   "outputs": [
    {
     "data": {
      "text/plain": [
       "{'cv': None,\n",
       " 'error_score': nan,\n",
       " 'estimator__activation': 'relu',\n",
       " 'estimator__alpha': 0.0001,\n",
       " 'estimator__batch_size': 'auto',\n",
       " 'estimator__beta_1': 0.9,\n",
       " 'estimator__beta_2': 0.999,\n",
       " 'estimator__early_stopping': False,\n",
       " 'estimator__epsilon': 1e-08,\n",
       " 'estimator__hidden_layer_sizes': (100,),\n",
       " 'estimator__learning_rate': 'constant',\n",
       " 'estimator__learning_rate_init': 0.001,\n",
       " 'estimator__max_fun': 15000,\n",
       " 'estimator__max_iter': 200,\n",
       " 'estimator__momentum': 0.9,\n",
       " 'estimator__n_iter_no_change': 10,\n",
       " 'estimator__nesterovs_momentum': True,\n",
       " 'estimator__power_t': 0.5,\n",
       " 'estimator__random_state': None,\n",
       " 'estimator__shuffle': True,\n",
       " 'estimator__solver': 'adam',\n",
       " 'estimator__tol': 0.0001,\n",
       " 'estimator__validation_fraction': 0.1,\n",
       " 'estimator__verbose': False,\n",
       " 'estimator__warm_start': False,\n",
       " 'estimator': MLPClassifier(),\n",
       " 'n_iter': 10,\n",
       " 'n_jobs': -1,\n",
       " 'param_distributions': {'hidden_layer_sizes': [(20, 10, 5)],\n",
       "  'max_iter': [1000, 2000],\n",
       "  'alpha': [0.001, 0.0001, 1e-05, 1e-07, 1e-08],\n",
       "  'random_state': [1],\n",
       "  'activation': ('identity', 'logistic', 'tanh', 'relu'),\n",
       "  'solver': ('lbfgs', 'sgd', 'adam')},\n",
       " 'pre_dispatch': '2*n_jobs',\n",
       " 'random_state': None,\n",
       " 'refit': True,\n",
       " 'return_train_score': True,\n",
       " 'scoring': 'accuracy',\n",
       " 'verbose': 4}"
      ]
     },
     "execution_count": 15,
     "metadata": {},
     "output_type": "execute_result"
    }
   ],
   "source": [
    "clf.get_params()"
   ]
  },
  {
   "cell_type": "code",
   "execution_count": 28,
   "id": "46140aba-f1ea-4ca1-af57-db9c3e865bf0",
   "metadata": {},
   "outputs": [
    {
     "data": {
      "text/plain": [
       "0.9977004204410687"
      ]
     },
     "execution_count": 28,
     "metadata": {},
     "output_type": "execute_result"
    }
   ],
   "source": [
    "clf.best_score_"
   ]
  },
  {
   "cell_type": "code",
   "execution_count": 20,
   "id": "83f64006-7e64-4c5d-a61f-c123c4d7fd51",
   "metadata": {},
   "outputs": [
    {
     "data": {
      "text/plain": [
       "['models/neural_network_2.joblib']"
      ]
     },
     "execution_count": 20,
     "metadata": {},
     "output_type": "execute_result"
    }
   ],
   "source": [
    "dump(clf, 'models/neural_network_2.joblib')"
   ]
  },
  {
   "cell_type": "code",
   "execution_count": null,
   "id": "de37115a-2563-44cb-9977-8f5dfc41972f",
   "metadata": {},
   "outputs": [],
   "source": []
  }
 ],
 "metadata": {
  "kernelspec": {
   "display_name": "Python 3",
   "language": "python",
   "name": "python3"
  },
  "language_info": {
   "codemirror_mode": {
    "name": "ipython",
    "version": 3
   },
   "file_extension": ".py",
   "mimetype": "text/x-python",
   "name": "python",
   "nbconvert_exporter": "python",
   "pygments_lexer": "ipython3",
   "version": "3.9.1"
  }
 },
 "nbformat": 4,
 "nbformat_minor": 5
}
