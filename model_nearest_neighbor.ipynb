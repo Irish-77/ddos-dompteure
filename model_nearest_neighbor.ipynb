{
 "cells": [
  {
   "cell_type": "markdown",
   "id": "0d9b307e-53bc-4418-a2d1-55c13ca0a147",
   "metadata": {},
   "source": [
    "# Nearest Neighbors"
   ]
  },
  {
   "cell_type": "markdown",
   "id": "c6eb3b35-a59a-4565-8d66-4f4c8b294c4f",
   "metadata": {},
   "source": [
    "## Import and Settings"
   ]
  },
  {
   "cell_type": "code",
   "execution_count": 2,
   "id": "f13584e6-9b51-40fe-aba2-6ef196eb29b7",
   "metadata": {},
   "outputs": [],
   "source": [
    "import dask\n",
    "import dask.dataframe as dd\n",
    "import dask.array as da\n",
    "\n",
    "import numpy as np\n",
    "\n",
    "from sklearn.model_selection import train_test_split\n",
    "from sklearn.neighbors import KNeighborsClassifier\n",
    "from sklearn.metrics import confusion_matrix, plot_confusion_matrix\n",
    "\n",
    "import itertools\n",
    "\n",
    "from joblib import dump, load"
   ]
  },
  {
   "cell_type": "code",
   "execution_count": 3,
   "id": "d4f9dcb9-cd13-491a-9757-114980000e65",
   "metadata": {},
   "outputs": [],
   "source": [
    "df = dd.read_csv('prepared_ds.csv')"
   ]
  },
  {
   "cell_type": "markdown",
   "id": "fa7339c7-b2dc-4c99-a148-5d348e68f1f4",
   "metadata": {},
   "source": [
    "## Initialise Sample Dataframe"
   ]
  },
  {
   "cell_type": "code",
   "execution_count": 3,
   "id": "eb97e45b-af56-424e-8a40-1eace19896a8",
   "metadata": {},
   "outputs": [],
   "source": [
    "df_fast = df.sample(frac=0.01, random_state = 1).compute()"
   ]
  },
  {
   "cell_type": "markdown",
   "id": "ffbad533-f5ff-4a96-a38b-40f42f44921c",
   "metadata": {},
   "source": [
    "## Train-Test-Split"
   ]
  },
  {
   "cell_type": "code",
   "execution_count": 4,
   "id": "d9933ef5-4847-4f08-8734-a7a01ef42d5f",
   "metadata": {},
   "outputs": [],
   "source": [
    "train, test, train_lbl, test_lbl = train_test_split(df_fast[df_fast.columns[1:-1]], df_fast['Label'], \n",
    "                                                    test_size=0.2, random_state=1)"
   ]
  },
  {
   "cell_type": "markdown",
   "id": "8731d352-f989-4ebd-a2fb-efaac43bb7d8",
   "metadata": {},
   "source": [
    "## Training\n",
    "### Models created with different parameters (grid search)"
   ]
  },
  {
   "cell_type": "code",
   "execution_count": null,
   "id": "5d0568cf-b86c-42e1-a87b-66bf63f2c654",
   "metadata": {},
   "outputs": [],
   "source": [
    "algo_options = [\"auto\", \"ball_tree\", \"kd_tree\", \"brute\"]\n",
    "weight_options = [\"uniform\", \"distance\"]\n",
    "\n",
    "scores = []\n",
    "options = list(itertools.product(algo_options, weight_options, range(1,5)))\n",
    "n = len(options)\n",
    "\n",
    "for i, (algo_option, weight_option, neighbours) in enumerate(options):\n",
    "    neigh = KNeighborsClassifier(n_neighbors=neighbours, weights=weight_option, algorithm=algo_option)        \n",
    "    neigh.fit(train, train_lbl)\n",
    "    score = neigh.score(test, test_lbl)\n",
    "    scores.append([score, neighbours, weight_option, algo_option])\n",
    "    print('[' + (i+1) * '=' + '>' + (n-i-1) * ' ' + ']' + '\\t\\t' + f'{i+1}/{n}', end='\\r')\n",
    "    \n",
    "scores.sort(reverse=True)\n",
    "scores #die 0, 7 optionen für das Trainieren des großen Datensatzes verwenden"
   ]
  },
  {
   "cell_type": "markdown",
   "id": "a7f39e2d-b46f-4821-bf42-bd0bc0961771",
   "metadata": {},
   "source": [
    "### Train 2 models on whole dataset"
   ]
  },
  {
   "cell_type": "code",
   "execution_count": 10,
   "id": "45110392-5bf9-4c22-891c-4ea2d16d26f8",
   "metadata": {},
   "outputs": [
    {
     "data": {
      "text/plain": [
       "[(0, [0.9984137475214805, 2, 'distance', 'kd_tree']),\n",
       " (1, [0.9984137475214805, 2, 'distance', 'brute']),\n",
       " (2, [0.9984137475214805, 2, 'distance', 'ball_tree']),\n",
       " (3, [0.9984137475214805, 2, 'distance', 'auto']),\n",
       " (4, [0.9984137475214805, 1, 'uniform', 'kd_tree']),\n",
       " (5, [0.9984137475214805, 1, 'uniform', 'brute']),\n",
       " (6, [0.9984137475214805, 1, 'uniform', 'ball_tree']),\n",
       " (7, [0.9984137475214805, 1, 'uniform', 'auto']),\n",
       " (8, [0.9984137475214805, 1, 'distance', 'kd_tree']),\n",
       " (9, [0.9984137475214805, 1, 'distance', 'brute']),\n",
       " (10, [0.9984137475214805, 1, 'distance', 'ball_tree']),\n",
       " (11, [0.9984137475214805, 1, 'distance', 'auto']),\n",
       " (12, [0.9983476536682089, 4, 'distance', 'kd_tree']),\n",
       " (13, [0.9983476536682089, 4, 'distance', 'brute']),\n",
       " (14, [0.9983476536682089, 4, 'distance', 'ball_tree']),\n",
       " (15, [0.9983476536682089, 4, 'distance', 'auto']),\n",
       " (16, [0.9982154659616655, 3, 'distance', 'kd_tree']),\n",
       " (17, [0.9982154659616655, 3, 'distance', 'brute']),\n",
       " (18, [0.9982154659616655, 3, 'distance', 'ball_tree']),\n",
       " (19, [0.9982154659616655, 3, 'distance', 'auto']),\n",
       " (20, [0.9976867151354925, 2, 'uniform', 'kd_tree']),\n",
       " (21, [0.9976867151354925, 2, 'uniform', 'brute']),\n",
       " (22, [0.9976867151354925, 2, 'uniform', 'ball_tree']),\n",
       " (23, [0.9976867151354925, 2, 'uniform', 'auto']),\n",
       " (24, [0.9975545274289491, 3, 'uniform', 'kd_tree']),\n",
       " (25, [0.9975545274289491, 3, 'uniform', 'brute']),\n",
       " (26, [0.9975545274289491, 3, 'uniform', 'ball_tree']),\n",
       " (27, [0.9975545274289491, 3, 'uniform', 'auto']),\n",
       " (28, [0.9973562458691342, 4, 'uniform', 'kd_tree']),\n",
       " (29, [0.9973562458691342, 4, 'uniform', 'brute']),\n",
       " (30, [0.9973562458691342, 4, 'uniform', 'ball_tree']),\n",
       " (31, [0.9973562458691342, 4, 'uniform', 'auto'])]"
      ]
     },
     "execution_count": 10,
     "metadata": {},
     "output_type": "execute_result"
    }
   ],
   "source": [
    "[x for x in enumerate(scores)]"
   ]
  },
  {
   "cell_type": "code",
   "execution_count": 4,
   "id": "3ebef5ea-52da-4b5c-8726-25b5b502d238",
   "metadata": {},
   "outputs": [],
   "source": [
    "df = df.compute()\n",
    "train, test, train_lbl, test_lbl = train_test_split(df[df.columns[1:-1]], df['Label'], \n",
    "                                                    test_size=0.2, random_state=1)"
   ]
  },
  {
   "cell_type": "code",
   "execution_count": null,
   "id": "78acfb90-05b0-4540-83d7-9b915cda7aee",
   "metadata": {},
   "outputs": [],
   "source": [
    "##Model 1\n",
    "neigh_distance = KNeighborsClassifier(n_neighbors=2, weights=\"distance\", algorithm=\"kd_tree\")        \n",
    "neigh_distance.fit(train, train_lbl)\n",
    "score1 = neigh_distance.score(test, test_lbl)"
   ]
  },
  {
   "cell_type": "code",
   "execution_count": null,
   "id": "9fec4c93-8762-4641-b0a3-9e71ae8edb7d",
   "metadata": {},
   "outputs": [],
   "source": [
    "##Model 2\n",
    "neigh_uniform = KNeighborsClassifier(n_neighbors=1, weights=\"uniform\", algorithm=\"ball_tree\")        \n",
    "neigh_uniform.fit(train, train_lbl)\n",
    "score2 = neigh_uniform.score(test, test_lbl)\n",
    "print(score2)"
   ]
  },
  {
   "cell_type": "markdown",
   "id": "6e30c7b1-5b33-4c3d-bad7-c643e4ebb31b",
   "metadata": {},
   "source": [
    "## Evaluation"
   ]
  },
  {
   "cell_type": "code",
   "execution_count": 19,
   "id": "3e43db92-881d-42a5-97a9-f5bd92674354",
   "metadata": {},
   "outputs": [
    {
     "data": {
      "text/plain": [
       "<sklearn.metrics._plot.confusion_matrix.ConfusionMatrixDisplay at 0x7feb225b35e0>"
      ]
     },
     "execution_count": 19,
     "metadata": {},
     "output_type": "execute_result"
    },
    {
     "data": {
      "image/png": "[encoded data removed]",
      "text/plain": [
       "<Figure size 432x288 with 2 Axes>"
      ]
     },
     "metadata": {
      "needs_background": "light"
     },
     "output_type": "display_data"
    }
   ],
   "source": [
    "confusion_mtx1 = confusion_matrix(test_lbl, neigh_distance.predict(test))\n",
    "np.round(confusion_mtx1/len(test_lbl), 3)\n",
    "plot_confusion_matrix(neigh_distance, test, test_lbl, labels=['ddos', 'Benign'])"
   ]
  },
  {
   "cell_type": "code",
   "execution_count": null,
   "id": "3152a6c5-babb-4551-ab05-f31f007c6151",
   "metadata": {},
   "outputs": [],
   "source": [
    "confusion_mtx2 = confusion_matrix(test_lbl, neigh_uniform.predict(test))\n",
    "np.round(confusion_mtx2/len(test_lbl), 3)\n",
    "plot_confusion_matrix(neigh_uniform, test, test_lbl, labels=['ddos', 'Benign'])"
   ]
  },
  {
   "cell_type": "code",
   "execution_count": null,
   "id": "7e7fbc9e-50d1-4bb2-81aa-25be5efcca7b",
   "metadata": {},
   "outputs": [],
   "source": [
    "for i, matrix in enumerate(confusion_mtx1, confusion_mtx2):\n",
    "    fig = plt.figure()\n",
    "    plt.matshow(cm)\n",
    "    plt.title(f'Confusion Matrix for Model {i+1}')\n",
    "    plt.colorbar()\n",
    "    plt.ylabel('True Label')\n",
    "    plt.xlabel('Predicated Label')\n",
    "    plt.savefig('confusion_matrix'+str(learning_values.pop())+'.jpg')"
   ]
  },
  {
   "cell_type": "markdown",
   "id": "aec3e95c-1e07-4b39-8a75-359234ddb339",
   "metadata": {},
   "source": [
    "## Save Model"
   ]
  },
  {
   "cell_type": "code",
   "execution_count": 26,
   "id": "da3e8ca5-ceb1-4142-b3f2-e9d43901bf25",
   "metadata": {},
   "outputs": [],
   "source": [
    "## Scores:\n",
    "# Model1: 0.9997819984924865\n",
    "# Model2: 0.9997833197137442"
   ]
  },
  {
   "cell_type": "code",
   "execution_count": null,
   "id": "0024a299-3eba-4bc6-9d23-78f10aa84bfa",
   "metadata": {},
   "outputs": [],
   "source": [
    "dump(neigh_uniform, 'models/nn_u.joblib')\n",
    "#dump(neigh_distance, 'models/nn_d.joblib')"
   ]
  }
 ],
 "metadata": {
  "kernelspec": {
   "display_name": "Python 3",
   "language": "python",
   "name": "python3"
  },
  "language_info": {
   "codemirror_mode": {
    "name": "ipython",
    "version": 3
   },
   "file_extension": ".py",
   "mimetype": "text/x-python",
   "name": "python",
   "nbconvert_exporter": "python",
   "pygments_lexer": "ipython3",
   "version": "3.9.1"
  }
 },
 "nbformat": 4,
 "nbformat_minor": 5
}
