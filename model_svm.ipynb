{
 "cells": [
  {
   "cell_type": "markdown",
   "id": "0d9b307e-53bc-4418-a2d1-55c13ca0a147",
   "metadata": {},
   "source": [
    "# Support Vector Machine"
   ]
  },
  {
   "cell_type": "markdown",
   "id": "50c417d6-9bdd-4a39-981f-232a5de7ae4d",
   "metadata": {},
   "source": [
    "## Abstract\n",
    "This notebook first trains a Support Vector Classifiers and a Linear Support Vector Classifier.\n",
    "\n",
    "LinearSVC's performance was relatively poor, which is to be expected given the large number of features. \n",
    "\n",
    "The final model is based on a support vector classifer with following features:"
   ]
  },
  {
   "cell_type": "markdown",
   "id": "c6eb3b35-a59a-4565-8d66-4f4c8b294c4f",
   "metadata": {},
   "source": [
    "## Import and Settings"
   ]
  },
  {
   "cell_type": "code",
   "execution_count": 1,
   "id": "4455ad06-cd84-4334-9ad9-63ec0d9c2db6",
   "metadata": {},
   "outputs": [],
   "source": [
    "import warnings\n",
    "warnings.filterwarnings(\"ignore\")"
   ]
  },
  {
   "cell_type": "code",
   "execution_count": 2,
   "id": "be86842c-949a-4bc0-b0e3-6e09ebc69daa",
   "metadata": {},
   "outputs": [],
   "source": [
    "import numpy as np\n",
    "import seaborn as sns\n",
    "import matplotlib.pyplot as plt\n",
    "import itertools\n",
    "from joblib import dump, load"
   ]
  },
  {
   "cell_type": "code",
   "execution_count": 3,
   "id": "ef23f69a-d9ca-41c4-9841-b593913ca5ea",
   "metadata": {},
   "outputs": [],
   "source": [
    "import pandas as pd\n",
    "pd.set_option('display.max_columns', None)\n",
    "pd.set_option('display.max_rows', None)"
   ]
  },
  {
   "cell_type": "code",
   "execution_count": 4,
   "id": "7d844b7c-3a73-4274-9900-6ba4d0f15209",
   "metadata": {},
   "outputs": [],
   "source": [
    "import dask\n",
    "import dask.dataframe as dd\n",
    "import dask.array as da"
   ]
  },
  {
   "cell_type": "code",
   "execution_count": 8,
   "id": "f13584e6-9b51-40fe-aba2-6ef196eb29b7",
   "metadata": {},
   "outputs": [],
   "source": [
    "from sklearn.model_selection import train_test_split\n",
    "from sklearn.metrics import confusion_matrix, plot_confusion_matrix\n",
    "from sklearn import svm\n",
    "from sklearn.svm import LinearSVC\n",
    "from sklearn.metrics import confusion_matrix\n",
    "from sklearn.model_selection import RandomizedSearchCV"
   ]
  },
  {
   "cell_type": "code",
   "execution_count": null,
   "id": "24623c11-f000-4c16-b996-a25123b2aaa9",
   "metadata": {},
   "outputs": [],
   "source": [
    "df = dd.read_csv('prepared_ds.csv')"
   ]
  },
  {
   "cell_type": "markdown",
   "id": "f8da6ba3-9833-455c-a1ce-b9a5c9d3f77f",
   "metadata": {},
   "source": [
    "## Initialise Sample Dataframe"
   ]
  },
  {
   "cell_type": "code",
   "execution_count": 5,
   "id": "cad5fcbd-1bca-4b71-9b57-06a14ec8f454",
   "metadata": {},
   "outputs": [],
   "source": [
    "df_fast = df.sample(frac=0.01, random_state = 1).compute()"
   ]
  },
  {
   "cell_type": "markdown",
   "id": "56a74b2d-3912-4701-841b-2579a7b0564a",
   "metadata": {},
   "source": [
    "## Train-Test-Split"
   ]
  },
  {
   "cell_type": "code",
   "execution_count": 9,
   "id": "f673cc8c-b3a3-40d7-b044-bba4a65c4c75",
   "metadata": {},
   "outputs": [],
   "source": [
    "train, test, train_lbl, test_lbl = train_test_split(df_fast.loc[:, ~df_fast.columns.isin(['Unnamed: 0', \"Label\"])], df_fast[\"Label\"], test_size=0.2, random_state=1)\n",
    "X = df_fast.loc[:, ~df_fast.columns.isin(['Unnamed: 0', \"Label\"])]\n",
    "y = df_fast[\"Label\"]"
   ]
  },
  {
   "cell_type": "markdown",
   "id": "6cbfb501-fbc5-48bb-ab05-944e7a78cc0c",
   "metadata": {},
   "source": [
    "## Models"
   ]
  },
  {
   "cell_type": "markdown",
   "id": "b70aa443-2b4a-43be-8f75-5bf677c057d1",
   "metadata": {},
   "source": [
    "### SVM"
   ]
  },
  {
   "cell_type": "code",
   "execution_count": 10,
   "id": "89f7c6c6-bc85-4a87-862c-93941b3b96ab",
   "metadata": {},
   "outputs": [
    {
     "data": {
      "text/plain": [
       "0.9916749256689792"
      ]
     },
     "execution_count": 10,
     "metadata": {},
     "output_type": "execute_result"
    }
   ],
   "source": [
    "# Default SVC\n",
    "clf = svm.SVC()\n",
    "clf.fit(train, train_lbl)\n",
    "score = clf.score(test, test_lbl)\n",
    "score"
   ]
  },
  {
   "cell_type": "code",
   "execution_count": null,
   "id": "9065c99b-c5d7-4e63-a81a-051c04f25b70",
   "metadata": {},
   "outputs": [],
   "source": [
    "param_distributions = {\n",
    "    \"kernel\" : ['linear', 'poly', 'rbf', 'sigmoid', 'precomputed'],\n",
    "    \"gamma\" : ['scale', 'auto'],\n",
    "    \"degree\" : list(range(1, 15)),\n",
    "    \"gamma\" : [True, False]\n",
    "}\n",
    "\n",
    "svc = svm.SVC()\n",
    "\n",
    "# run random grid search\n",
    "grid_search_ABC = RandomizedSearchCV(svc, param_distributions=param_distributions, n_iter=4)\n",
    "grid_search_ABC.fit(df_fast.loc[:, ~df_fast.columns.isin(['Unnamed: 0', \"Label\"])], df_fast[\"Label\"])\n",
    "pd.DataFrame.from_dict(grid_search_ABC.cv_results_)"
   ]
  },
  {
   "cell_type": "markdown",
   "id": "0e8d7b41-711b-4158-b087-3889db24c132",
   "metadata": {},
   "source": [
    "#### Training the best model on the whole dataset\n",
    "kernel: rbf, gamma: auto, degree: 9, shrinking: False"
   ]
  },
  {
   "cell_type": "code",
   "execution_count": 84,
   "id": "08af16d0-87e3-445f-a68c-4a95a155d5da",
   "metadata": {},
   "outputs": [
    {
     "name": "stdout",
     "output_type": "stream",
     "text": [
      "Score: 0.9919392137429799\n",
      "Confusion Matrix\n"
     ]
    },
    {
     "data": {
      "text/plain": [
       "['models/svc_9919392137429799.joblib']"
      ]
     },
     "execution_count": 84,
     "metadata": {},
     "output_type": "execute_result"
    }
   ],
   "source": [
    "clf = svm.SVC(kernel=\"rbf\", gamma=\"auto\", degree=\"9\")\n",
    "clf.fit(train, train_lbl)\n",
    "score = clf.score(test, test_lbl)\n",
    "print(\"Score:\", score)\n",
    "print(\"Confusion Matrix\")\n",
    "confusion_matrix(test_lbl, clf.predict(test))\n",
    "dump(clf, 'models/svc_9919392137429799.model') "
   ]
  },
  {
   "cell_type": "markdown",
   "id": "8303504b-7121-4e91-bf90-3ff76b122d89",
   "metadata": {},
   "source": [
    "### LinearSVC"
   ]
  },
  {
   "cell_type": "code",
   "execution_count": 35,
   "id": "37c10725-6726-4fd0-984c-099963c7baa2",
   "metadata": {},
   "outputs": [
    {
     "data": {
      "text/plain": [
       "0.9802371541501976"
      ]
     },
     "execution_count": 35,
     "metadata": {},
     "output_type": "execute_result"
    }
   ],
   "source": [
    "clf = LinearSVC()\n",
    "clf.fit(train, train_lbl)\n",
    "score = clf.score(test, test_lbl)\n",
    "score"
   ]
  },
  {
   "cell_type": "code",
   "execution_count": 52,
   "id": "b5fa7c9d-b9c4-4e58-a54e-caade14217ae",
   "metadata": {},
   "outputs": [],
   "source": [
    "penalty = [\"l1\", \"l2\"]\n",
    "loss = [\"hinge\", \"squared_hinge\"]\n",
    "dual = [True, False]\n",
    "tol = [1e-2, 1e-3, 1e-4, 1e-5, 1e-6]"
   ]
  },
  {
   "cell_type": "code",
   "execution_count": 82,
   "id": "26e823bd-7168-408c-86cf-0908e2402eed",
   "metadata": {},
   "outputs": [],
   "source": [
    "scores = []\n",
    "for p, l, d, t in list(itertools.product(penalty, loss, dual, tol)):\n",
    "    try:    \n",
    "        clf = svm.LinearSVC(penalty=p, loss = l, dual = d, tol = t)\n",
    "        clf.fit(train2, train_lbl2)\n",
    "        score = clf.score(test2, test_lbl2)\n",
    "    except:\n",
    "        score = -1\n",
    "    s = f\"penalty: {p}, loss: {l}, dual: {d}, tol: {t}\"\n",
    "    scores.append([score, s])"
   ]
  },
  {
   "cell_type": "code",
   "execution_count": 55,
   "id": "bf8d831f-a80a-4e27-8ab4-76c84850add1",
   "metadata": {},
   "outputs": [
    {
     "name": "stdout",
     "output_type": "stream",
     "text": [
      "40\n",
      "0.9808959156785244 penalty: l1, loss: squared_hinge, dual: False, tol: 0.01\n",
      "0.9802371541501976 penalty: l2, loss: squared_hinge, dual: True, tol: 1e-06\n",
      "0.9802371541501976 penalty: l2, loss: squared_hinge, dual: True, tol: 1e-05\n",
      "0.9802371541501976 penalty: l2, loss: squared_hinge, dual: True, tol: 0.01\n",
      "0.9802371541501976 penalty: l2, loss: squared_hinge, dual: True, tol: 0.001\n",
      "0.9802371541501976 penalty: l2, loss: squared_hinge, dual: True, tol: 0.0001\n",
      "0.9795783926218709 penalty: l2, loss: squared_hinge, dual: False, tol: 1e-06\n",
      "0.9795783926218709 penalty: l2, loss: squared_hinge, dual: False, tol: 1e-05\n",
      "0.9795783926218709 penalty: l2, loss: squared_hinge, dual: False, tol: 0.001\n",
      "0.9795783926218709 penalty: l2, loss: squared_hinge, dual: False, tol: 0.0001\n"
     ]
    }
   ],
   "source": [
    "scores.sort(reverse = True)\n",
    "print(len(scores))\n",
    "for score, string in scores[:10]:\n",
    "    print(score, string)"
   ]
  },
  {
   "cell_type": "markdown",
   "id": "873bd2c9-0ef5-4abc-ad49-4cc84594c4ce",
   "metadata": {},
   "source": [
    "### Top\n",
    "0.9808959156785244 penalty: l1, loss: squared_hinge, dual: False, tol: 0.01"
   ]
  },
  {
   "cell_type": "code",
   "execution_count": 89,
   "id": "0e4ed82b-68cb-46f0-af8d-e541f4d45d21",
   "metadata": {},
   "outputs": [
    {
     "name": "stdout",
     "output_type": "stream",
     "text": [
      "Score: 0.9777337297654444\n",
      "Confusion Matrix\n"
     ]
    },
    {
     "data": {
      "text/plain": [
       "['models/linear_svc_9777998017839445.joblib']"
      ]
     },
     "execution_count": 89,
     "metadata": {},
     "output_type": "execute_result"
    }
   ],
   "source": [
    "clf = svm.LinearSVC(penalty=\"l1\", loss = \"squared_hinge\", dual = False, tol = 0.01)\n",
    "clf.fit(train2, train_lbl2)\n",
    "score = clf.score(test2, test_lbl2)\n",
    "print(\"Score:\", score)\n",
    "print(\"Confusion Matrix\")\n",
    "confusion_matrix(test_lbl2, clf.predict(test2))\n",
    "dump(clf, 'models/linear_svc_9777998017839445.model') "
   ]
  }
 ],
 "metadata": {
  "kernelspec": {
   "display_name": "Python 3",
   "language": "python",
   "name": "python3"
  },
  "language_info": {
   "codemirror_mode": {
    "name": "ipython",
    "version": 3
   },
   "file_extension": ".py",
   "mimetype": "text/x-python",
   "name": "python",
   "nbconvert_exporter": "python",
   "pygments_lexer": "ipython3",
   "version": "3.9.1"
  }
 },
 "nbformat": 4,
 "nbformat_minor": 5
}
