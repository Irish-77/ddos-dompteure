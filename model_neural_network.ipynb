{
 "cells": [
  {
   "cell_type": "markdown",
   "id": "0d9b307e-53bc-4418-a2d1-55c13ca0a147",
   "metadata": {},
   "source": [
    "# Neural Network"
   ]
  },
  {
   "cell_type": "markdown",
   "id": "c6eb3b35-a59a-4565-8d66-4f4c8b294c4f",
   "metadata": {},
   "source": [
    "## Import and Settings"
   ]
  },
  {
   "cell_type": "code",
   "execution_count": 1,
   "id": "f13584e6-9b51-40fe-aba2-6ef196eb29b7",
   "metadata": {},
   "outputs": [],
   "source": [
    "from sklearn.neural_network import MLPClassifier\n",
    "from sklearn.model_selection import train_test_split\n",
    "from sklearn.metrics import plot_confusion_matrix\n",
    "from sklearn.model_selection import RandomizedSearchCV, GridSearchCV\n",
    "from joblib import dump\n",
    "import dask.dataframe as dd\n",
    "import pandas as pd"
   ]
  },
  {
   "cell_type": "code",
   "execution_count": 2,
   "id": "d4f9dcb9-cd13-491a-9757-114980000e65",
   "metadata": {},
   "outputs": [],
   "source": [
    "df = dd.read_csv('prepared_ds.csv')"
   ]
  },
  {
   "cell_type": "markdown",
   "id": "fa7339c7-b2dc-4c99-a148-5d348e68f1f4",
   "metadata": {},
   "source": [
    "## Initialise Sample Dataframe"
   ]
  },
  {
   "cell_type": "code",
   "execution_count": 3,
   "id": "3bae4ffb-c58f-465f-be1f-55de86da1ec9",
   "metadata": {},
   "outputs": [],
   "source": [
    "df_fast = df.sample(frac=0.01, random_state = 1).compute()"
   ]
  },
  {
   "cell_type": "code",
   "execution_count": 4,
   "id": "d4198809-d62a-4756-afbf-7b22a7013986",
   "metadata": {},
   "outputs": [
    {
     "data": {
      "text/plain": [
       "(75666, 41)"
      ]
     },
     "execution_count": 4,
     "metadata": {},
     "output_type": "execute_result"
    }
   ],
   "source": [
    "df_fast.shape"
   ]
  },
  {
   "cell_type": "markdown",
   "id": "ffbad533-f5ff-4a96-a38b-40f42f44921c",
   "metadata": {},
   "source": [
    "## Train-Test-Split"
   ]
  },
  {
   "cell_type": "code",
   "execution_count": 10,
   "id": "d9933ef5-4847-4f08-8734-a7a01ef42d5f",
   "metadata": {},
   "outputs": [],
   "source": [
    "train, test, train_lbl, test_lbl = train_test_split(df_fast[df_fast.columns[~df_fast.columns.isin(['Unnamed: 0', 'Label'])]], df_fast['Label'], test_size=0.2, random_state=1)"
   ]
  },
  {
   "cell_type": "markdown",
   "id": "02e19040-ce95-4d6f-9dab-f7d7e5336f17",
   "metadata": {},
   "source": [
    "## Training"
   ]
  },
  {
   "cell_type": "code",
   "execution_count": 12,
   "id": "047a86ee-d2a1-4e3a-b0f7-43c25d2424de",
   "metadata": {},
   "outputs": [],
   "source": [
    "parameters = {\n",
    "    'hidden_layer_sizes': [(20, 10, 5)],\n",
    "    'max_iter': [1000, 2000],\n",
    "    'alpha': [1e-3, 1e-4, 1e-5, 1e-7, 1e-8],\n",
    "    'random_state': [1],\n",
    "    'activation': ('identity', 'logistic', 'tanh', 'relu'),\n",
    "    'solver': ('lbfgs', 'sgd', 'adam')\n",
    "}\n",
    "mlp = MLPClassifier()"
   ]
  },
  {
   "cell_type": "code",
   "execution_count": null,
   "id": "4fb51891-3501-414d-837d-49a6fc2019a5",
   "metadata": {},
   "outputs": [],
   "source": [
    "%%time\n",
    "clf_grid = GridSearchCV(mlp, param_grid=parameters, scoring='accuracy', n_jobs=-1, verbose=4, return_train_score=True)\n",
    "clf_grid.fit(train, train_lbl)"
   ]
  },
  {
   "cell_type": "code",
   "execution_count": null,
   "id": "e13fec01-1d58-498a-8a43-9271e8753fa7",
   "metadata": {},
   "outputs": [],
   "source": [
    "pd.DataFrame(clf_grid.cv_results_)"
   ]
  },
  {
   "cell_type": "code",
   "execution_count": 13,
   "id": "1c7f2beb-50dc-4ec6-b971-5e42ed5496d5",
   "metadata": {},
   "outputs": [
    {
     "name": "stdout",
     "output_type": "stream",
     "text": [
      "Fitting 5 folds for each of 10 candidates, totalling 50 fits\n"
     ]
    },
    {
     "name": "stderr",
     "output_type": "stream",
     "text": [
      "d:\\applications\\ddos-dompteure\\ml_vnev\\lib\\site-packages\\sklearn\\neural_network\\_multilayer_perceptron.py:500: ConvergenceWarning: lbfgs failed to converge (status=1):\n",
      "STOP: TOTAL NO. of ITERATIONS REACHED LIMIT.\n",
      "\n",
      "Increase the number of iterations (max_iter) or scale the data as shown in:\n",
      "    https://scikit-learn.org/stable/modules/preprocessing.html\n",
      "  self.n_iter_ = _check_optimize_result(\"lbfgs\", opt_res, self.max_iter)\n"
     ]
    },
    {
     "name": "stdout",
     "output_type": "stream",
     "text": [
      "Wall time: 23min 4s\n"
     ]
    },
    {
     "data": {
      "text/plain": [
       "RandomizedSearchCV(estimator=MLPClassifier(), n_jobs=-1,\n",
       "                   param_distributions={'activation': ('identity', 'logistic',\n",
       "                                                       'tanh', 'relu'),\n",
       "                                        'alpha': [0.001, 0.0001, 1e-05, 1e-07,\n",
       "                                                  1e-08],\n",
       "                                        'hidden_layer_sizes': [(20, 10, 5)],\n",
       "                                        'max_iter': [1000, 2000],\n",
       "                                        'random_state': [1],\n",
       "                                        'solver': ('lbfgs', 'sgd', 'adam')},\n",
       "                   return_train_score=True, scoring='accuracy', verbose=4)"
      ]
     },
     "execution_count": 13,
     "metadata": {},
     "output_type": "execute_result"
    }
   ],
   "source": [
    "%%time\n",
    "clf_random = RandomizedSearchCV(mlp, param_distributions=parameters, scoring='accuracy', n_jobs=-1, verbose=4, return_train_score=True)\n",
    "clf_random.fit(train, train_lbl)"
   ]
  },
  {
   "cell_type": "code",
   "execution_count": 45,
   "id": "c22d8a65-e730-4b22-a9d6-2f5e4b016612",
   "metadata": {},
   "outputs": [
    {
     "name": "stdout",
     "output_type": "stream",
     "text": [
      "0.9971585116144086 - {'solver': 'lbfgs', 'random_state': 1, 'max_iter': 1000, 'hidden_layer_sizes': (20, 10, 5), 'alpha': 1e-08, 'activation': 'tanh'}\n",
      "0.996976794462166 - {'solver': 'lbfgs', 'random_state': 1, 'max_iter': 1000, 'hidden_layer_sizes': (20, 10, 5), 'alpha': 0.0001, 'activation': 'tanh'}\n",
      "0.9968446326876828 - {'solver': 'lbfgs', 'random_state': 1, 'max_iter': 1000, 'hidden_layer_sizes': (20, 10, 5), 'alpha': 1e-05, 'activation': 'tanh'}\n",
      "0.9965968489760837 - {'solver': 'lbfgs', 'random_state': 1, 'max_iter': 2000, 'hidden_layer_sizes': (20, 10, 5), 'alpha': 1e-08, 'activation': 'logistic'}\n",
      "0.994763089856675 - {'solver': 'sgd', 'random_state': 1, 'max_iter': 1000, 'hidden_layer_sizes': (20, 10, 5), 'alpha': 1e-07, 'activation': 'tanh'}\n",
      "0.994763089856675 - {'solver': 'sgd', 'random_state': 1, 'max_iter': 2000, 'hidden_layer_sizes': (20, 10, 5), 'alpha': 0.001, 'activation': 'tanh'}\n",
      "0.9937553141954366 - {'solver': 'adam', 'random_state': 1, 'max_iter': 2000, 'hidden_layer_sizes': (20, 10, 5), 'alpha': 1e-05, 'activation': 'logistic'}\n",
      "0.9936231565146347 - {'solver': 'adam', 'random_state': 1, 'max_iter': 1000, 'hidden_layer_sizes': (20, 10, 5), 'alpha': 0.0001, 'activation': 'logistic'}\n",
      "0.9791350872693044 - {'solver': 'lbfgs', 'random_state': 1, 'max_iter': 2000, 'hidden_layer_sizes': (20, 10, 5), 'alpha': 1e-05, 'activation': 'identity'}\n",
      "0.9785238310455272 - {'solver': 'sgd', 'random_state': 1, 'max_iter': 2000, 'hidden_layer_sizes': (20, 10, 5), 'alpha': 0.001, 'activation': 'identity'}\n"
     ]
    }
   ],
   "source": [
    "pd.DataFrame(clf_grid.cv_results_)"
   ]
  },
  {
   "cell_type": "markdown",
   "id": "6e30c7b1-5b33-4c3d-bad7-c643e4ebb31b",
   "metadata": {},
   "source": [
    "## Evaluation"
   ]
  },
  {
   "cell_type": "code",
   "execution_count": null,
   "id": "46c0604a-f1f3-4376-89f3-bb46b192c324",
   "metadata": {},
   "outputs": [],
   "source": [
    "clf_grid.score(test, test_lbl)"
   ]
  },
  {
   "cell_type": "code",
   "execution_count": null,
   "id": "e538ac10-0b0f-41b1-be7b-132e91b3bcea",
   "metadata": {},
   "outputs": [],
   "source": [
    "clf_grid.best_score_"
   ]
  },
  {
   "cell_type": "code",
   "execution_count": null,
   "id": "92466c16-e01b-4a1e-a564-49d291a0a616",
   "metadata": {},
   "outputs": [],
   "source": [
    "fig_grid = plot_confusion_matrix(clf_grid, test, test_lbl, labels=['ddos', 'Benign'])\n",
    "fig_grid.ax_.set_title('Neural Network - Grid Search')\n",
    "fig_grid.figure_.savefig('img/confusion_matrix_nn_grid.png')"
   ]
  },
  {
   "cell_type": "code",
   "execution_count": 15,
   "id": "e94abcbd-9658-4547-90bb-bf4b639f9fb1",
   "metadata": {},
   "outputs": [
    {
     "data": {
      "text/plain": [
       "0.9969604863221885"
      ]
     },
     "execution_count": 15,
     "metadata": {},
     "output_type": "execute_result"
    }
   ],
   "source": [
    "clf_random.score(test, test_lbl)"
   ]
  },
  {
   "cell_type": "code",
   "execution_count": 16,
   "id": "3526ea1c-1f2f-4da7-9250-07df59f63eef",
   "metadata": {},
   "outputs": [
    {
     "data": {
      "text/plain": [
       "0.9971585116144086"
      ]
     },
     "execution_count": 16,
     "metadata": {},
     "output_type": "execute_result"
    }
   ],
   "source": [
    "clf_random.best_score_"
   ]
  },
  {
   "cell_type": "code",
   "execution_count": 17,
   "id": "0a615273-991a-455f-998d-00ee62681ecb",
   "metadata": {},
   "outputs": [
    {
     "data": {
      "image/png": "[encoded data removed]",
      "text/plain": [
       "<Figure size 432x288 with 2 Axes>"
      ]
     },
     "metadata": {
      "needs_background": "light"
     },
     "output_type": "display_data"
    }
   ],
   "source": [
    "fig_random = plot_confusion_matrix(clf_random, test, test_lbl, labels=['ddos', 'Benign'])\n",
    "fig_random.ax_.set_title('Neural Network - Random Search')\n",
    "fig_random.figure_.savefig('img/confusion_matrix_nn_random.png')"
   ]
  },
  {
   "cell_type": "markdown",
   "id": "aec3e95c-1e07-4b39-8a75-359234ddb339",
   "metadata": {},
   "source": [
    "## Save Model"
   ]
  },
  {
   "cell_type": "code",
   "execution_count": 20,
   "id": "83f64006-7e64-4c5d-a61f-c123c4d7fd51",
   "metadata": {},
   "outputs": [
    {
     "data": {
      "text/plain": [
       "['models/neural_network_2.joblib']"
      ]
     },
     "execution_count": 20,
     "metadata": {},
     "output_type": "execute_result"
    }
   ],
   "source": [
    "dump(clf_grid, 'models/neural_network_fast_grid.model')"
   ]
  },
  {
   "cell_type": "code",
   "execution_count": 22,
   "id": "611e2ab7-6225-47af-950f-b115faefb623",
   "metadata": {},
   "outputs": [
    {
     "data": {
      "text/plain": [
       "['models/neural_network_fast_random.model']"
      ]
     },
     "execution_count": 22,
     "metadata": {},
     "output_type": "execute_result"
    }
   ],
   "source": [
    "dump(clf_random, 'models/neural_network_fast_random.model')"
   ]
  }
 ],
 "metadata": {
  "kernelspec": {
   "display_name": "Python 3",
   "language": "python",
   "name": "python3"
  },
  "language_info": {
   "codemirror_mode": {
    "name": "ipython",
    "version": 3
   },
   "file_extension": ".py",
   "mimetype": "text/x-python",
   "name": "python",
   "nbconvert_exporter": "python",
   "pygments_lexer": "ipython3",
   "version": "3.9.1"
  }
 },
 "nbformat": 4,
 "nbformat_minor": 5
}
