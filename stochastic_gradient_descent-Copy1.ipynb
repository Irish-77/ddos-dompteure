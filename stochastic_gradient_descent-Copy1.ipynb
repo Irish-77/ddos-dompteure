{
 "cells": [
  {
   "cell_type": "markdown",
   "id": "0d9b307e-53bc-4418-a2d1-55c13ca0a147",
   "metadata": {},
   "source": [
    "# Stochastic Gradient Descent"
   ]
  },
  {
   "cell_type": "markdown",
   "id": "c6eb3b35-a59a-4565-8d66-4f4c8b294c4f",
   "metadata": {},
   "source": [
    "## Import and Settings"
   ]
  },
  {
   "cell_type": "code",
   "execution_count": 9,
   "id": "be86842c-949a-4bc0-b0e3-6e09ebc69daa",
   "metadata": {},
   "outputs": [],
   "source": [
    "import numpy as np"
   ]
  },
  {
   "cell_type": "code",
   "execution_count": 11,
   "id": "7d844b7c-3a73-4274-9900-6ba4d0f15209",
   "metadata": {},
   "outputs": [],
   "source": [
    "import dask\n",
    "import dask.dataframe as dd\n",
    "import dask.array as da"
   ]
  },
  {
   "cell_type": "code",
   "execution_count": 38,
   "id": "f13584e6-9b51-40fe-aba2-6ef196eb29b7",
   "metadata": {},
   "outputs": [],
   "source": [
    "from sklearn.model_selection import train_test_split\n",
    "from sklearn.linear_model import SGDClassifier\n",
    "from sklearn.metrics import confusion_matrix, plot_confusion_matrix"
   ]
  },
  {
   "cell_type": "code",
   "execution_count": 90,
   "id": "85cb0f43-0c8d-4549-8ee0-cf931edc7340",
   "metadata": {},
   "outputs": [],
   "source": [
    "from joblib import dump, load"
   ]
  },
  {
   "cell_type": "code",
   "execution_count": 12,
   "id": "d4f9dcb9-cd13-491a-9757-114980000e65",
   "metadata": {},
   "outputs": [],
   "source": [
    "df = dd.read_csv('prepared_ds.csv')"
   ]
  },
  {
   "cell_type": "code",
   "execution_count": null,
   "id": "577831c9-c65e-4e7b-a9d1-dc7a5f85feb3",
   "metadata": {},
   "outputs": [],
   "source": [
    "# load model to skip next parts\n",
    "clf = load('models/sgd.joblib')"
   ]
  },
  {
   "cell_type": "markdown",
   "id": "fa7339c7-b2dc-4c99-a148-5d348e68f1f4",
   "metadata": {},
   "source": [
    "## df_fast initialisieren (size = 0.01)"
   ]
  },
  {
   "cell_type": "code",
   "execution_count": 13,
   "id": "eb97e45b-af56-424e-8a40-1eace19896a8",
   "metadata": {},
   "outputs": [
    {
     "data": {
      "text/plain": [
       "(7591, 41)"
      ]
     },
     "execution_count": 13,
     "metadata": {},
     "output_type": "execute_result"
    }
   ],
   "source": [
    "df_fast = df.sample(frac=0.001, random_state = 1).compute()\n",
    "df_fast.shape"
   ]
  },
  {
   "cell_type": "markdown",
   "id": "ffbad533-f5ff-4a96-a38b-40f42f44921c",
   "metadata": {},
   "source": [
    "## train, test split"
   ]
  },
  {
   "cell_type": "markdown",
   "id": "02e19040-ce95-4d6f-9dab-f7d7e5336f17",
   "metadata": {},
   "source": [
    "## trainieren (80, 20, random_state = 1)"
   ]
  },
  {
   "cell_type": "code",
   "execution_count": 19,
   "id": "d9933ef5-4847-4f08-8734-a7a01ef42d5f",
   "metadata": {},
   "outputs": [],
   "source": [
    "train, test, train_lbl, test_lbl = train_test_split(df_fast[df_fast.columns[1:-1]], df_fast['Label'], \n",
    "                                                    test_size=0.2, random_state=1)"
   ]
  },
  {
   "cell_type": "markdown",
   "id": "8731d352-f989-4ebd-a2fb-efaac43bb7d8",
   "metadata": {},
   "source": [
    "## Model"
   ]
  },
  {
   "cell_type": "code",
   "execution_count": 105,
   "id": "b33fd6e0-8dfa-4fc2-9210-bd0e9d611eb1",
   "metadata": {},
   "outputs": [],
   "source": [
    "clf = SGDClassifier(loss=\"modified_huber\", penalty=\"l2\", max_iter=2000, tol=1e-3)"
   ]
  },
  {
   "cell_type": "code",
   "execution_count": 106,
   "id": "a885bb1d-57dc-4304-ac7d-5aef126dfb2e",
   "metadata": {},
   "outputs": [
    {
     "data": {
      "text/plain": [
       "SGDClassifier(loss='modified_huber', max_iter=2000)"
      ]
     },
     "execution_count": 106,
     "metadata": {},
     "output_type": "execute_result"
    }
   ],
   "source": [
    "clf.fit(train, train_lbl)"
   ]
  },
  {
   "cell_type": "markdown",
   "id": "a7f39e2d-b46f-4821-bf42-bd0bc0961771",
   "metadata": {},
   "source": [
    "## Accuracy"
   ]
  },
  {
   "cell_type": "code",
   "execution_count": 107,
   "id": "d642ce83-af77-478b-a949-86e6d4ddbf3c",
   "metadata": {},
   "outputs": [
    {
     "data": {
      "text/plain": [
       "0.9874917709019092"
      ]
     },
     "execution_count": 107,
     "metadata": {},
     "output_type": "execute_result"
    }
   ],
   "source": [
    "clf.predict(test)\n",
    "clf.score(test, test_lbl)"
   ]
  },
  {
   "cell_type": "markdown",
   "id": "6e30c7b1-5b33-4c3d-bad7-c643e4ebb31b",
   "metadata": {},
   "source": [
    "## confusion matrix (fp (wenn 1 (positiv) = DDoS) minimieren)"
   ]
  },
  {
   "cell_type": "code",
   "execution_count": 108,
   "id": "3e43db92-881d-42a5-97a9-f5bd92674354",
   "metadata": {},
   "outputs": [
    {
     "data": {
      "text/plain": [
       "<sklearn.metrics._plot.confusion_matrix.ConfusionMatrixDisplay at 0x7fee02fb0f10>"
      ]
     },
     "execution_count": 108,
     "metadata": {},
     "output_type": "execute_result"
    },
    {
     "data": {
      "image/png": "[encoded data removed]",
      "text/plain": [
       "<Figure size 432x288 with 2 Axes>"
      ]
     },
     "metadata": {
      "needs_background": "light"
     },
     "output_type": "display_data"
    }
   ],
   "source": [
    "confusion_mtx = confusion_matrix(test_lbl, clf.predict(test))\n",
    "np.round(confusion_mtx/len(test_lbl), 3)\n",
    "plot_confusion_matrix(clf, test, test_lbl, labels=['ddos', 'Benign'])"
   ]
  },
  {
   "cell_type": "markdown",
   "id": "aec3e95c-1e07-4b39-8a75-359234ddb339",
   "metadata": {},
   "source": [
    "## Modell speichern"
   ]
  },
  {
   "cell_type": "code",
   "execution_count": 109,
   "id": "0024a299-3eba-4bc6-9d23-78f10aa84bfa",
   "metadata": {},
   "outputs": [
    {
     "data": {
      "text/plain": [
       "['models/sgd.joblib']"
      ]
     },
     "execution_count": 109,
     "metadata": {},
     "output_type": "execute_result"
    }
   ],
   "source": [
    "dump(clf, 'models/sgd.joblib')"
   ]
  },
  {
   "cell_type": "code",
   "execution_count": null,
   "id": "842dbb15-6757-4502-955f-92b059e18d49",
   "metadata": {},
   "outputs": [],
   "source": []
  }
 ],
 "metadata": {
  "kernelspec": {
   "display_name": "Python 3",
   "language": "python",
   "name": "python3"
  },
  "language_info": {
   "codemirror_mode": {
    "name": "ipython",
    "version": 3
   },
   "file_extension": ".py",
   "mimetype": "text/x-python",
   "name": "python",
   "nbconvert_exporter": "python",
   "pygments_lexer": "ipython3",
   "version": "3.9.5"
  }
 },
 "nbformat": 4,
 "nbformat_minor": 5
}
