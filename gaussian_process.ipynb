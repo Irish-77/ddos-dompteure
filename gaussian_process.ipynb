{
 "cells": [
  {
   "cell_type": "markdown",
   "id": "0d9b307e-53bc-4418-a2d1-55c13ca0a147",
   "metadata": {},
   "source": [
    "# Gaussian Process Classificator"
   ]
  },
  {
   "cell_type": "markdown",
   "id": "c6eb3b35-a59a-4565-8d66-4f4c8b294c4f",
   "metadata": {},
   "source": [
    "## Import and Settings"
   ]
  },
  {
   "cell_type": "code",
   "execution_count": null,
   "id": "f13584e6-9b51-40fe-aba2-6ef196eb29b7",
   "metadata": {},
   "outputs": [],
   "source": [
    "from sklearn.gaussian_process import GaussianProcessClassifier\n",
    "from sklearn.gaussian_process.kernels import RBF\n",
    "from sklearn.model_selection import train_test_split\n",
    "from sklearn.metrics import plot_confusion_matrix\n",
    "from joblib import dump\n",
    "import dask.dataframe as dd"
   ]
  },
  {
   "cell_type": "code",
   "execution_count": 2,
   "id": "d4f9dcb9-cd13-491a-9757-114980000e65",
   "metadata": {},
   "outputs": [],
   "source": [
    "df = dd.read_csv('prepared_ds.csv')"
   ]
  },
  {
   "cell_type": "markdown",
   "id": "fa7339c7-b2dc-4c99-a148-5d348e68f1f4",
   "metadata": {},
   "source": [
    "## Initialise Sample Dataframe"
   ]
  },
  {
   "cell_type": "code",
   "execution_count": 3,
   "id": "3bae4ffb-c58f-465f-be1f-55de86da1ec9",
   "metadata": {},
   "outputs": [],
   "source": [
    "df_fast = df.sample(frac=0.001, random_state = 1).compute()"
   ]
  },
  {
   "cell_type": "code",
   "execution_count": 4,
   "id": "596502ba-a0c7-40b8-8094-d27d0c7fda98",
   "metadata": {},
   "outputs": [
    {
     "data": {
      "text/plain": [
       "(7605, 41)"
      ]
     },
     "execution_count": 4,
     "metadata": {},
     "output_type": "execute_result"
    }
   ],
   "source": [
    "df_fast.shape"
   ]
  },
  {
   "cell_type": "markdown",
   "id": "ffbad533-f5ff-4a96-a38b-40f42f44921c",
   "metadata": {},
   "source": [
    "## Train-Test-Split"
   ]
  },
  {
   "cell_type": "code",
   "execution_count": 5,
   "id": "d9933ef5-4847-4f08-8734-a7a01ef42d5f",
   "metadata": {},
   "outputs": [],
   "source": [
    "train, test, train_lbl, test_lbl = train_test_split(df_fast[df_fast.columns[~df_fast.columns.isin(['Unnamed: 0', 'Label'])]], df_fast['Label'], test_size=0.2, random_state=1)"
   ]
  },
  {
   "cell_type": "markdown",
   "id": "02e19040-ce95-4d6f-9dab-f7d7e5336f17",
   "metadata": {},
   "source": [
    "## Training"
   ]
  },
  {
   "cell_type": "code",
   "execution_count": 6,
   "id": "de04b9a0-1a6c-401b-85d3-60ad0bb3837d",
   "metadata": {},
   "outputs": [
    {
     "name": "stdout",
     "output_type": "stream",
     "text": [
      "Wall time: 1min 22s\n"
     ]
    },
    {
     "data": {
      "text/plain": [
       "GaussianProcessClassifier(copy_X_train=False,\n",
       "                          kernel=1.41**2 * RBF(length_scale=2),\n",
       "                          multi_class='one_vs_one', n_jobs=-1, optimizer=None,\n",
       "                          random_state=1)"
      ]
     },
     "execution_count": 6,
     "metadata": {},
     "output_type": "execute_result"
    }
   ],
   "source": [
    "%%time\n",
    "clf = GaussianProcessClassifier(kernel=2.0 * RBF(length_scale=2.0), optimizer=None, random_state=1, multi_class='one_vs_one', n_jobs=-1, copy_X_train=False)\n",
    "clf.fit(train, train_lbl)"
   ]
  },
  {
   "cell_type": "markdown",
   "id": "6e30c7b1-5b33-4c3d-bad7-c643e4ebb31b",
   "metadata": {},
   "source": [
    "## Evaluation"
   ]
  },
  {
   "cell_type": "code",
   "execution_count": 7,
   "id": "def83689-4b2e-4dfc-b580-f7f5ff40a767",
   "metadata": {},
   "outputs": [
    {
     "data": {
      "text/plain": [
       "0.9901380670611439"
      ]
     },
     "execution_count": 7,
     "metadata": {},
     "output_type": "execute_result"
    }
   ],
   "source": [
    "clf.score(test, test_lbl)"
   ]
  },
  {
   "cell_type": "code",
   "execution_count": 8,
   "id": "728750e1-470f-4179-a18f-fb50d16e2653",
   "metadata": {},
   "outputs": [
    {
     "data": {
      "image/png": "[encoded data removed]",
      "text/plain": [
       "<Figure size 432x288 with 2 Axes>"
      ]
     },
     "metadata": {
      "needs_background": "light"
     },
     "output_type": "display_data"
    }
   ],
   "source": [
    "fig = plot_confusion_matrix(clf, test, test_lbl, labels=['ddos', 'Benign'])\n",
    "fig.ax_.set_title('Gaussian Process Classificator')\n",
    "fig.figure_.savefig('img/confusion_matrix_gpc.png')"
   ]
  },
  {
   "cell_type": "markdown",
   "id": "50bb8967-ee38-425a-a25a-cfebc5ba8784",
   "metadata": {},
   "source": [
    "The model might be good at predicting the correct values but it takes much space and time to train and store it."
   ]
  },
  {
   "cell_type": "markdown",
   "id": "aec3e95c-1e07-4b39-8a75-359234ddb339",
   "metadata": {},
   "source": [
    "## Save Model"
   ]
  },
  {
   "cell_type": "code",
   "execution_count": 9,
   "id": "83f64006-7e64-4c5d-a61f-c123c4d7fd51",
   "metadata": {},
   "outputs": [
    {
     "data": {
      "text/plain": [
       "['models/gpc_fast.model']"
      ]
     },
     "execution_count": 9,
     "metadata": {},
     "output_type": "execute_result"
    }
   ],
   "source": [
    "dump(clf, 'models/gpc_fast.model')"
   ]
  }
 ],
 "metadata": {
  "kernelspec": {
   "display_name": "Python 3",
   "language": "python",
   "name": "python3"
  },
  "language_info": {
   "codemirror_mode": {
    "name": "ipython",
    "version": 3
   },
   "file_extension": ".py",
   "mimetype": "text/x-python",
   "name": "python",
   "nbconvert_exporter": "python",
   "pygments_lexer": "ipython3",
   "version": "3.9.1"
  }
 },
 "nbformat": 4,
 "nbformat_minor": 5
}
