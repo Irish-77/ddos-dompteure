{
 "cells": [
  {
   "cell_type": "markdown",
   "id": "0d9b307e-53bc-4418-a2d1-55c13ca0a147",
   "metadata": {},
   "source": [
    "# Gaussian Process Classificator"
   ]
  },
  {
   "cell_type": "markdown",
   "id": "c6eb3b35-a59a-4565-8d66-4f4c8b294c4f",
   "metadata": {},
   "source": [
    "## Import and Settings"
   ]
  },
  {
   "cell_type": "code",
   "execution_count": 1,
   "id": "4455ad06-cd84-4334-9ad9-63ec0d9c2db6",
   "metadata": {},
   "outputs": [],
   "source": [
    "import warnings\n",
    "warnings.filterwarnings(\"ignore\")"
   ]
  },
  {
   "cell_type": "code",
   "execution_count": 2,
   "id": "f13584e6-9b51-40fe-aba2-6ef196eb29b7",
   "metadata": {},
   "outputs": [],
   "source": [
    "from sklearn.gaussian_process import GaussianProcessClassifier\n",
    "from sklearn.gaussian_process.kernels import RBF\n",
    "from sklearn.model_selection import train_test_split\n",
    "from sklearn.metrics import confusion_matrix, plot_confusion_matrix\n",
    "from joblib import dump, load\n",
    "import dask.dataframe as dd\n",
    "import numpy as np"
   ]
  },
  {
   "cell_type": "code",
   "execution_count": 3,
   "id": "d4f9dcb9-cd13-491a-9757-114980000e65",
   "metadata": {},
   "outputs": [],
   "source": [
    "df = dd.read_csv('prepared_ds.csv')"
   ]
  },
  {
   "cell_type": "code",
   "execution_count": 4,
   "id": "9178f370-ec48-4ecc-9e07-bed50d3cfcee",
   "metadata": {},
   "outputs": [],
   "source": [
    "# load model to skip next parts\n",
    "clf = load('models/gpc.joblib')"
   ]
  },
  {
   "cell_type": "markdown",
   "id": "fa7339c7-b2dc-4c99-a148-5d348e68f1f4",
   "metadata": {},
   "source": [
    "## df_fast initialisieren (size = 0.01)"
   ]
  },
  {
   "cell_type": "code",
   "execution_count": 5,
   "id": "3bae4ffb-c58f-465f-be1f-55de86da1ec9",
   "metadata": {},
   "outputs": [],
   "source": [
    "df_fast = df.sample(frac=0.001, random_state = 1).compute()"
   ]
  },
  {
   "cell_type": "code",
   "execution_count": 6,
   "id": "596502ba-a0c7-40b8-8094-d27d0c7fda98",
   "metadata": {},
   "outputs": [
    {
     "data": {
      "text/plain": [
       "(7605, 41)"
      ]
     },
     "execution_count": 6,
     "metadata": {},
     "output_type": "execute_result"
    }
   ],
   "source": [
    "df_fast.shape"
   ]
  },
  {
   "cell_type": "markdown",
   "id": "ffbad533-f5ff-4a96-a38b-40f42f44921c",
   "metadata": {},
   "source": [
    "## train, test split"
   ]
  },
  {
   "cell_type": "code",
   "execution_count": 7,
   "id": "d9933ef5-4847-4f08-8734-a7a01ef42d5f",
   "metadata": {},
   "outputs": [],
   "source": [
    "train, test, train_lbl, test_lbl = train_test_split(df_fast[df_fast.columns[1:-1]], df_fast['Label'], test_size=0.2, random_state=1)"
   ]
  },
  {
   "cell_type": "markdown",
   "id": "02e19040-ce95-4d6f-9dab-f7d7e5336f17",
   "metadata": {},
   "source": [
    "## Training"
   ]
  },
  {
   "cell_type": "markdown",
   "id": "fd074669-3a2d-4a06-ab55-5887961cd884",
   "metadata": {},
   "source": [
    "### Model 1\n",
    "\n",
    "The accuracy increases if we choose the hidden layers to be half of the size of the previous one significantly."
   ]
  },
  {
   "cell_type": "code",
   "execution_count": 8,
   "id": "de04b9a0-1a6c-401b-85d3-60ad0bb3837d",
   "metadata": {},
   "outputs": [
    {
     "data": {
      "text/plain": [
       "GaussianProcessClassifier(copy_X_train=False, kernel=1**2 * RBF(length_scale=1),\n",
       "                          multi_class='one_vs_one', n_jobs=-1, optimizer=None,\n",
       "                          random_state=1)"
      ]
     },
     "execution_count": 8,
     "metadata": {},
     "output_type": "execute_result"
    }
   ],
   "source": [
    "clf = GaussianProcessClassifier(kernel=1.0 * RBF(length_scale=1.0), optimizer=None, random_state=1, multi_class='one_vs_one', n_jobs=-1, copy_X_train=False)\n",
    "clf.fit(train, train_lbl)"
   ]
  },
  {
   "cell_type": "markdown",
   "id": "a7f39e2d-b46f-4821-bf42-bd0bc0961771",
   "metadata": {},
   "source": [
    "#### Accuracy"
   ]
  },
  {
   "cell_type": "code",
   "execution_count": 9,
   "id": "9802f7ac-5694-4e08-8059-efaded006f28",
   "metadata": {},
   "outputs": [
    {
     "data": {
      "text/html": [
       "<div>\n",
       "<style scoped>\n",
       "    .dataframe tbody tr th:only-of-type {\n",
       "        vertical-align: middle;\n",
       "    }\n",
       "\n",
       "    .dataframe tbody tr th {\n",
       "        vertical-align: top;\n",
       "    }\n",
       "\n",
       "    .dataframe thead th {\n",
       "        text-align: right;\n",
       "    }\n",
       "</style>\n",
       "<table border=\"1\" class=\"dataframe\">\n",
       "  <thead>\n",
       "    <tr style=\"text-align: right;\">\n",
       "      <th></th>\n",
       "      <th>Unnamed: 0</th>\n",
       "      <th>Protocol_0</th>\n",
       "      <th>Protocol_6</th>\n",
       "      <th>Protocol_17</th>\n",
       "      <th>dst_port_transformed_Dynamic</th>\n",
       "      <th>dst_port_transformed_System</th>\n",
       "      <th>dst_port_transformed_User</th>\n",
       "      <th>src_port_transformed_Dynamic</th>\n",
       "      <th>src_port_transformed_System</th>\n",
       "      <th>src_port_transformed_User</th>\n",
       "      <th>...</th>\n",
       "      <th>PC-15</th>\n",
       "      <th>PC-16</th>\n",
       "      <th>PC-17</th>\n",
       "      <th>PC-18</th>\n",
       "      <th>PC-19</th>\n",
       "      <th>PC-20</th>\n",
       "      <th>PC-21</th>\n",
       "      <th>PC-22</th>\n",
       "      <th>PC-23</th>\n",
       "      <th>Label</th>\n",
       "    </tr>\n",
       "  </thead>\n",
       "  <tbody>\n",
       "    <tr>\n",
       "      <th>56145</th>\n",
       "      <td>304650</td>\n",
       "      <td>0.0</td>\n",
       "      <td>1.0</td>\n",
       "      <td>0.0</td>\n",
       "      <td>1.0</td>\n",
       "      <td>0.0</td>\n",
       "      <td>0.0</td>\n",
       "      <td>0.0</td>\n",
       "      <td>1.0</td>\n",
       "      <td>0.0</td>\n",
       "      <td>...</td>\n",
       "      <td>0.264857</td>\n",
       "      <td>0.037268</td>\n",
       "      <td>0.01309</td>\n",
       "      <td>-0.929019</td>\n",
       "      <td>-0.076213</td>\n",
       "      <td>-0.163087</td>\n",
       "      <td>0.252890</td>\n",
       "      <td>0.156876</td>\n",
       "      <td>-0.138464</td>\n",
       "      <td>ddos</td>\n",
       "    </tr>\n",
       "    <tr>\n",
       "      <th>56145</th>\n",
       "      <td>4748740</td>\n",
       "      <td>0.0</td>\n",
       "      <td>1.0</td>\n",
       "      <td>0.0</td>\n",
       "      <td>0.0</td>\n",
       "      <td>1.0</td>\n",
       "      <td>0.0</td>\n",
       "      <td>1.0</td>\n",
       "      <td>0.0</td>\n",
       "      <td>0.0</td>\n",
       "      <td>...</td>\n",
       "      <td>0.269775</td>\n",
       "      <td>0.019496</td>\n",
       "      <td>-0.02703</td>\n",
       "      <td>-0.287307</td>\n",
       "      <td>0.640327</td>\n",
       "      <td>-0.018994</td>\n",
       "      <td>-0.191823</td>\n",
       "      <td>0.009968</td>\n",
       "      <td>0.197419</td>\n",
       "      <td>Benign</td>\n",
       "    </tr>\n",
       "  </tbody>\n",
       "</table>\n",
       "<p>2 rows × 41 columns</p>\n",
       "</div>"
      ],
      "text/plain": [
       "       Unnamed: 0  Protocol_0  Protocol_6  Protocol_17  \\\n",
       "56145      304650         0.0         1.0          0.0   \n",
       "56145     4748740         0.0         1.0          0.0   \n",
       "\n",
       "       dst_port_transformed_Dynamic  dst_port_transformed_System  \\\n",
       "56145                           1.0                          0.0   \n",
       "56145                           0.0                          1.0   \n",
       "\n",
       "       dst_port_transformed_User  src_port_transformed_Dynamic  \\\n",
       "56145                        0.0                           0.0   \n",
       "56145                        0.0                           1.0   \n",
       "\n",
       "       src_port_transformed_System  src_port_transformed_User  ...     PC-15  \\\n",
       "56145                          1.0                        0.0  ...  0.264857   \n",
       "56145                          0.0                        0.0  ...  0.269775   \n",
       "\n",
       "          PC-16    PC-17     PC-18     PC-19     PC-20     PC-21     PC-22  \\\n",
       "56145  0.037268  0.01309 -0.929019 -0.076213 -0.163087  0.252890  0.156876   \n",
       "56145  0.019496 -0.02703 -0.287307  0.640327 -0.018994 -0.191823  0.009968   \n",
       "\n",
       "          PC-23   Label  \n",
       "56145 -0.138464    ddos  \n",
       "56145  0.197419  Benign  \n",
       "\n",
       "[2 rows x 41 columns]"
      ]
     },
     "execution_count": 9,
     "metadata": {},
     "output_type": "execute_result"
    }
   ],
   "source": [
    "df_fast.loc[56145]"
   ]
  },
  {
   "cell_type": "code",
   "execution_count": 10,
   "id": "c265c2d9-8f5f-4abb-b757-84dc332a5891",
   "metadata": {},
   "outputs": [
    {
     "data": {
      "text/plain": [
       "Protocol_0                      0.000000\n",
       "Protocol_6                      1.000000\n",
       "Protocol_17                     0.000000\n",
       "dst_port_transformed_Dynamic    0.000000\n",
       "dst_port_transformed_System     1.000000\n",
       "dst_port_transformed_User       0.000000\n",
       "src_port_transformed_Dynamic    1.000000\n",
       "src_port_transformed_System     0.000000\n",
       "src_port_transformed_User       0.000000\n",
       "SYN Flag Cnt                    0.000000\n",
       "RST Flag Cnt                    0.000000\n",
       "PSH Flag Cnt                    0.000000\n",
       "ACK Flag Cnt                    1.000000\n",
       "CWE Flag Count                  0.000000\n",
       "ECE Flag Cnt                    0.000000\n",
       "PC-0                           -2.190629\n",
       "PC-1                           -1.225286\n",
       "PC-2                            0.079405\n",
       "PC-3                            0.040092\n",
       "PC-4                           -0.053032\n",
       "PC-5                           -0.545471\n",
       "PC-6                           -1.306496\n",
       "PC-7                            0.521450\n",
       "PC-8                           -0.874271\n",
       "PC-9                           -0.088255\n",
       "PC-10                           0.075853\n",
       "PC-11                           0.065931\n",
       "PC-12                           0.255461\n",
       "PC-13                          -0.198897\n",
       "PC-14                           0.361161\n",
       "PC-15                           0.269775\n",
       "PC-16                           0.019496\n",
       "PC-17                          -0.027030\n",
       "PC-18                          -0.287307\n",
       "PC-19                           0.640327\n",
       "PC-20                          -0.018994\n",
       "PC-21                          -0.191823\n",
       "PC-22                           0.009968\n",
       "PC-23                           0.197419\n",
       "Name: 56145, dtype: float64"
      ]
     },
     "execution_count": 10,
     "metadata": {},
     "output_type": "execute_result"
    }
   ],
   "source": [
    "test.iloc[0]"
   ]
  },
  {
   "cell_type": "code",
   "execution_count": 11,
   "id": "17a89c9e-e1fa-437a-86b6-62269db961ee",
   "metadata": {},
   "outputs": [
    {
     "data": {
      "text/plain": [
       "array(['Benign', 'Benign', 'Benign', ..., 'Benign', 'Benign', 'ddos'],\n",
       "      dtype='<U6')"
      ]
     },
     "execution_count": 11,
     "metadata": {},
     "output_type": "execute_result"
    }
   ],
   "source": [
    "clf.predict(test)"
   ]
  },
  {
   "cell_type": "code",
   "execution_count": 12,
   "id": "def83689-4b2e-4dfc-b580-f7f5ff40a767",
   "metadata": {},
   "outputs": [
    {
     "data": {
      "text/plain": [
       "0.9894806048652203"
      ]
     },
     "execution_count": 12,
     "metadata": {},
     "output_type": "execute_result"
    }
   ],
   "source": [
    "clf.score(test, test_lbl)"
   ]
  },
  {
   "cell_type": "markdown",
   "id": "6e30c7b1-5b33-4c3d-bad7-c643e4ebb31b",
   "metadata": {},
   "source": [
    "## confusion matrix (fp (wenn 1 (positiv) = DDoS) minimieren)"
   ]
  },
  {
   "cell_type": "code",
   "execution_count": 13,
   "id": "c494f232-4de8-4b1b-b0fb-73fefd800f38",
   "metadata": {},
   "outputs": [],
   "source": [
    "confusion_mtx = confusion_matrix(test_lbl, clf.predict(test))"
   ]
  },
  {
   "cell_type": "code",
   "execution_count": 14,
   "id": "eab5fee7-1b4e-4cf4-9be2-8f2416d0f1d7",
   "metadata": {},
   "outputs": [
    {
     "data": {
      "text/plain": [
       "array([[0.824, 0.007],\n",
       "       [0.003, 0.166]])"
      ]
     },
     "execution_count": 14,
     "metadata": {},
     "output_type": "execute_result"
    }
   ],
   "source": [
    "np.round(confusion_mtx/len(test_lbl), 3)"
   ]
  },
  {
   "cell_type": "code",
   "execution_count": 15,
   "id": "728750e1-470f-4179-a18f-fb50d16e2653",
   "metadata": {},
   "outputs": [
    {
     "data": {
      "text/plain": [
       "<sklearn.metrics._plot.confusion_matrix.ConfusionMatrixDisplay at 0x1e081967c70>"
      ]
     },
     "execution_count": 15,
     "metadata": {},
     "output_type": "execute_result"
    },
    {
     "data": {
      "image/png": "[encoded data removed]",
      "text/plain": [
       "<Figure size 432x288 with 2 Axes>"
      ]
     },
     "metadata": {
      "needs_background": "light"
     },
     "output_type": "display_data"
    }
   ],
   "source": [
    "plot_confusion_matrix(clf, test, test_lbl, labels=['ddos', 'Benign'])"
   ]
  },
  {
   "cell_type": "code",
   "execution_count": 16,
   "id": "54f77fbf-7af1-4263-9f9c-c208488635c5",
   "metadata": {},
   "outputs": [
    {
     "data": {
      "text/plain": [
       "11"
      ]
     },
     "execution_count": 16,
     "metadata": {},
     "output_type": "execute_result"
    }
   ],
   "source": [
    "# false positive\n",
    "confusion_mtx[0, 1]"
   ]
  },
  {
   "cell_type": "markdown",
   "id": "50bb8967-ee38-425a-a25a-cfebc5ba8784",
   "metadata": {},
   "source": [
    "The model might be good at predicting the correct values but it takes much space and time to train it."
   ]
  },
  {
   "cell_type": "markdown",
   "id": "aec3e95c-1e07-4b39-8a75-359234ddb339",
   "metadata": {},
   "source": [
    "## Modell speichern"
   ]
  },
  {
   "cell_type": "code",
   "execution_count": 17,
   "id": "83f64006-7e64-4c5d-a61f-c123c4d7fd51",
   "metadata": {},
   "outputs": [
    {
     "data": {
      "text/plain": [
       "['models/gpc.joblib']"
      ]
     },
     "execution_count": 17,
     "metadata": {},
     "output_type": "execute_result"
    }
   ],
   "source": [
    "dump(clf, 'models/gpc.joblib')"
   ]
  }
 ],
 "metadata": {
  "kernelspec": {
   "display_name": "Python 3",
   "language": "python",
   "name": "python3"
  },
  "language_info": {
   "codemirror_mode": {
    "name": "ipython",
    "version": 3
   },
   "file_extension": ".py",
   "mimetype": "text/x-python",
   "name": "python",
   "nbconvert_exporter": "python",
   "pygments_lexer": "ipython3",
   "version": "3.9.1"
  }
 },
 "nbformat": 4,
 "nbformat_minor": 5
}
