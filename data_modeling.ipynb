{
 "cells": [
  {
   "cell_type": "markdown",
   "id": "0d9b307e-53bc-4418-a2d1-55c13ca0a147",
   "metadata": {},
   "source": [
    "# Data Preparation"
   ]
  },
  {
   "cell_type": "markdown",
   "id": "c6eb3b35-a59a-4565-8d66-4f4c8b294c4f",
   "metadata": {},
   "source": [
    "## Import and Settings"
   ]
  },
  {
   "cell_type": "code",
   "execution_count": 7,
   "id": "4455ad06-cd84-4334-9ad9-63ec0d9c2db6",
   "metadata": {},
   "outputs": [],
   "source": [
    "import warnings\n",
    "warnings.filterwarnings(\"ignore\")"
   ]
  },
  {
   "cell_type": "code",
   "execution_count": 2,
   "id": "be86842c-949a-4bc0-b0e3-6e09ebc69daa",
   "metadata": {},
   "outputs": [],
   "source": [
    "import numpy as np\n",
    "import seaborn as sns\n",
    "import matplotlib.pyplot as plt"
   ]
  },
  {
   "cell_type": "code",
   "execution_count": 3,
   "id": "ef23f69a-d9ca-41c4-9841-b593913ca5ea",
   "metadata": {},
   "outputs": [],
   "source": [
    "import pandas as pd\n",
    "pd.set_option('display.max_columns', None)\n",
    "pd.set_option('display.max_rows', None)"
   ]
  },
  {
   "cell_type": "code",
   "execution_count": 4,
   "id": "7d844b7c-3a73-4274-9900-6ba4d0f15209",
   "metadata": {},
   "outputs": [],
   "source": [
    "import dask\n",
    "import dask.dataframe as dd\n",
    "import dask.array as da"
   ]
  },
  {
   "cell_type": "code",
   "execution_count": 5,
   "id": "f13584e6-9b51-40fe-aba2-6ef196eb29b7",
   "metadata": {},
   "outputs": [],
   "source": [
    "from sklearn.preprocessing import StandardScaler\n",
    "from sklearn.linear_model import LogisticRegression\n",
    "from sklearn.model_selection import train_test_split\n",
    "from sklearn.decomposition import PCA\n",
    "from sklearn.preprocessing import OneHotEncoder"
   ]
  },
  {
   "cell_type": "code",
   "execution_count": 6,
   "id": "d4f9dcb9-cd13-491a-9757-114980000e65",
   "metadata": {},
   "outputs": [],
   "source": [
    "df = dd.read_csv('prepared_ds.csv')"
   ]
  },
  {
   "cell_type": "markdown",
   "id": "8498efc6-69f0-495b-9815-cd2d038bede0",
   "metadata": {},
   "source": [
    "## Jonas\n",
    "- Naive Bayes\n",
    "- logistische Regression"
   ]
  },
  {
   "cell_type": "markdown",
   "id": "b87f78b1-0ef9-4a04-8ec2-2908dd4874bb",
   "metadata": {},
   "source": [
    "## Ferdi\n",
    "- Stochastic Gradient Descent\n",
    "- Nearest Neighbors"
   ]
  },
  {
   "cell_type": "markdown",
   "id": "fa52b9ca-a607-47f9-aef5-7764ed3dc3b1",
   "metadata": {},
   "source": [
    "## Basti\n",
    "- Decision Trees\n",
    "  - Ensemble Methods (GradientBoostingClassifier, Random, AdaBoost)\n",
    "- Support Vector Machines"
   ]
  },
  {
   "cell_type": "markdown",
   "id": "4f4d904c-973d-43b7-9e7a-f812b41a56d4",
   "metadata": {},
   "source": [
    "## Ron\n",
    "- Neuronale Netze\n",
    "- Gaussian Process (GPC)"
   ]
  },
  {
   "cell_type": "markdown",
   "id": "fa7339c7-b2dc-4c99-a148-5d348e68f1f4",
   "metadata": {},
   "source": [
    "## df_fast initialisieren (size = 0.01)"
   ]
  },
  {
   "cell_type": "markdown",
   "id": "ffbad533-f5ff-4a96-a38b-40f42f44921c",
   "metadata": {},
   "source": [
    "## train, test split"
   ]
  },
  {
   "cell_type": "markdown",
   "id": "02e19040-ce95-4d6f-9dab-f7d7e5336f17",
   "metadata": {},
   "source": [
    "## trainieren (80, 20, random_state = 1)"
   ]
  },
  {
   "cell_type": "code",
   "execution_count": 8,
   "id": "d9933ef5-4847-4f08-8734-a7a01ef42d5f",
   "metadata": {},
   "outputs": [
    {
     "ename": "NameError",
     "evalue": "name 'X' is not defined",
     "output_type": "error",
     "traceback": [
      "\u001b[1;31m---------------------------------------------------------------------------\u001b[0m",
      "\u001b[1;31mNameError\u001b[0m                                 Traceback (most recent call last)",
      "\u001b[1;32m<ipython-input-8-5543efcd11d9>\u001b[0m in \u001b[0;36m<module>\u001b[1;34m\u001b[0m\n\u001b[1;32m----> 1\u001b[1;33m \u001b[0mtrain\u001b[0m\u001b[1;33m,\u001b[0m \u001b[0mtest\u001b[0m\u001b[1;33m,\u001b[0m \u001b[0mtrain_lbl\u001b[0m\u001b[1;33m,\u001b[0m \u001b[0mtest_lbl\u001b[0m \u001b[1;33m=\u001b[0m \u001b[0mtrain_test_split\u001b[0m\u001b[1;33m(\u001b[0m\u001b[0mX\u001b[0m\u001b[1;33m,\u001b[0m \u001b[0mY\u001b[0m\u001b[1;33m,\u001b[0m \u001b[0mtest_size\u001b[0m\u001b[1;33m=\u001b[0m\u001b[1;36m0.2\u001b[0m\u001b[1;33m,\u001b[0m \u001b[0mrandom_state\u001b[0m\u001b[1;33m=\u001b[0m\u001b[1;36m1\u001b[0m\u001b[1;33m)\u001b[0m\u001b[1;33m\u001b[0m\u001b[1;33m\u001b[0m\u001b[0m\n\u001b[0m",
      "\u001b[1;31mNameError\u001b[0m: name 'X' is not defined"
     ]
    }
   ],
   "source": [
    "train, test, train_lbl, test_lbl = train_test_split(X, Y, test_size=0.2, random_state=1)"
   ]
  },
  {
   "cell_type": "markdown",
   "id": "8731d352-f989-4ebd-a2fb-efaac43bb7d8",
   "metadata": {},
   "source": [
    "### M1"
   ]
  },
  {
   "cell_type": "markdown",
   "id": "ef84fb00-1001-41e7-9fa1-09c9162c21f1",
   "metadata": {},
   "source": [
    "### ... Model 2"
   ]
  },
  {
   "cell_type": "markdown",
   "id": "a7f39e2d-b46f-4821-bf42-bd0bc0961771",
   "metadata": {},
   "source": [
    "## Accuracy"
   ]
  },
  {
   "cell_type": "markdown",
   "id": "6e30c7b1-5b33-4c3d-bad7-c643e4ebb31b",
   "metadata": {},
   "source": [
    "## confusion matrix (fp (wenn 1 (positiv) = DDoS) minimieren)"
   ]
  },
  {
   "cell_type": "markdown",
   "id": "aec3e95c-1e07-4b39-8a75-359234ddb339",
   "metadata": {},
   "source": [
    "## Modell speichern"
   ]
  }
 ],
 "metadata": {
  "kernelspec": {
   "display_name": "Python 3",
   "language": "python",
   "name": "python3"
  },
  "language_info": {
   "codemirror_mode": {
    "name": "ipython",
    "version": 3
   },
   "file_extension": ".py",
   "mimetype": "text/x-python",
   "name": "python",
   "nbconvert_exporter": "python",
   "pygments_lexer": "ipython3",
   "version": "3.9.2"
  }
 },
 "nbformat": 4,
 "nbformat_minor": 5
}
