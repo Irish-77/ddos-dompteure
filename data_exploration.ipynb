{
 "cells": [
  {
   "cell_type": "code",
   "execution_count": 5,
   "id": "a04b9f75-3013-449b-bcf8-3c170ddc0875",
   "metadata": {},
   "outputs": [],
   "source": [
    "import pandas as pd\n",
    "pd.set_option('display.max_columns', None)\n",
    "pd.set_option('display.max_rows', None)"
   ]
  },
  {
   "cell_type": "code",
   "execution_count": 9,
   "id": "7445d995-9f6c-4ad1-93be-2fd1a1544641",
   "metadata": {},
   "outputs": [],
   "source": [
    "import dask\n",
    "import dask.dataframe as dd\n",
    "df = dd.read_csv('cleaned_ds.csv')"
   ]
  },
  {
   "cell_type": "code",
   "execution_count": 7,
   "id": "59b18d4f-8047-4693-9cb8-0b70824f0e31",
   "metadata": {},
   "outputs": [
    {
     "data": {
      "text/plain": [
       "0"
      ]
     },
     "execution_count": 7,
     "metadata": {},
     "output_type": "execute_result"
    }
   ],
   "source": [
    "df[\"Flow Byts/s\"].isnull().sum().compute()"
   ]
  },
  {
   "cell_type": "code",
   "execution_count": 8,
   "id": "fdd44089-7bff-40bd-8992-f8368bbf3c30",
   "metadata": {},
   "outputs": [
    {
     "name": "stdout",
     "output_type": "stream",
     "text": [
      "<class 'dask.dataframe.core.DataFrame'>\n",
      "Int64Index: 7586821 entries, 0 to 41111\n",
      "Data columns (total 77 columns):\n",
      " #   Column             Non-Null Count  Dtype\n",
      "---  ------             --------------  -----\n",
      " 0   Unnamed: 0         7586821 non-null      int64\n",
      " 1   Flow ID            7586821 non-null      object\n",
      " 2   Src IP             7586821 non-null      object\n",
      " 3   Src Port           7586821 non-null      int64\n",
      " 4   Dst IP             7586821 non-null      object\n",
      " 5   Dst Port           7586821 non-null      int64\n",
      " 6   Protocol           7586821 non-null      int64\n",
      " 7   Timestamp          7586821 non-null      object\n",
      " 8   Flow Duration      7586821 non-null      int64\n",
      " 9   Tot Fwd Pkts       7586821 non-null      int64\n",
      "10   Tot Bwd Pkts       7586821 non-null      int64\n",
      "11   TotLen Fwd Pkts    7586821 non-null      float64\n",
      "12   TotLen Bwd Pkts    7586821 non-null      float64\n",
      "13   Fwd Pkt Len Max    7586821 non-null      float64\n",
      "14   Fwd Pkt Len Min    7586821 non-null      float64\n",
      "15   Fwd Pkt Len Mean   7586821 non-null      float64\n",
      "16   Fwd Pkt Len Std    7586821 non-null      float64\n",
      "17   Bwd Pkt Len Max    7586821 non-null      float64\n",
      "18   Bwd Pkt Len Min    7586821 non-null      float64\n",
      "19   Bwd Pkt Len Mean   7586821 non-null      float64\n",
      "20   Bwd Pkt Len Std    7586821 non-null      float64\n",
      "21   Flow Byts/s        7586821 non-null      float64\n",
      "22   Flow Pkts/s        7586821 non-null      float64\n",
      "23   Flow IAT Mean      7586821 non-null      float64\n",
      "24   Flow IAT Std       7586821 non-null      float64\n",
      "25   Flow IAT Max       7586821 non-null      float64\n",
      "26   Flow IAT Min       7586821 non-null      float64\n",
      "27   Fwd IAT Tot        7586821 non-null      float64\n",
      "28   Fwd IAT Mean       7586821 non-null      float64\n",
      "29   Fwd IAT Std        7586821 non-null      float64\n",
      "30   Fwd IAT Max        7586821 non-null      float64\n",
      "31   Fwd IAT Min        7586821 non-null      float64\n",
      "32   Bwd IAT Tot        7586821 non-null      float64\n",
      "33   Bwd IAT Mean       7586821 non-null      float64\n",
      "34   Bwd IAT Std        7586821 non-null      float64\n",
      "35   Bwd IAT Max        7586821 non-null      float64\n",
      "36   Bwd IAT Min        7586821 non-null      float64\n",
      "37   Fwd PSH Flags      7586821 non-null      int64\n",
      "38   Bwd PSH Flags      7586821 non-null      int64\n",
      "39   Fwd Header Len     7586821 non-null      int64\n",
      "40   Bwd Header Len     7586821 non-null      int64\n",
      "41   Fwd Pkts/s         7586821 non-null      float64\n",
      "42   Bwd Pkts/s         7586821 non-null      float64\n",
      "43   Pkt Len Min        7586821 non-null      float64\n",
      "44   Pkt Len Max        7586821 non-null      float64\n",
      "45   Pkt Len Mean       7586821 non-null      float64\n",
      "46   Pkt Len Std        7586821 non-null      float64\n",
      "47   Pkt Len Var        7586821 non-null      float64\n",
      "48   FIN Flag Cnt       7586821 non-null      int64\n",
      "49   SYN Flag Cnt       7586821 non-null      int64\n",
      "50   RST Flag Cnt       7586821 non-null      int64\n",
      "51   PSH Flag Cnt       7586821 non-null      int64\n",
      "52   ACK Flag Cnt       7586821 non-null      int64\n",
      "53   URG Flag Cnt       7586821 non-null      int64\n",
      "54   CWE Flag Count     7586821 non-null      int64\n",
      "55   ECE Flag Cnt       7586821 non-null      int64\n",
      "56   Down/Up Ratio      7586821 non-null      float64\n",
      "57   Pkt Size Avg       7586821 non-null      float64\n",
      "58   Fwd Seg Size Avg   7586821 non-null      float64\n",
      "59   Bwd Seg Size Avg   7586821 non-null      float64\n",
      "60   Subflow Fwd Pkts   7586821 non-null      int64\n",
      "61   Subflow Fwd Byts   7586821 non-null      int64\n",
      "62   Subflow Bwd Pkts   7586821 non-null      int64\n",
      "63   Subflow Bwd Byts   7586821 non-null      int64\n",
      "64   Init Fwd Win Byts  7586821 non-null      int64\n",
      "65   Init Bwd Win Byts  7586821 non-null      int64\n",
      "66   Fwd Act Data Pkts  7586821 non-null      int64\n",
      "67   Fwd Seg Size Min   7586821 non-null      int64\n",
      "68   Active Mean        7586821 non-null      float64\n",
      "69   Active Std         7586821 non-null      float64\n",
      "70   Active Max         7586821 non-null      float64\n",
      "71   Active Min         7586821 non-null      float64\n",
      "72   Idle Mean          7586821 non-null      float64\n",
      "73   Idle Std           7586821 non-null      float64\n",
      "74   Idle Max           7586821 non-null      float64\n",
      "75   Idle Min           7586821 non-null      float64\n",
      "76   Label              7586821 non-null      object\n",
      "dtypes: object(5), float64(45), int64(27)"
     ]
    }
   ],
   "source": [
    "df.info(verbose=True)"
   ]
  }
 ],
 "metadata": {
  "kernelspec": {
   "display_name": "Python 3",
   "language": "python",
   "name": "python3"
  },
  "language_info": {
   "codemirror_mode": {
    "name": "ipython",
    "version": 3
   },
   "file_extension": ".py",
   "mimetype": "text/x-python",
   "name": "python",
   "nbconvert_exporter": "python",
   "pygments_lexer": "ipython3",
   "version": "3.9.2"
  }
 },
 "nbformat": 4,
 "nbformat_minor": 5
}
