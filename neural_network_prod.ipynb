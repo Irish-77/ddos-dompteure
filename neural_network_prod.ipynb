{
 "cells": [
  {
   "cell_type": "markdown",
   "id": "0d9b307e-53bc-4418-a2d1-55c13ca0a147",
   "metadata": {},
   "source": [
    "# Neural Network"
   ]
  },
  {
   "cell_type": "markdown",
   "id": "c6eb3b35-a59a-4565-8d66-4f4c8b294c4f",
   "metadata": {},
   "source": [
    "## Import and Settings"
   ]
  },
  {
   "cell_type": "code",
   "execution_count": 1,
   "id": "f13584e6-9b51-40fe-aba2-6ef196eb29b7",
   "metadata": {},
   "outputs": [],
   "source": [
    "from sklearn.neural_network import MLPClassifier\n",
    "from sklearn.model_selection import train_test_split\n",
    "from sklearn.metrics import plot_confusion_matrix\n",
    "from joblib import dump\n",
    "import dask.dataframe as dd"
   ]
  },
  {
   "cell_type": "markdown",
   "id": "fa7339c7-b2dc-4c99-a148-5d348e68f1f4",
   "metadata": {},
   "source": [
    "## Initialise Dataframe"
   ]
  },
  {
   "cell_type": "code",
   "execution_count": 5,
   "id": "d4f9dcb9-cd13-491a-9757-114980000e65",
   "metadata": {},
   "outputs": [],
   "source": [
    "df = dd.read_csv('prepared_ds.csv').compute()"
   ]
  },
  {
   "cell_type": "code",
   "execution_count": 6,
   "id": "342d77d7-97ae-4add-82c2-cd7460128aac",
   "metadata": {},
   "outputs": [
    {
     "data": {
      "text/plain": [
       "(7568754, 41)"
      ]
     },
     "execution_count": 6,
     "metadata": {},
     "output_type": "execute_result"
    }
   ],
   "source": [
    "df.shape"
   ]
  },
  {
   "cell_type": "markdown",
   "id": "00847c36-4c84-4f45-8ca9-8b42f3aac4d9",
   "metadata": {},
   "source": [
    "## Train-Test-Split"
   ]
  },
  {
   "cell_type": "code",
   "execution_count": 7,
   "id": "76d3c36a-ee6d-49d9-9211-7f8f3b65e564",
   "metadata": {},
   "outputs": [],
   "source": [
    "train, test, train_lbl, test_lbl = train_test_split(df[df.columns[~df.columns.isin(['Unnamed: 0', 'Label'])]], df['Label'], test_size=0.01, random_state=1, shuffle=True)"
   ]
  },
  {
   "cell_type": "code",
   "execution_count": 8,
   "id": "face6eed-fb66-4ecb-80cf-bd0afe93684f",
   "metadata": {},
   "outputs": [],
   "source": [
    "del df"
   ]
  },
  {
   "cell_type": "code",
   "execution_count": 9,
   "id": "53c72093-79ec-4c45-89f8-5dcec01eca9f",
   "metadata": {},
   "outputs": [
    {
     "data": {
      "text/plain": [
       "(7493066, 39)"
      ]
     },
     "execution_count": 9,
     "metadata": {},
     "output_type": "execute_result"
    }
   ],
   "source": [
    "train.shape"
   ]
  },
  {
   "cell_type": "code",
   "execution_count": 10,
   "id": "a6f8bc6c-8fff-44fe-b358-a2785768a024",
   "metadata": {},
   "outputs": [
    {
     "data": {
      "text/plain": [
       "(75688, 39)"
      ]
     },
     "execution_count": 10,
     "metadata": {},
     "output_type": "execute_result"
    }
   ],
   "source": [
    "test.shape"
   ]
  },
  {
   "cell_type": "markdown",
   "id": "02e19040-ce95-4d6f-9dab-f7d7e5336f17",
   "metadata": {},
   "source": [
    "## Training"
   ]
  },
  {
   "cell_type": "code",
   "execution_count": 5,
   "id": "047a86ee-d2a1-4e3a-b0f7-43c25d2424de",
   "metadata": {},
   "outputs": [],
   "source": [
    "clf1 = MLPClassifier(solver='lbfgs', random_state=1, max_iter=1000, hidden_layer_sizes=(20, 10, 5), alpha=1e-08, activation='tanh')\n",
    "clf1.fit(train, train_lbl)"
   ]
  },
  {
   "cell_type": "code",
   "execution_count": 6,
   "id": "f57a76e1-bc4e-4771-8681-bda99cbd28f1",
   "metadata": {},
   "outputs": [],
   "source": [
    "clf2 = MLPClassifier(solver='lbfgs', random_state=1, max_iter=1000, hidden_layer_sizes=(20, 10, 5), alpha=1e-04, activation='tanh')\n",
    "clf2.fit(train, train_lbl)"
   ]
  },
  {
   "cell_type": "markdown",
   "id": "7957fe3b-e234-4273-957f-edfcc3a935ed",
   "metadata": {},
   "source": [
    "## Evaluation"
   ]
  },
  {
   "cell_type": "code",
   "execution_count": null,
   "id": "f3324ca5-24bf-48d4-8334-bbb4648ed863",
   "metadata": {},
   "outputs": [],
   "source": [
    "fig_grid = plot_confusion_matrix(clf1, test, test_lbl, labels=['ddos', 'Benign'])\n",
    "fig_grid.ax_.set_title('Neural Network')\n",
    "fig_grid.figure_.savefig('img/confusion_matrix_nn_1.png')"
   ]
  },
  {
   "cell_type": "code",
   "execution_count": null,
   "id": "77196eb7-a9af-47d1-a00c-7e6510cb7a5b",
   "metadata": {},
   "outputs": [],
   "source": [
    "fig_random = plot_confusion_matrix(clf2, test, test_lbl, labels=['ddos', 'Benign'])\n",
    "fig_random.ax_.set_title('Neural Network')\n",
    "fig_random.figure_.savefig('img/confusion_matrix_nn_2.png')"
   ]
  },
  {
   "cell_type": "markdown",
   "id": "aec3e95c-1e07-4b39-8a75-359234ddb339",
   "metadata": {},
   "source": [
    "## Save Modell"
   ]
  },
  {
   "cell_type": "code",
   "execution_count": 13,
   "id": "83f64006-7e64-4c5d-a61f-c123c4d7fd51",
   "metadata": {},
   "outputs": [
    {
     "data": {
      "text/plain": [
       "['models/neural_network_1.model']"
      ]
     },
     "execution_count": 13,
     "metadata": {},
     "output_type": "execute_result"
    }
   ],
   "source": [
    "dump(clf1, 'models/neural_network_1.model')"
   ]
  },
  {
   "cell_type": "code",
   "execution_count": null,
   "id": "2a870bab-45e1-4884-9055-b312035e526f",
   "metadata": {},
   "outputs": [],
   "source": [
    "dump(clf2, 'models/neural_network_2.model')"
   ]
  }
 ],
 "metadata": {
  "kernelspec": {
   "display_name": "Python 3",
   "language": "python",
   "name": "python3"
  },
  "language_info": {
   "codemirror_mode": {
    "name": "ipython",
    "version": 3
   },
   "file_extension": ".py",
   "mimetype": "text/x-python",
   "name": "python",
   "nbconvert_exporter": "python",
   "pygments_lexer": "ipython3",
   "version": "3.9.1"
  }
 },
 "nbformat": 4,
 "nbformat_minor": 5
}
